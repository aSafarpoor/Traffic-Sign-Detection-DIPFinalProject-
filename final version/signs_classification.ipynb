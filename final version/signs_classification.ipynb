{
  "cells": [
    {
      "cell_type": "code",
      "execution_count": 1,
      "metadata": {
        "id": "wLa69O4XW_io"
      },
      "outputs": [],
      "source": [
        "import numpy as np\n",
        "import pandas as pd\n",
        "from matplotlib import pyplot as plt\n",
        "import cv2\n",
        "from google.colab.patches import cv2_imshow\n",
        "import os\n",
        "from tqdm import tqdm\n",
        "import subprocess\n",
        "import random\n",
        "\n",
        "from skimage.feature import hog\n",
        "from skimage import exposure"
      ]
    },
    {
      "cell_type": "code",
      "execution_count": 2,
      "metadata": {
        "colab": {
          "base_uri": "https://localhost:8080/"
        },
        "id": "Iwh0uNAV6k3-",
        "outputId": "5710c99f-26a8-4fd1-ad67-8379121ce2fd"
      },
      "outputs": [
        {
          "output_type": "stream",
          "name": "stdout",
          "text": [
            "Mounted at /content/drive\n"
          ]
        }
      ],
      "source": [
        "from google.colab import drive\n",
        "drive.mount('/content/drive')"
      ]
    },
    {
      "cell_type": "code",
      "execution_count": 384,
      "metadata": {
        "colab": {
          "base_uri": "https://localhost:8080/"
        },
        "id": "9h-Iwgms6s2z",
        "outputId": "667eb7d9-6a9a-4e6a-e569-f2ca02953c61"
      },
      "outputs": [
        {
          "output_type": "stream",
          "name": "stdout",
          "text": [
            "/content/drive/MyDrive/DATA/55\n"
          ]
        }
      ],
      "source": [
        "%cd \"../\""
      ]
    },
    {
      "cell_type": "code",
      "execution_count": 237,
      "metadata": {
        "colab": {
          "base_uri": "https://localhost:8080/"
        },
        "id": "R3_PTwOw6z1P",
        "outputId": "ad717d79-045d-4e52-df08-90c69a592f55"
      },
      "outputs": [
        {
          "output_type": "stream",
          "name": "stdout",
          "text": [
            "1   11\t13  15\t17  19\t20  22\t24  4  6  8\n",
            "10  12\t14  16\t18  2\t21  23\t3   5  7  9\n"
          ]
        }
      ],
      "source": [
        "!ls"
      ]
    },
    {
      "cell_type": "code",
      "execution_count": 470,
      "metadata": {
        "colab": {
          "base_uri": "https://localhost:8080/"
        },
        "id": "FiW6PGCR64q1",
        "outputId": "9ba30784-7471-4608-ee76-44984344aa23"
      },
      "outputs": [
        {
          "output_type": "stream",
          "name": "stdout",
          "text": [
            "/content/drive/MyDrive/DATA/55\n",
            "/content/drive/MyDrive/DATA/55\n",
            "/content/drive/MyDrive/DATA/55\n",
            "/content/drive/MyDrive/DATA/55\n",
            "/content/drive/MyDrive/DATA/55\n",
            "/content/drive/MyDrive/DATA/55\n",
            "/content/drive/MyDrive/DATA/55\n",
            "/content/drive/MyDrive/DATA/55\n",
            "/content/drive/MyDrive/DATA/55\n",
            "/content/drive/MyDrive/DATA/55\n",
            "/content/drive/MyDrive/DATA/55\n",
            "/content/drive/MyDrive/DATA/55\n"
          ]
        }
      ],
      "source": [
        "namelist = []\n",
        "labellist = []\n",
        "classes=range(1,13)\n",
        "for i in (classes):\n",
        "    os.chdir(str(i))\n",
        "    output = subprocess.check_output([\"ls\"]).decode()\n",
        "    \n",
        "    templist = output.split('\\n')\n",
        "    for j in templist:\n",
        "        namelist.append(str(i)+'/'+str(j))\n",
        "        labellist.append(i%12)\n",
        "    %cd .."
      ]
    },
    {
      "cell_type": "code",
      "execution_count": 471,
      "metadata": {
        "colab": {
          "base_uri": "https://localhost:8080/"
        },
        "id": "qjcAHA__7a8B",
        "outputId": "d7ea8d8c-602e-40cb-d66a-8ce299c7d692"
      },
      "outputs": [
        {
          "output_type": "stream",
          "name": "stderr",
          "text": [
            "100%|██████████| 296/296 [00:00<00:00, 520.77it/s]\n"
          ]
        }
      ],
      "source": [
        "ims = []\n",
        "labels = []\n",
        "\n",
        "for c in tqdm(range(len(namelist))):\n",
        "    name = namelist[c]\n",
        "    im = cv2.imread(name)\n",
        "    try:\n",
        "        len(im)<1\n",
        "        ims.append(im)\n",
        "        labels.append(labellist[c])\n",
        "        # print(name,labellist[c])\n",
        "    except:\n",
        "        pass"
      ]
    },
    {
      "cell_type": "code",
      "execution_count": 472,
      "metadata": {
        "colab": {
          "base_uri": "https://localhost:8080/"
        },
        "id": "p6un2GYUDirZ",
        "outputId": "fd19cfa2-e444-4d6a-f4e7-6cc2bc6db4e1"
      },
      "outputs": [
        {
          "output_type": "execute_result",
          "data": {
            "text/plain": [
              "(296, 296)"
            ]
          },
          "metadata": {},
          "execution_count": 472
        }
      ],
      "source": [
        "len(namelist),len(labellist)"
      ]
    },
    {
      "cell_type": "code",
      "execution_count": 473,
      "metadata": {
        "colab": {
          "base_uri": "https://localhost:8080/"
        },
        "id": "lUleqoqX90yG",
        "outputId": "a4c1e924-5b30-4003-861d-c17f95de6a0a"
      },
      "outputs": [
        {
          "output_type": "stream",
          "name": "stdout",
          "text": [
            "Looking in indexes: https://pypi.org/simple, https://us-python.pkg.dev/colab-wheels/public/simple/\n",
            "Requirement already satisfied: Image in /usr/local/lib/python3.7/dist-packages (1.5.33)\n",
            "Requirement already satisfied: six in /usr/local/lib/python3.7/dist-packages (from Image) (1.15.0)\n",
            "Requirement already satisfied: django in /usr/local/lib/python3.7/dist-packages (from Image) (3.2.15)\n",
            "Requirement already satisfied: pillow in /usr/local/lib/python3.7/dist-packages (from Image) (7.1.2)\n",
            "Requirement already satisfied: asgiref<4,>=3.3.2 in /usr/local/lib/python3.7/dist-packages (from django->Image) (3.5.2)\n",
            "Requirement already satisfied: pytz in /usr/local/lib/python3.7/dist-packages (from django->Image) (2022.2.1)\n",
            "Requirement already satisfied: sqlparse>=0.2.2 in /usr/local/lib/python3.7/dist-packages (from django->Image) (0.4.2)\n",
            "Requirement already satisfied: typing-extensions in /usr/local/lib/python3.7/dist-packages (from asgiref<4,>=3.3.2->django->Image) (4.1.1)\n"
          ]
        }
      ],
      "source": [
        "!pip install Image"
      ]
    },
    {
      "cell_type": "code",
      "execution_count": 474,
      "metadata": {
        "id": "ipaYCpb495Xy"
      },
      "outputs": [],
      "source": [
        "import colorsys\n",
        "\n",
        "def HSVColor(img):\n",
        "    shapee = img.shape\n",
        "    temp = img.reshape(-1,3)\n",
        "    # print(temp.shape,temp[0])\n",
        "    temp2 = [colorsys.rgb_to_hsv(im[0],im[1],im[2]) for im in temp]\n",
        "    img = np.array(temp2).reshape(shapee)\n",
        "    img[:,:,2]/=255\n",
        "    return img"
      ]
    },
    {
      "cell_type": "code",
      "execution_count": 475,
      "metadata": {
        "colab": {
          "base_uri": "https://localhost:8080/"
        },
        "id": "4rGUFIyk96rb",
        "outputId": "4a20cb88-b3de-4d66-ff3c-090794c4083d"
      },
      "outputs": [
        {
          "output_type": "execute_result",
          "data": {
            "text/plain": [
              "array([[[0.36666667, 0.5       , 0.78431373]]])"
            ]
          },
          "metadata": {},
          "execution_count": 475
        }
      ],
      "source": [
        "HSVColor(np.array([[[100,200,120]]]))\n"
      ]
    },
    {
      "cell_type": "code",
      "execution_count": 476,
      "metadata": {
        "colab": {
          "base_uri": "https://localhost:8080/",
          "height": 81
        },
        "id": "cQMlD15t9_M_",
        "outputId": "d6b5bf83-1c7f-42a5-c5d9-e8d8a625a081"
      },
      "outputs": [
        {
          "output_type": "display_data",
          "data": {
            "text/plain": [
              "<PIL.Image.Image image mode=RGB size=32x32 at 0x7F04D83396D0>"
            ],
            "image/png": "[encoded data removed]"
          },
          "metadata": {}
        },
        {
          "output_type": "display_data",
          "data": {
            "text/plain": [
              "<PIL.Image.Image image mode=RGB size=32x32 at 0x7F04CEAF1BD0>"
            ],
            "image/png": "[encoded data removed]"
          },
          "metadata": {}
        }
      ],
      "source": [
        "im = np.copy(ims[0])\n",
        "cv2_imshow(im)\n",
        "im = HSVColor(im)\n",
        "cv2_imshow(im)\n"
      ]
    },
    {
      "cell_type": "code",
      "execution_count": 477,
      "metadata": {
        "id": "i2PfJkun-H-r"
      },
      "outputs": [],
      "source": [
        "from scipy.fft import fft, fftfreq, fft2, ifft2"
      ]
    },
    {
      "cell_type": "code",
      "execution_count": 478,
      "metadata": {
        "colab": {
          "base_uri": "https://localhost:8080/",
          "height": 148
        },
        "id": "texCtrH5-L5B",
        "outputId": "c9ff4c7d-25fb-4b05-effa-5d041c2c702a"
      },
      "outputs": [
        {
          "output_type": "display_data",
          "data": {
            "text/plain": [
              "<PIL.Image.Image image mode=RGB size=32x32 at 0x7F04D8385ED0>"
            ],
            "image/png": "[encoded data removed]"
          },
          "metadata": {}
        },
        {
          "output_type": "stream",
          "name": "stderr",
          "text": [
            "/usr/local/lib/python3.7/dist-packages/google/colab/patches/__init__.py:18: ComplexWarning: Casting complex values to real discards the imaginary part\n",
            "  a = a.clip(0, 255).astype('uint8')\n"
          ]
        },
        {
          "output_type": "display_data",
          "data": {
            "text/plain": [
              "<PIL.Image.Image image mode=RGB size=32x32 at 0x7F04D8330110>"
            ],
            "image/png": "[encoded data removed]"
          },
          "metadata": {}
        },
        {
          "output_type": "display_data",
          "data": {
            "text/plain": [
              "<PIL.Image.Image image mode=RGB size=32x32 at 0x7F04CF8E0450>"
            ],
            "image/png": "[encoded data removed]"
          },
          "metadata": {}
        }
      ],
      "source": [
        "# im = np.copy(ims[0])\n",
        "fft_img = np.fft.fft2(im)\n",
        "fft_img_shift = np.fft.fftshift(fft_img)\n",
        "cv2_imshow(im)\n",
        "cv2_imshow(fft_img)\n",
        "cv2_imshow(fft_img_shift)"
      ]
    },
    {
      "cell_type": "code",
      "execution_count": 479,
      "metadata": {
        "id": "MwoFRqhq-Nvp"
      },
      "outputs": [],
      "source": [
        "sample = np.copy(fft_img_shift)"
      ]
    },
    {
      "cell_type": "code",
      "execution_count": 480,
      "metadata": {
        "colab": {
          "base_uri": "https://localhost:8080/",
          "height": 209
        },
        "id": "YLyuUe5Z-TGo",
        "outputId": "633fc4e9-235e-4702-9aeb-e3e547b8263d"
      },
      "outputs": [
        {
          "output_type": "display_data",
          "data": {
            "text/plain": [
              "<PIL.Image.Image image mode=L size=32x32 at 0x7F04CEAF1A50>"
            ],
            "image/png": "[encoded data removed]"
          },
          "metadata": {}
        },
        {
          "output_type": "display_data",
          "data": {
            "text/plain": [
              "<PIL.Image.Image image mode=L size=32x32 at 0x7F04D83224D0>"
            ],
            "image/png": "[encoded data removed]"
          },
          "metadata": {}
        },
        {
          "output_type": "display_data",
          "data": {
            "text/plain": [
              "<PIL.Image.Image image mode=L size=32x32 at 0x7F04CEB7B890>"
            ],
            "image/png": "[encoded data removed]"
          },
          "metadata": {}
        },
        {
          "output_type": "display_data",
          "data": {
            "text/plain": [
              "<PIL.Image.Image image mode=L size=32x32 at 0x7F04CABB9E50>"
            ],
            "image/png": "[encoded data removed]"
          },
          "metadata": {}
        },
        {
          "output_type": "display_data",
          "data": {
            "text/plain": [
              "<PIL.Image.Image image mode=L size=32x32 at 0x7F04D8334F90>"
            ],
            "image/png": "[encoded data removed]"
          },
          "metadata": {}
        },
        {
          "output_type": "display_data",
          "data": {
            "text/plain": [
              "<PIL.Image.Image image mode=L size=32x32 at 0x7F04CABB9390>"
            ],
            "image/png": "[encoded data removed]"
          },
          "metadata": {}
        }
      ],
      "source": [
        "s0 = sample[:,:,0]\n",
        "s1 = sample[:,:,1]\n",
        "s2 = sample[:,:,2]\n",
        "\n",
        "cv2_imshow(im[:,:,0])\n",
        "cv2_imshow(s0)\n",
        "cv2_imshow(im[:,:,1])\n",
        "cv2_imshow(s1)\n",
        "cv2_imshow(im[:,:,2])\n",
        "cv2_imshow(s2)"
      ]
    },
    {
      "cell_type": "code",
      "execution_count": 481,
      "metadata": {
        "id": "93xx0Ajk-Wpr"
      },
      "outputs": [],
      "source": [
        "def distance(a,b):\n",
        "    return round(((a[0]-b[0])**2+(a[1]-b[1])**2)**0.5,2)"
      ]
    },
    {
      "cell_type": "code",
      "execution_count": 482,
      "metadata": {
        "colab": {
          "base_uri": "https://localhost:8080/",
          "height": 49
        },
        "id": "JLGLepqe-Zwr",
        "outputId": "ff586ef8-d375-46cb-a865-fa8ef41dc1c9"
      },
      "outputs": [
        {
          "output_type": "display_data",
          "data": {
            "text/plain": [
              "<PIL.Image.Image image mode=L size=32x32 at 0x7F04CEAF1450>"
            ],
            "image/png": "[encoded data removed]"
          },
          "metadata": {}
        }
      ],
      "source": [
        "def func(sample):\n",
        "    sample = np.copy(sample)\n",
        "    s0 = sample[:,:,0]\n",
        "    d1,d2 = s0.shape\n",
        "    m1,m2 = (d1-1)/2,(d2-1)/2\n",
        "    # print(distance([0,0],[m1,m2]))\n",
        "    ths = [4,8,12,16]\n",
        "    lavels_point = np.zeros((d1,d2))\n",
        "    for i in range(d1):\n",
        "        for j in range(d2):\n",
        "            d = distance([i,j],[m1,m1])\n",
        "            if d<ths[0]:\n",
        "                lavels_point[i][j] = 0\n",
        "            elif d<ths[1]:\n",
        "                lavels_point[i][j] = 255\n",
        "            elif d<ths[2]:\n",
        "                lavels_point[i][j] = 0\n",
        "            elif d<ths[3]:\n",
        "                lavels_point[i][j] = 255\n",
        "            else:\n",
        "                lavels_point[i][j] = 128\n",
        "    \n",
        "    cv2_imshow(lavels_point)\n",
        "\n",
        "func(sample)"
      ]
    },
    {
      "cell_type": "code",
      "execution_count": 483,
      "metadata": {
        "colab": {
          "base_uri": "https://localhost:8080/"
        },
        "id": "6YPwIC-_-be3",
        "outputId": "d1709160-b464-4ed6-a107-10f2febbb9a9"
      },
      "outputs": [
        {
          "output_type": "stream",
          "name": "stderr",
          "text": [
            "/usr/local/lib/python3.7/dist-packages/ipykernel_launcher.py:25: VisibleDeprecationWarning: Creating an ndarray from ragged nested sequences (which is a list-or-tuple of lists-or-tuples-or ndarrays with different lengths or shapes) is deprecated. If you meant to do this, you must specify 'dtype=object' when creating the ndarray.\n"
          ]
        }
      ],
      "source": [
        "def func(sample):\n",
        "    sample = np.copy(sample)\n",
        "    s0 = sample[:,:,0]\n",
        "    s1 = sample[:,:,1]\n",
        "    s2 = sample[:,:,2]\n",
        "    d1,d2 = s1.shape\n",
        "    m1,m2 = (d1-1)/2,(d2-1)/2\n",
        "    # print(distance([0,0],[m1,m2]))\n",
        "    ths = [4,8,12,16]\n",
        "    lavels_point = [[],[],[],[],[]]\n",
        "    sample = s1\n",
        "    for i in range(d1):\n",
        "        for j in range(d2):\n",
        "            d = distance([i,j],[m1,m1])\n",
        "            if d<ths[0]:\n",
        "                lavels_point[0].append(sample[i][j])\n",
        "            elif d<ths[1]:\n",
        "                lavels_point[1].append(sample[i][j])\n",
        "            elif d<ths[2]:\n",
        "                lavels_point[2].append(sample[i][j])\n",
        "            elif d<ths[3]:\n",
        "                lavels_point[3].append(sample[i][j])\n",
        "            else:\n",
        "                lavels_point[4].append(sample[i][j])\n",
        "    lavels_point = np.array(lavels_point)\n",
        "    return lavels_point\n",
        "\n",
        "lavels_point = func(sample)"
      ]
    },
    {
      "cell_type": "code",
      "execution_count": 484,
      "metadata": {
        "id": "GorHPRZp-fX7"
      },
      "outputs": [],
      "source": [
        "def fft_feature_extractior(im):\n",
        "    flist = []\n",
        "\n",
        "    fft_img = np.fft.fft2(im)\n",
        "    sample = np.fft.fftshift(fft_img)\n",
        "    \n",
        "    s0 = sample[:,:,0]\n",
        "    s1 = sample[:,:,1]\n",
        "    s2 = sample[:,:,2]\n",
        "\n",
        "    lp0 = func(s0)\n",
        "    lp1 = func(s1)\n",
        "    lp2 = func(s2)\n",
        "\n",
        "    def convertor_23(lp,flist):\n",
        "        out = [np.mean(lp[0]),np.mean(lp[1]),np.mean(lp[2]),np.mean(lp[3]),np.mean(lp[4])]\n",
        "        absout = list(map(abs,out))\n",
        "        for i in range(len(out)):\n",
        "            flist.append(absout[i])\n",
        "            flist.apppend(np.angle(out[i]))\n",
        "        return flist \n",
        "    \n",
        "    flist = convertor_23(lp0,flist)\n",
        "    flist = convertor_23(lp1,flist)\n",
        "    flist = convertor_23(lp2,flist)\n",
        "\n",
        "    return flist"
      ]
    },
    {
      "cell_type": "code",
      "execution_count": 485,
      "metadata": {
        "colab": {
          "base_uri": "https://localhost:8080/"
        },
        "id": "-o3u6QTx-jRe",
        "outputId": "092aba66-c854-4b99-ddbd-f7ca76715788"
      },
      "outputs": [
        {
          "output_type": "stream",
          "name": "stdout",
          "text": [
            "(4.760410404182673-0.015045856162544682j) \n",
            "   --------------------------------------->  4.76043418125262\n",
            "(4.760410404182673-0.015045856162544682j) \n",
            "   ------------------------------------------------------------------>  -0.0031606111206893893\n",
            "(2.2544206350452476+0.002236015961664678j) \n",
            "   --------------------------------------->  2.2544217439257452\n",
            "(2.2544206350452476+0.002236015961664678j) \n",
            "   ------------------------------------------------------------------>  0.0009918358595939296\n",
            "(1.7078075061523388-0.021171772223784375j) \n",
            "   --------------------------------------->  1.7079387348524437\n",
            "(1.7078075061523388-0.021171772223784375j) \n",
            "   ------------------------------------------------------------------>  -0.012396413319509272\n",
            "(0.7806851917642762+0.03126434518840849j) \n",
            "   --------------------------------------->  0.7813109674899519\n",
            "(0.7806851917642762+0.03126434518840849j) \n",
            "   ------------------------------------------------------------------>  0.0400259256810288\n",
            "(0.02465684670062617-0.027667123983206626j) \n",
            "   --------------------------------------->  0.03705981433736962\n",
            "(0.02465684670062617-0.027667123983206626j) \n",
            "   ------------------------------------------------------------------>  -0.8428663296967432\n"
          ]
        }
      ],
      "source": [
        "out = [np.mean(lavels_point[0]),np.mean(lavels_point[1]),np.mean(lavels_point[2]),np.mean(lavels_point[3]),np.mean(lavels_point[4])]\n",
        "absout = list(map(abs,out))\n",
        "for i in range(len(out)):\n",
        "    print(out[i],'\\n   ---------------------------------------> ',absout[i])\n",
        "    print(out[i],'\\n   ------------------------------------------------------------------> ',np.angle(out[i]))"
      ]
    },
    {
      "cell_type": "code",
      "execution_count": 486,
      "metadata": {
        "colab": {
          "base_uri": "https://localhost:8080/",
          "height": 113
        },
        "id": "c7kXhadk-m8E",
        "outputId": "440d7bcb-af98-4db0-c16e-e9d8f7328a1b"
      },
      "outputs": [
        {
          "output_type": "display_data",
          "data": {
            "text/plain": [
              "<PIL.Image.Image image mode=RGB size=32x32 at 0x7F04D6FF3890>"
            ],
            "image/png": "[encoded data removed]"
          },
          "metadata": {}
        },
        {
          "output_type": "display_data",
          "data": {
            "text/plain": [
              "<PIL.Image.Image image mode=RGB size=32x32 at 0x7F04D83394D0>"
            ],
            "image/png": "[encoded data removed]"
          },
          "metadata": {}
        },
        {
          "output_type": "display_data",
          "data": {
            "text/plain": [
              "<PIL.Image.Image image mode=RGB size=32x32 at 0x7F04D8339410>"
            ],
            "image/png": "[encoded data removed]"
          },
          "metadata": {}
        }
      ],
      "source": [
        "r = im[:,:,0]\n",
        "g = im[:,:,1]\n",
        "b = im[:,:,2]\n",
        "z = np.zeros(b.shape)\n",
        "cv2_imshow(np.array([r,z,z]).transpose())\n",
        "cv2_imshow(np.array([z,g,z]).transpose())\n",
        "cv2_imshow(np.array([z,z,b]).transpose())"
      ]
    },
    {
      "cell_type": "code",
      "execution_count": 487,
      "metadata": {
        "id": "UCjctMIy-q27"
      },
      "outputs": [],
      "source": [
        "class feature_extraction():\n",
        "    def __init__(self):\n",
        "        pass\n",
        "    \n",
        "    @staticmethod\n",
        "    def binary(img,th=0.5):\n",
        "        img2 = np.copy(img)\n",
        "        img2[img2>th]=1\n",
        "        img2[img2<1]=0\n",
        "        return img2\n",
        "    \n",
        "    @staticmethod\n",
        "    def area(img):\n",
        "        img2 = np.copy(img)\n",
        "        img2 = feature_extraction.binary(img)\n",
        "        return int(img2.sum())\n",
        "\n",
        "    @staticmethod\n",
        "    def char_dar_char(img):\n",
        "        img2 = np.copy(img)\n",
        "        out = []\n",
        "        for i in range(4):\n",
        "            for j in range(4):\n",
        "                subim = img2[i*8:i*8+7,j*8:j*8+7]\n",
        "                out.append(round(subim.sum()/64,2))\n",
        "        return out\n",
        "    \n",
        "    @staticmethod\n",
        "    def do_dar_do(img):\n",
        "        img2 = np.copy(img)\n",
        "        out = []\n",
        "        for i in range(2):\n",
        "            for j in range(2):\n",
        "                subim = img2[i*16:i*16+15,j*16:j*16+15]\n",
        "                out.append(round(subim.sum()/256,2))\n",
        "        return out\n",
        "    \n",
        "    @staticmethod\n",
        "    def char_axis1(img):\n",
        "        img2 = np.copy(img)\n",
        "        out = []\n",
        "        for i in range(4):\n",
        "                subim = img2[i*8:i*8+7,:]\n",
        "                out.append(round(subim.sum()/256,2))\n",
        "        return out\n",
        "    \n",
        "    @staticmethod\n",
        "    def char_axis2(img):\n",
        "        img2 = np.copy(img)\n",
        "        out = []\n",
        "        for i in range(4):\n",
        "                subim = img2[:,i*8:i*8+7]\n",
        "                out.append(round(subim.sum()/256,2))\n",
        "        return out\n",
        "    \n",
        "    @staticmethod\n",
        "    def vertical_edge(img):\n",
        "        kernel = np.array([[1,0],[1,0]])\n",
        "        afterkernel = cv2.filter2D(img,-1,kernel)\n",
        "        return round(afterkernel.sum()/(1024),2)\n",
        "    \n",
        "    @staticmethod\n",
        "    def horisental_edge(img):\n",
        "        kernel1 = np.array([[1,1],[0,0]])\n",
        "        kernel2 = np.array([[0,0],[1,1]])\n",
        "\n",
        "        afterkernel1 = cv2.filter2D(img,-1,kernel1)\n",
        "        afterkernel2 = cv2.filter2D(img,-1,kernel2)\n",
        "        return round((afterkernel1.sum()+afterkernel2.sum())/(1024*2),2)\n",
        "\n",
        "    @staticmethod\n",
        "    def kaj_chap_edge(img):\n",
        "        kernel1 = np.array([[1,1],[1,0]])\n",
        "        kernel2 = np.array([[0,1],[1,1]])\n",
        "\n",
        "        afterkernel1 = cv2.filter2D(img,-1,kernel1)\n",
        "        afterkernel2 = cv2.filter2D(img,-1,kernel2)\n",
        "        return round(afterkernel1.sum()/1024,2),round(afterkernel2.sum()/1024,2)\n",
        "\n",
        "    @staticmethod\n",
        "    def kaj_rast_edge(img):\n",
        "        kernel1 = np.array([[1,0],[1,1]])\n",
        "        kernel2 = np.array([[1,1],[0,1]])\n",
        "\n",
        "        afterkernel1 = cv2.filter2D(img,-1,kernel1)\n",
        "        afterkernel2 = cv2.filter2D(img,-1,kernel2)\n",
        "        return round(afterkernel1.sum()/1024,2),round(afterkernel2.sum()/1024,2)\n",
        "\n",
        "    @staticmethod\n",
        "    def run(img,th='0.5'):\n",
        "        \n",
        "        f = []\n",
        "        f.append(feature_extraction.area(img)/1024)\n",
        "        for i in feature_extraction.char_dar_char(img):\n",
        "            f.append(i)\n",
        "        for i in feature_extraction.do_dar_do(img):\n",
        "            f.append(i)\n",
        "        for i in feature_extraction.char_axis1(img):\n",
        "            f.append(i)\n",
        "        for i in feature_extraction.char_axis2(img):\n",
        "            f.append(i)\n",
        "        f.append(feature_extraction.vertical_edge(img))\n",
        "        f.append(feature_extraction.horisental_edge(img))\n",
        "        for i in feature_extraction.kaj_chap_edge(img):\n",
        "            f.append(i)\n",
        "        for i in feature_extraction.kaj_rast_edge(img):\n",
        "            f.append(i)\n",
        "\n",
        "        return np.array(f)"
      ]
    },
    {
      "cell_type": "code",
      "execution_count": 488,
      "metadata": {
        "colab": {
          "base_uri": "https://localhost:8080/",
          "height": 81
        },
        "id": "q130rJq8-wdO",
        "outputId": "e26124e9-1c4b-4def-edcb-4ad5aa86e4f5"
      },
      "outputs": [
        {
          "output_type": "display_data",
          "data": {
            "text/plain": [
              "<PIL.Image.Image image mode=RGB size=32x32 at 0x7F04CEAF1C90>"
            ],
            "image/png": "[encoded data removed]"
          },
          "metadata": {}
        },
        {
          "output_type": "display_data",
          "data": {
            "text/plain": [
              "<PIL.Image.Image image mode=RGB size=32x32 at 0x7F04CEAF1C90>"
            ],
            "image/png": "[encoded data removed]"
          },
          "metadata": {}
        }
      ],
      "source": [
        "im = np.copy(ims[0])\n",
        "cv2_imshow(im)\n",
        "im = HSVColor(im)\n",
        "cv2_imshow(im*255)"
      ]
    },
    {
      "cell_type": "code",
      "execution_count": 489,
      "metadata": {
        "colab": {
          "base_uri": "https://localhost:8080/"
        },
        "id": "YQZ7dP2u-2h2",
        "outputId": "4fecba31-5b8e-4c59-b1f9-e251ad449b3e"
      },
      "outputs": [
        {
          "output_type": "execute_result",
          "data": {
            "text/plain": [
              "(1.0, 0.00784313725490196)"
            ]
          },
          "metadata": {},
          "execution_count": 489
        }
      ],
      "source": [
        "im[:,:,2].max(),im[:,:,2].min()"
      ]
    },
    {
      "cell_type": "code",
      "execution_count": 490,
      "metadata": {
        "colab": {
          "base_uri": "https://localhost:8080/"
        },
        "id": "ugul8OX9-56k",
        "outputId": "1abfd9c4-08d2-4097-d315-550cedc5e54d"
      },
      "outputs": [
        {
          "output_type": "execute_result",
          "data": {
            "text/plain": [
              "array([0.42871094, 0.4       , 0.46      , 0.52      , 0.44      ,\n",
              "       0.42      , 0.22      , 0.17      , 0.4       , 0.4       ,\n",
              "       0.14      , 0.08      , 0.37      , 0.38      , 0.43      ,\n",
              "       0.38      , 0.48      , 0.44      , 0.43      , 0.39      ,\n",
              "       0.37      , 0.51      , 0.35      , 0.29      , 0.48      ,\n",
              "       0.46      , 0.35      , 0.32      , 0.48      , 0.92      ,\n",
              "       0.92      , 1.39      , 1.39      , 1.39      , 1.39      ])"
            ]
          },
          "metadata": {},
          "execution_count": 490
        }
      ],
      "source": [
        "feature_extraction.run(im[:,:,1])"
      ]
    },
    {
      "cell_type": "code",
      "execution_count": 491,
      "metadata": {
        "id": "efg1yz2F-9c5"
      },
      "outputs": [],
      "source": [
        "def fft_feature_extractior_helper(sample):\n",
        "    sample = np.copy(sample)\n",
        "    \n",
        "    d1,d2 = sample.shape\n",
        "    m1,m2 = (d1-1)/2,(d2-1)/2\n",
        "    # print(distance([0,0],[m1,m2]))\n",
        "    ths = [4,8,12,16]\n",
        "    lavels_point = [[],[],[],[],[]]\n",
        "    \n",
        "    for i in range(d1):\n",
        "        for j in range(d2):\n",
        "            d = distance([i,j],[m1,m1])\n",
        "            if d<ths[0]:\n",
        "                lavels_point[0].append(sample[i][j])\n",
        "            elif d<ths[1]:\n",
        "                lavels_point[1].append(sample[i][j])\n",
        "            elif d<ths[2]:\n",
        "                lavels_point[2].append(sample[i][j])\n",
        "            elif d<ths[3]:\n",
        "                lavels_point[3].append(sample[i][j])\n",
        "            else:\n",
        "                lavels_point[4].append(sample[i][j])\n",
        "    lavels_point = np.array(lavels_point)\n",
        "    return lavels_point"
      ]
    },
    {
      "cell_type": "code",
      "execution_count": 492,
      "metadata": {
        "colab": {
          "base_uri": "https://localhost:8080/"
        },
        "id": "TuP13ioc_CJC",
        "outputId": "28b21d63-a5c0-44ba-bf8d-a6381b5a3917"
      },
      "outputs": [
        {
          "output_type": "stream",
          "name": "stderr",
          "text": [
            "  0%|          | 0/284 [00:00<?, ?it/s]/usr/local/lib/python3.7/dist-packages/ipykernel_launcher.py:23: VisibleDeprecationWarning: Creating an ndarray from ragged nested sequences (which is a list-or-tuple of lists-or-tuples-or ndarrays with different lengths or shapes) is deprecated. If you meant to do this, you must specify 'dtype=object' when creating the ndarray.\n",
            "100%|██████████| 284/284 [00:20<00:00, 13.59it/s]\n"
          ]
        }
      ],
      "source": [
        "def fft_feature_extractior(im):\n",
        "    flist = []\n",
        "\n",
        "    s0 = im[:,:,0]\n",
        "    s1 = im[:,:,1]\n",
        "    s2 = im[:,:,2]\n",
        "\n",
        "    fft_img = np.fft.fft2(s0)\n",
        "    s0 = np.fft.fftshift(fft_img)\n",
        "\n",
        "    fft_img = np.fft.fft2(s1)\n",
        "    s1 = np.fft.fftshift(fft_img)\n",
        "\n",
        "    fft_img = np.fft.fft2(s2)\n",
        "    s2 = np.fft.fftshift(fft_img)\n",
        "    \n",
        "    lp0 = fft_feature_extractior_helper(s0)\n",
        "    lp1 = fft_feature_extractior_helper(s1)\n",
        "    lp2 = fft_feature_extractior_helper(s2)\n",
        "\n",
        "    def convertor_23(lp,flist):\n",
        "        out = [np.mean(lp[0]),np.mean(lp[1]),np.mean(lp[2]),np.mean(lp[3]),np.mean(lp[4])]\n",
        "        absout = list(map(abs,out))\n",
        "        for i in range(len(out)):\n",
        "            flist.append(absout[i])\n",
        "            # flist.append(np.angle(out[i]))\n",
        "        return flist \n",
        "    \n",
        "    flist = convertor_23(lp0,flist)\n",
        "    flist = convertor_23(lp1,flist)\n",
        "    flist = convertor_23(lp2,flist)\n",
        "\n",
        "    max_ = max(flist)\n",
        "    for i in range(0,len(flist),2):\n",
        "        flist[i]/=max_\n",
        "\n",
        "    return flist\n",
        "class feature_extraction():\n",
        "    def __init__(self):\n",
        "        pass\n",
        "    \n",
        "    @staticmethod\n",
        "    def binary(img,th=0.5):\n",
        "        img2 = np.copy(img)\n",
        "        img2[img2>th]=1\n",
        "        img2[img2<1]=0\n",
        "        return img2\n",
        "    \n",
        "    @staticmethod\n",
        "    def area(img):\n",
        "        img2 = np.copy(img)\n",
        "        img2 = feature_extraction.binary(img)\n",
        "        return int(img2.sum())\n",
        "\n",
        "    @staticmethod\n",
        "    def char_dar_char(img):\n",
        "        img2 = np.copy(img)\n",
        "        out = []\n",
        "        for i in range(4):\n",
        "            for j in range(4):\n",
        "                subim = img2[i*8:i*8+7,j*8:j*8+7]\n",
        "                out.append(round(subim.sum()/64,2))\n",
        "        return out\n",
        "    \n",
        "    @staticmethod\n",
        "    def do_dar_do(img):\n",
        "        img2 = np.copy(img)\n",
        "        out = []\n",
        "        for i in range(2):\n",
        "            for j in range(2):\n",
        "                subim = img2[i*16:i*16+15,j*16:j*16+15]\n",
        "                out.append(round(subim.sum()/256,2))\n",
        "        return out\n",
        "    \n",
        "    @staticmethod\n",
        "    def char_axis1(img):\n",
        "        img2 = np.copy(img)\n",
        "        out = []\n",
        "        for i in range(4):\n",
        "                subim = img2[i*8:i*8+7,:]\n",
        "                out.append(round(subim.sum()/256,2))\n",
        "        return out\n",
        "    \n",
        "    @staticmethod\n",
        "    def char_axis2(img):\n",
        "        img2 = np.copy(img)\n",
        "        out = []\n",
        "        for i in range(4):\n",
        "                subim = img2[:,i*8:i*8+7]\n",
        "                out.append(round(subim.sum()/256,2))\n",
        "        return out\n",
        "    \n",
        "    @staticmethod\n",
        "    def vertical_edge(img):\n",
        "        kernel = np.array([[1,0],[1,0]])\n",
        "        afterkernel = cv2.filter2D(img,-1,kernel)\n",
        "        return round(afterkernel.sum()/(1024),2)\n",
        "    \n",
        "    @staticmethod\n",
        "    def horisental_edge(img):\n",
        "        kernel1 = np.array([[1,1],[0,0]])\n",
        "        kernel2 = np.array([[0,0],[1,1]])\n",
        "\n",
        "        afterkernel1 = cv2.filter2D(img,-1,kernel1)\n",
        "        afterkernel2 = cv2.filter2D(img,-1,kernel2)\n",
        "        return round((afterkernel1.sum()+afterkernel2.sum())/(1024*2),2)\n",
        "\n",
        "    @staticmethod\n",
        "    def kaj_chap_edge(img):\n",
        "        kernel1 = np.array([[1,1],[1,0]])\n",
        "        kernel2 = np.array([[0,1],[1,1]])\n",
        "\n",
        "        afterkernel1 = cv2.filter2D(img,-1,kernel1)\n",
        "        afterkernel2 = cv2.filter2D(img,-1,kernel2)\n",
        "        return round(afterkernel1.sum()/1024,2),round(afterkernel2.sum()/1024,2)\n",
        "\n",
        "    @staticmethod\n",
        "    def kaj_rast_edge(img):\n",
        "        kernel1 = np.array([[1,0],[1,1]])\n",
        "        kernel2 = np.array([[1,1],[0,1]])\n",
        "\n",
        "        afterkernel1 = cv2.filter2D(img,-1,kernel1)\n",
        "        afterkernel2 = cv2.filter2D(img,-1,kernel2)\n",
        "        return round(afterkernel1.sum()/1024,2),round(afterkernel2.sum()/1024,2)\n",
        "\n",
        "    @staticmethod\n",
        "    def run_(img,th='0.5'):\n",
        "        f = []\n",
        "        f.append(feature_extraction.area(img)/1024)\n",
        "        for i in feature_extraction.char_dar_char(img):\n",
        "            f.append(i)\n",
        "        for i in feature_extraction.do_dar_do(img):\n",
        "            f.append(i)\n",
        "        for i in feature_extraction.char_axis1(img):\n",
        "            f.append(i)\n",
        "        for i in feature_extraction.char_axis2(img):\n",
        "            f.append(i)\n",
        "        f.append(feature_extraction.vertical_edge(img))\n",
        "        f.append(feature_extraction.horisental_edge(img))\n",
        "        for i in feature_extraction.kaj_chap_edge(img):\n",
        "            f.append(i)\n",
        "        for i in feature_extraction.kaj_rast_edge(img):\n",
        "            f.append(i)\n",
        "\n",
        "        return np.array(f)\n",
        "    \n",
        "    @staticmethod\n",
        "    def run(img,th=0.5):\n",
        "        if len(img.shape)==3:\n",
        "            f = np.array([])\n",
        "            s0 =  img[:,:,0]\n",
        "            s1 =  img[:,:,1]\n",
        "            s2 =  img[:,:,2]\n",
        "            f = np.concatenate([f,feature_extraction.run_(s0,th='0.5')])\n",
        "            f = np.concatenate([f,feature_extraction.run_(s1,th='0.5')])\n",
        "            f = np.concatenate([f,feature_extraction.run_(s2,th='0.5')])\n",
        "            return f\n",
        "        else:\n",
        "            f = np.array([])\n",
        "            s0 =  img[:,:]\n",
        "            f = np.concatenate([f,feature_extraction.run_(s0,th='0.5')])\n",
        "            return f\n",
        "import colorsys\n",
        "\n",
        "def HSVColor(img):\n",
        "    shapee = img.shape\n",
        "    temp = img.reshape(-1,3)\n",
        "    # print(temp.shape,temp[0])\n",
        "    temp2 = [colorsys.rgb_to_hsv(im[0],im[1],im[2]) for im in temp]\n",
        "    img = np.array(temp2).reshape(shapee)\n",
        "    img[:,:,2]/=255\n",
        "    return img\n",
        "flist = []\n",
        "for i in tqdm(ims):\n",
        "    im = np.copy(i)\n",
        "\n",
        "    fd, hog_image = hog(im, orientations=9, pixels_per_cell=(8, 8),\n",
        "                \tcells_per_block=(2, 2), visualize=True, multichannel=True)\n",
        "    im = im/256\n",
        "\n",
        "    hsvim = HSVColor(im)\n",
        "\n",
        "    f1 = fft_feature_extractior(im)\n",
        "    f2 = feature_extraction.run(im)\n",
        "    f3 = feature_extraction.run(hog_image)\n",
        "\n",
        "    f4 = fft_feature_extractior(hsvim)\n",
        "    f5 = feature_extraction.run(hsvim)\n",
        "    f = np.concatenate([f1,f2,f3,f4,f5])\n",
        "    flist.append(np.copy(f))"
      ]
    },
    {
      "cell_type": "code",
      "execution_count": 493,
      "metadata": {
        "id": "SaUGONFa_Sb6"
      },
      "outputs": [],
      "source": [
        "ims2 = np.copy(flist)\n",
        "# ims2 = np.copy(ims)\n",
        "c = list(zip(ims2, labels))\n",
        "random.shuffle(c)\n",
        "ims2, labels = zip(*c)"
      ]
    },
    {
      "cell_type": "code",
      "execution_count": 513,
      "metadata": {
        "colab": {
          "base_uri": "https://localhost:8080/"
        },
        "id": "dDjH73Tb_Zw2",
        "outputId": "eef923bc-add8-4e6e-8059-88d9de03f66a"
      },
      "outputs": [
        {
          "output_type": "stream",
          "name": "stdout",
          "text": [
            "0.9333333333333333\n"
          ]
        }
      ],
      "source": [
        "# Import necessary modules\n",
        "import random\n",
        "from sklearn.neighbors import KNeighborsClassifier\n",
        "from sklearn.model_selection import train_test_split\n",
        "from sklearn.datasets import load_iris\n",
        " \n",
        "flist = ims2 #**********\n",
        "\n",
        "X_train, X_test, y_train, y_test = train_test_split(\n",
        "             flist, labels, test_size = 0.05, random_state=20)\n",
        " \n",
        "knn = KNeighborsClassifier(n_neighbors=2)\n",
        " \n",
        "knn.fit(X_train, y_train)\n",
        " \n",
        "# Calculate the accuracy of the model\n",
        "print(knn.score(X_test, y_test))"
      ]
    },
    {
      "cell_type": "markdown",
      "metadata": {
        "id": "I8kLef_gVXIs"
      },
      "source": [
        "#deeP:"
      ]
    },
    {
      "cell_type": "code",
      "execution_count": 495,
      "metadata": {
        "id": "cCzKmvq0Vz40"
      },
      "outputs": [],
      "source": [
        "y_train2=np.array(y_train)\n",
        "y_test2=np.array(y_test)\n",
        "X_train2=np.array(X_train)\n",
        "X_test2=np.array(X_test)"
      ]
    },
    {
      "cell_type": "code",
      "execution_count": 496,
      "metadata": {
        "colab": {
          "base_uri": "https://localhost:8080/"
        },
        "id": "fXV2Ar9BVfz6",
        "outputId": "2cf41717-3d22-4650-82c5-2d2a0e78144c"
      },
      "outputs": [
        {
          "output_type": "execute_result",
          "data": {
            "text/plain": [
              "(269, 275)"
            ]
          },
          "metadata": {},
          "execution_count": 496
        }
      ],
      "source": [
        "X_train2.shape"
      ]
    },
    {
      "cell_type": "code",
      "execution_count": 497,
      "metadata": {
        "id": "ER58bJqhVV5e"
      },
      "outputs": [],
      "source": [
        "from tensorflow.keras.layers import Conv2D, MaxPooling2D, Dense, Flatten\n",
        "from tensorflow.keras.models import Sequential\n",
        "import keras\n",
        "import tensorflow\n",
        "import numpy as np\n",
        "from keras.utils import np_utils"
      ]
    },
    {
      "cell_type": "code",
      "execution_count": 498,
      "metadata": {
        "id": "ns4J3UjIVWAg"
      },
      "outputs": [],
      "source": [
        "nclasses = 12\n",
        "nfeatures = 275"
      ]
    },
    {
      "cell_type": "code",
      "execution_count": 499,
      "metadata": {
        "id": "k52-Zzm5Vo-k"
      },
      "outputs": [],
      "source": [
        "y_train2 = keras.utils.np_utils.to_categorical(y_train, nclasses)\n",
        "y_test2 = keras.utils.np_utils.to_categorical(y_test, nclasses)"
      ]
    },
    {
      "cell_type": "code",
      "execution_count": 540,
      "metadata": {
        "id": "gQmBNm3iVwOa"
      },
      "outputs": [],
      "source": [
        "# build the model\n",
        "model = Sequential()\n",
        "\n",
        "model.add(Dense(100, input_shape=(nfeatures,), activation='relu'))\n",
        "model.add(Dense(40, activation='relu'))\n",
        "model.add(Dense(nclasses, activation='softmax'))\n",
        "\n",
        "# training the model\n",
        "model.compile(loss = keras.losses.categorical_crossentropy,\n",
        "\t\t\toptimizer = tensorflow.keras.optimizers.SGD(lr = 0.01),\n",
        "\t\t\tmetrics =['accuracy'])"
      ]
    },
    {
      "cell_type": "code",
      "execution_count": 541,
      "metadata": {
        "colab": {
          "base_uri": "https://localhost:8080/"
        },
        "id": "YURKccRTWkNH",
        "outputId": "398d5302-6773-48af-ba42-703efb5ff566"
      },
      "outputs": [
        {
          "output_type": "stream",
          "name": "stdout",
          "text": [
            "Epoch 1/130\n",
            "34/34 [==============================] - 0s 2ms/step - loss: 3.1185 - accuracy: 0.0892\n",
            "Epoch 2/130\n",
            "34/34 [==============================] - 0s 1ms/step - loss: 2.3823 - accuracy: 0.2193\n",
            "Epoch 3/130\n",
            "34/34 [==============================] - 0s 1ms/step - loss: 2.3188 - accuracy: 0.2045\n",
            "Epoch 4/130\n",
            "34/34 [==============================] - 0s 1ms/step - loss: 2.2760 - accuracy: 0.2416\n",
            "Epoch 5/130\n",
            "34/34 [==============================] - 0s 1ms/step - loss: 2.2605 - accuracy: 0.2379\n",
            "Epoch 6/130\n",
            "34/34 [==============================] - 0s 2ms/step - loss: 2.2433 - accuracy: 0.2751\n",
            "Epoch 7/130\n",
            "34/34 [==============================] - 0s 2ms/step - loss: 2.1448 - accuracy: 0.2788\n",
            "Epoch 8/130\n",
            "34/34 [==============================] - 0s 2ms/step - loss: 2.1392 - accuracy: 0.3011\n",
            "Epoch 9/130\n",
            "34/34 [==============================] - 0s 1ms/step - loss: 2.1181 - accuracy: 0.3123\n",
            "Epoch 10/130\n",
            "34/34 [==============================] - 0s 2ms/step - loss: 2.0435 - accuracy: 0.3123\n",
            "Epoch 11/130\n",
            "34/34 [==============================] - 0s 2ms/step - loss: 1.9931 - accuracy: 0.3383\n",
            "Epoch 12/130\n",
            "34/34 [==============================] - 0s 2ms/step - loss: 1.9486 - accuracy: 0.3011\n",
            "Epoch 13/130\n",
            "34/34 [==============================] - 0s 2ms/step - loss: 1.9140 - accuracy: 0.3569\n",
            "Epoch 14/130\n",
            "34/34 [==============================] - 0s 1ms/step - loss: 1.8721 - accuracy: 0.3606\n",
            "Epoch 15/130\n",
            "34/34 [==============================] - 0s 2ms/step - loss: 1.8974 - accuracy: 0.3494\n",
            "Epoch 16/130\n",
            "34/34 [==============================] - 0s 2ms/step - loss: 1.8328 - accuracy: 0.3866\n",
            "Epoch 17/130\n",
            "34/34 [==============================] - 0s 2ms/step - loss: 1.8181 - accuracy: 0.3532\n",
            "Epoch 18/130\n",
            "34/34 [==============================] - 0s 1ms/step - loss: 1.7260 - accuracy: 0.3680\n",
            "Epoch 19/130\n",
            "34/34 [==============================] - 0s 1ms/step - loss: 1.7400 - accuracy: 0.3829\n",
            "Epoch 20/130\n",
            "34/34 [==============================] - 0s 1ms/step - loss: 1.7181 - accuracy: 0.4201\n",
            "Epoch 21/130\n",
            "34/34 [==============================] - 0s 2ms/step - loss: 1.6077 - accuracy: 0.4238\n",
            "Epoch 22/130\n",
            "34/34 [==============================] - 0s 1ms/step - loss: 1.6641 - accuracy: 0.4349\n",
            "Epoch 23/130\n",
            "34/34 [==============================] - 0s 1ms/step - loss: 1.7014 - accuracy: 0.4424\n",
            "Epoch 24/130\n",
            "34/34 [==============================] - 0s 2ms/step - loss: 1.6374 - accuracy: 0.4201\n",
            "Epoch 25/130\n",
            "34/34 [==============================] - 0s 2ms/step - loss: 1.6760 - accuracy: 0.4498\n",
            "Epoch 26/130\n",
            "34/34 [==============================] - 0s 1ms/step - loss: 1.7435 - accuracy: 0.4572\n",
            "Epoch 27/130\n",
            "34/34 [==============================] - 0s 2ms/step - loss: 1.5939 - accuracy: 0.4610\n",
            "Epoch 28/130\n",
            "34/34 [==============================] - 0s 2ms/step - loss: 1.4963 - accuracy: 0.4833\n",
            "Epoch 29/130\n",
            "34/34 [==============================] - 0s 1ms/step - loss: 1.5908 - accuracy: 0.4721\n",
            "Epoch 30/130\n",
            "34/34 [==============================] - 0s 2ms/step - loss: 1.5500 - accuracy: 0.4610\n",
            "Epoch 31/130\n",
            "34/34 [==============================] - 0s 1ms/step - loss: 1.5927 - accuracy: 0.4572\n",
            "Epoch 32/130\n",
            "34/34 [==============================] - 0s 1ms/step - loss: 1.4110 - accuracy: 0.5130\n",
            "Epoch 33/130\n",
            "34/34 [==============================] - 0s 2ms/step - loss: 1.3290 - accuracy: 0.5167\n",
            "Epoch 34/130\n",
            "34/34 [==============================] - 0s 2ms/step - loss: 1.5312 - accuracy: 0.4647\n",
            "Epoch 35/130\n",
            "34/34 [==============================] - 0s 1ms/step - loss: 1.4942 - accuracy: 0.4758\n",
            "Epoch 36/130\n",
            "34/34 [==============================] - 0s 1ms/step - loss: 1.4007 - accuracy: 0.5130\n",
            "Epoch 37/130\n",
            "34/34 [==============================] - 0s 1ms/step - loss: 1.3132 - accuracy: 0.5242\n",
            "Epoch 38/130\n",
            "34/34 [==============================] - 0s 1ms/step - loss: 1.6174 - accuracy: 0.4833\n",
            "Epoch 39/130\n",
            "34/34 [==============================] - 0s 1ms/step - loss: 1.3654 - accuracy: 0.5279\n",
            "Epoch 40/130\n",
            "34/34 [==============================] - 0s 2ms/step - loss: 1.3867 - accuracy: 0.5167\n",
            "Epoch 41/130\n",
            "34/34 [==============================] - 0s 1ms/step - loss: 1.2665 - accuracy: 0.5428\n",
            "Epoch 42/130\n",
            "34/34 [==============================] - 0s 1ms/step - loss: 1.2514 - accuracy: 0.5762\n",
            "Epoch 43/130\n",
            "34/34 [==============================] - 0s 2ms/step - loss: 1.2659 - accuracy: 0.5465\n",
            "Epoch 44/130\n",
            "34/34 [==============================] - 0s 2ms/step - loss: 1.1286 - accuracy: 0.6134\n",
            "Epoch 45/130\n",
            "34/34 [==============================] - 0s 1ms/step - loss: 1.2023 - accuracy: 0.5613\n",
            "Epoch 46/130\n",
            "34/34 [==============================] - 0s 1ms/step - loss: 1.6857 - accuracy: 0.4647\n",
            "Epoch 47/130\n",
            "34/34 [==============================] - 0s 1ms/step - loss: 1.2666 - accuracy: 0.5576\n",
            "Epoch 48/130\n",
            "34/34 [==============================] - 0s 1ms/step - loss: 1.1365 - accuracy: 0.6357\n",
            "Epoch 49/130\n",
            "34/34 [==============================] - 0s 2ms/step - loss: 1.2780 - accuracy: 0.5502\n",
            "Epoch 50/130\n",
            "34/34 [==============================] - 0s 2ms/step - loss: 1.2473 - accuracy: 0.5948\n",
            "Epoch 51/130\n",
            "34/34 [==============================] - 0s 2ms/step - loss: 1.0822 - accuracy: 0.6543\n",
            "Epoch 52/130\n",
            "34/34 [==============================] - 0s 2ms/step - loss: 1.0607 - accuracy: 0.6320\n",
            "Epoch 53/130\n",
            "34/34 [==============================] - 0s 2ms/step - loss: 1.0322 - accuracy: 0.6320\n",
            "Epoch 54/130\n",
            "34/34 [==============================] - 0s 2ms/step - loss: 0.9869 - accuracy: 0.6543\n",
            "Epoch 55/130\n",
            "34/34 [==============================] - 0s 1ms/step - loss: 1.1550 - accuracy: 0.6431\n",
            "Epoch 56/130\n",
            "34/34 [==============================] - 0s 1ms/step - loss: 0.9471 - accuracy: 0.6691\n",
            "Epoch 57/130\n",
            "34/34 [==============================] - 0s 2ms/step - loss: 0.9496 - accuracy: 0.6729\n",
            "Epoch 58/130\n",
            "34/34 [==============================] - 0s 2ms/step - loss: 0.8213 - accuracy: 0.7212\n",
            "Epoch 59/130\n",
            "34/34 [==============================] - 0s 1ms/step - loss: 1.0578 - accuracy: 0.6431\n",
            "Epoch 60/130\n",
            "34/34 [==============================] - 0s 2ms/step - loss: 0.8254 - accuracy: 0.7063\n",
            "Epoch 61/130\n",
            "34/34 [==============================] - 0s 1ms/step - loss: 0.8326 - accuracy: 0.7138\n",
            "Epoch 62/130\n",
            "34/34 [==============================] - 0s 1ms/step - loss: 0.8406 - accuracy: 0.7175\n",
            "Epoch 63/130\n",
            "34/34 [==============================] - 0s 1ms/step - loss: 0.7866 - accuracy: 0.7435\n",
            "Epoch 64/130\n",
            "34/34 [==============================] - 0s 2ms/step - loss: 0.8633 - accuracy: 0.6989\n",
            "Epoch 65/130\n",
            "34/34 [==============================] - 0s 2ms/step - loss: 1.0898 - accuracy: 0.6766\n",
            "Epoch 66/130\n",
            "34/34 [==============================] - 0s 2ms/step - loss: 1.0483 - accuracy: 0.6766\n",
            "Epoch 67/130\n",
            "34/34 [==============================] - 0s 2ms/step - loss: 0.8350 - accuracy: 0.7435\n",
            "Epoch 68/130\n",
            "34/34 [==============================] - 0s 2ms/step - loss: 0.7616 - accuracy: 0.7398\n",
            "Epoch 69/130\n",
            "34/34 [==============================] - 0s 2ms/step - loss: 1.0042 - accuracy: 0.6877\n",
            "Epoch 70/130\n",
            "34/34 [==============================] - 0s 1ms/step - loss: 0.9592 - accuracy: 0.6840\n",
            "Epoch 71/130\n",
            "34/34 [==============================] - 0s 1ms/step - loss: 0.7194 - accuracy: 0.7955\n",
            "Epoch 72/130\n",
            "34/34 [==============================] - 0s 2ms/step - loss: 0.8222 - accuracy: 0.7212\n",
            "Epoch 73/130\n",
            "34/34 [==============================] - 0s 2ms/step - loss: 0.8094 - accuracy: 0.7063\n",
            "Epoch 74/130\n",
            "34/34 [==============================] - 0s 2ms/step - loss: 0.6782 - accuracy: 0.7955\n",
            "Epoch 75/130\n",
            "34/34 [==============================] - 0s 2ms/step - loss: 0.6929 - accuracy: 0.7770\n",
            "Epoch 76/130\n",
            "34/34 [==============================] - 0s 2ms/step - loss: 0.7264 - accuracy: 0.7658\n",
            "Epoch 77/130\n",
            "34/34 [==============================] - 0s 2ms/step - loss: 0.6021 - accuracy: 0.7955\n",
            "Epoch 78/130\n",
            "34/34 [==============================] - 0s 2ms/step - loss: 0.6088 - accuracy: 0.8030\n",
            "Epoch 79/130\n",
            "34/34 [==============================] - 0s 1ms/step - loss: 1.1478 - accuracy: 0.6208\n",
            "Epoch 80/130\n",
            "34/34 [==============================] - 0s 2ms/step - loss: 0.7779 - accuracy: 0.7398\n",
            "Epoch 81/130\n",
            "34/34 [==============================] - 0s 2ms/step - loss: 0.8434 - accuracy: 0.7435\n",
            "Epoch 82/130\n",
            "34/34 [==============================] - 0s 2ms/step - loss: 0.8047 - accuracy: 0.7249\n",
            "Epoch 83/130\n",
            "34/34 [==============================] - 0s 1ms/step - loss: 0.6416 - accuracy: 0.7770\n",
            "Epoch 84/130\n",
            "34/34 [==============================] - 0s 2ms/step - loss: 0.5994 - accuracy: 0.8067\n",
            "Epoch 85/130\n",
            "34/34 [==============================] - 0s 2ms/step - loss: 0.6284 - accuracy: 0.7881\n",
            "Epoch 86/130\n",
            "34/34 [==============================] - 0s 2ms/step - loss: 0.5400 - accuracy: 0.8439\n",
            "Epoch 87/130\n",
            "34/34 [==============================] - 0s 2ms/step - loss: 0.4941 - accuracy: 0.8439\n",
            "Epoch 88/130\n",
            "34/34 [==============================] - 0s 2ms/step - loss: 0.6792 - accuracy: 0.7732\n",
            "Epoch 89/130\n",
            "34/34 [==============================] - 0s 2ms/step - loss: 0.7565 - accuracy: 0.7361\n",
            "Epoch 90/130\n",
            "34/34 [==============================] - 0s 1ms/step - loss: 0.5318 - accuracy: 0.8550\n",
            "Epoch 91/130\n",
            "34/34 [==============================] - 0s 1ms/step - loss: 0.4726 - accuracy: 0.8364\n",
            "Epoch 92/130\n",
            "34/34 [==============================] - 0s 2ms/step - loss: 1.0924 - accuracy: 0.6989\n",
            "Epoch 93/130\n",
            "34/34 [==============================] - 0s 2ms/step - loss: 0.5816 - accuracy: 0.8104\n",
            "Epoch 94/130\n",
            "34/34 [==============================] - 0s 2ms/step - loss: 0.4098 - accuracy: 0.8550\n",
            "Epoch 95/130\n",
            "34/34 [==============================] - 0s 1ms/step - loss: 0.4549 - accuracy: 0.8662\n",
            "Epoch 96/130\n",
            "34/34 [==============================] - 0s 2ms/step - loss: 0.4432 - accuracy: 0.8364\n",
            "Epoch 97/130\n",
            "34/34 [==============================] - 0s 2ms/step - loss: 0.4336 - accuracy: 0.8476\n",
            "Epoch 98/130\n",
            "34/34 [==============================] - 0s 1ms/step - loss: 0.3846 - accuracy: 0.8662\n",
            "Epoch 99/130\n",
            "34/34 [==============================] - 0s 2ms/step - loss: 0.7905 - accuracy: 0.7584\n",
            "Epoch 100/130\n",
            "34/34 [==============================] - 0s 2ms/step - loss: 0.4351 - accuracy: 0.8587\n",
            "Epoch 101/130\n",
            "34/34 [==============================] - 0s 1ms/step - loss: 0.4874 - accuracy: 0.8662\n",
            "Epoch 102/130\n",
            "34/34 [==============================] - 0s 1ms/step - loss: 0.4073 - accuracy: 0.8662\n",
            "Epoch 103/130\n",
            "34/34 [==============================] - 0s 2ms/step - loss: 0.3814 - accuracy: 0.9071\n",
            "Epoch 104/130\n",
            "34/34 [==============================] - 0s 2ms/step - loss: 0.4058 - accuracy: 0.8662\n",
            "Epoch 105/130\n",
            "34/34 [==============================] - 0s 2ms/step - loss: 0.3877 - accuracy: 0.8959\n",
            "Epoch 106/130\n",
            "34/34 [==============================] - 0s 2ms/step - loss: 0.3652 - accuracy: 0.8810\n",
            "Epoch 107/130\n",
            "34/34 [==============================] - 0s 2ms/step - loss: 0.3772 - accuracy: 0.8848\n",
            "Epoch 108/130\n",
            "34/34 [==============================] - 0s 2ms/step - loss: 0.3232 - accuracy: 0.9108\n",
            "Epoch 109/130\n",
            "34/34 [==============================] - 0s 2ms/step - loss: 0.2911 - accuracy: 0.9182\n",
            "Epoch 110/130\n",
            "34/34 [==============================] - 0s 2ms/step - loss: 0.3390 - accuracy: 0.8996\n",
            "Epoch 111/130\n",
            "34/34 [==============================] - 0s 2ms/step - loss: 0.2826 - accuracy: 0.9145\n",
            "Epoch 112/130\n",
            "34/34 [==============================] - 0s 2ms/step - loss: 0.2791 - accuracy: 0.9145\n",
            "Epoch 113/130\n",
            "34/34 [==============================] - 0s 2ms/step - loss: 0.3913 - accuracy: 0.8736\n",
            "Epoch 114/130\n",
            "34/34 [==============================] - 0s 1ms/step - loss: 0.2920 - accuracy: 0.9071\n",
            "Epoch 115/130\n",
            "34/34 [==============================] - 0s 2ms/step - loss: 0.2921 - accuracy: 0.9182\n",
            "Epoch 116/130\n",
            "34/34 [==============================] - 0s 2ms/step - loss: 0.6963 - accuracy: 0.7807\n",
            "Epoch 117/130\n",
            "34/34 [==============================] - 0s 2ms/step - loss: 0.3650 - accuracy: 0.8773\n",
            "Epoch 118/130\n",
            "34/34 [==============================] - 0s 1ms/step - loss: 0.3854 - accuracy: 0.8662\n",
            "Epoch 119/130\n",
            "34/34 [==============================] - 0s 1ms/step - loss: 0.2980 - accuracy: 0.9182\n",
            "Epoch 120/130\n",
            "34/34 [==============================] - 0s 2ms/step - loss: 0.3830 - accuracy: 0.8885\n",
            "Epoch 121/130\n",
            "34/34 [==============================] - 0s 2ms/step - loss: 0.3205 - accuracy: 0.8996\n",
            "Epoch 122/130\n",
            "34/34 [==============================] - 0s 1ms/step - loss: 0.2791 - accuracy: 0.9145\n",
            "Epoch 123/130\n",
            "34/34 [==============================] - 0s 1ms/step - loss: 0.2226 - accuracy: 0.9331\n",
            "Epoch 124/130\n",
            "34/34 [==============================] - 0s 2ms/step - loss: 0.2817 - accuracy: 0.9108\n",
            "Epoch 125/130\n",
            "34/34 [==============================] - 0s 2ms/step - loss: 0.3140 - accuracy: 0.9294\n",
            "Epoch 126/130\n",
            "34/34 [==============================] - 0s 2ms/step - loss: 0.2701 - accuracy: 0.9257\n",
            "Epoch 127/130\n",
            "34/34 [==============================] - 0s 1ms/step - loss: 0.2394 - accuracy: 0.9257\n",
            "Epoch 128/130\n",
            "34/34 [==============================] - 0s 2ms/step - loss: 0.1954 - accuracy: 0.9554\n",
            "Epoch 129/130\n",
            "34/34 [==============================] - 0s 1ms/step - loss: 0.2875 - accuracy: 0.9294\n",
            "Epoch 130/130\n",
            "34/34 [==============================] - 0s 2ms/step - loss: 0.2321 - accuracy: 0.9368\n",
            "Test loss: 1.884391188621521\n",
            "Test accuracy: 0.800000011920929\n"
          ]
        }
      ],
      "source": [
        "# fitting the model\n",
        "model.fit(X_train2, y_train2,\n",
        "\t\tbatch_size =8,\n",
        "\t\tepochs = 130)\n",
        "\n",
        "\n",
        "# evaluating and printing results\n",
        "score = model.evaluate(X_test2, y_test2, verbose = 0)\n",
        "print('Test loss:', score[0])\n",
        "print('Test accuracy:', score[1])"
      ]
    },
    {
      "cell_type": "code",
      "execution_count": 501,
      "metadata": {
        "id": "f15v1JkxWvS0"
      },
      "outputs": [],
      "source": [
        ""
      ]
    }
  ],
  "metadata": {
    "colab": {
      "collapsed_sections": [],
      "name": "signs_classification (2).ipynb",
      "provenance": []
    },
    "kernelspec": {
      "display_name": "Python 3",
      "name": "python3"
    },
    "language_info": {
      "name": "python"
    }
  },
  "nbformat": 4,
  "nbformat_minor": 0
}