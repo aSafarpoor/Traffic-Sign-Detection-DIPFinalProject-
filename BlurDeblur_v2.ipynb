{
  "nbformat": 4,
  "nbformat_minor": 0,
  "metadata": {
    "colab": {
      "name": "BlurDeblur-v2.ipynb",
      "provenance": [],
      "collapsed_sections": [],
      "authorship_tag": "ABX9TyPPH5OMh6m3EcRNimTfGAi9",
      "include_colab_link": true
    },
    "kernelspec": {
      "name": "python3",
      "display_name": "Python 3"
    },
    "language_info": {
      "name": "python"
    }
  },
  "cells": [
    {
      "cell_type": "markdown",
      "metadata": {
        "id": "view-in-github",
        "colab_type": "text"
      },
      "source": [
        "<a href=\"https://colab.research.google.com/github/aSafarpoor/Traffic-Sign-Detection-DIPFinalProject-/blob/main/BlurDeblur_v2.ipynb\" target=\"_parent\"><img src=\"https://colab.research.google.com/assets/colab-badge.svg\" alt=\"Open In Colab\"/></a>"
      ]
    },
    {
      "cell_type": "markdown",
      "source": [
        "# pipeline\n",
        "\n",
        "0. read data\n",
        "1. functions\n",
        "    * general imformations\n",
        "    * evaluation functions\n",
        "    * set of functions\n",
        "        * general goals\n",
        "        * DIP functions\n",
        "\n",
        "2. simple tests\n",
        "    * pure wiener\n",
        "    * pure sharp filter\n",
        "    * combinations\n",
        "        * canny + wiener\n",
        "        * canny + sharp filter\n",
        "\n",
        "3. iterative model\n",
        "    * function implementation\n",
        "    * improve with different image difference function\n",
        "\n"
      ],
      "metadata": {
        "id": "kLcEVUg-8AeX"
      }
    },
    {
      "cell_type": "markdown",
      "source": [
        "# imports"
      ],
      "metadata": {
        "id": "O0wtnMWa76Rg"
      }
    },
    {
      "cell_type": "code",
      "execution_count": 1,
      "metadata": {
        "id": "6z3kN0VP7z2V"
      },
      "outputs": [],
      "source": [
        "import cv2\n",
        "import numpy as np\n",
        "from tqdm import tqdm\n",
        "from matplotlib import pyplot as plt\n",
        "import os\n",
        "from scipy.signal import convolve2d\n",
        "from skimage import feature,restoration\n",
        "import pickle"
      ]
    },
    {
      "cell_type": "markdown",
      "source": [
        "#0. read data"
      ],
      "metadata": {
        "id": "Vv_aR_k_7-Xf"
      }
    },
    {
      "cell_type": "markdown",
      "source": [
        "next block should run just first time"
      ],
      "metadata": {
        "id": "o1-MBh4QveVw"
      }
    },
    {
      "cell_type": "code",
      "source": [
        "# !wget https://sid.erda.dk/public/archives/ff17dc924eba88d5d01a807357d6614c/TrainIJCNN2013.zip\n",
        "# !unzip TrainIJCNN2013.zip\n",
        "# !rm TrainIJCNN2013.zip"
      ],
      "metadata": {
        "id": "6zxkxCCh7_-m"
      },
      "execution_count": null,
      "outputs": []
    },
    {
      "cell_type": "code",
      "source": [
        "!pwd"
      ],
      "metadata": {
        "colab": {
          "base_uri": "https://localhost:8080/"
        },
        "id": "2FBKBx99F3m3",
        "outputId": "a889da44-d215-495f-bbe1-b90c6b180121"
      },
      "execution_count": 3,
      "outputs": [
        {
          "output_type": "stream",
          "name": "stdout",
          "text": [
            "/content\n"
          ]
        }
      ]
    },
    {
      "cell_type": "code",
      "source": [
        "filenames = os.listdir('TrainIJCNN2013')"
      ],
      "metadata": {
        "id": "miCxKUtrEvkx"
      },
      "execution_count": 4,
      "outputs": []
    },
    {
      "cell_type": "code",
      "source": [
        "len(filenames)"
      ],
      "metadata": {
        "colab": {
          "base_uri": "https://localhost:8080/"
        },
        "id": "xfjKHyxQGBhI",
        "outputId": "ab02e7d7-bf05-4db6-b752-f09193422492"
      },
      "execution_count": 5,
      "outputs": [
        {
          "output_type": "execute_result",
          "data": {
            "text/plain": [
              "646"
            ]
          },
          "metadata": {},
          "execution_count": 5
        }
      ]
    },
    {
      "cell_type": "code",
      "source": [
        "samplesnames = filenames[0::5]\n",
        "samplesnames = ['TrainIJCNN2013/'+i for i in samplesnames]\n",
        "print('#:',len(samplesnames),'\\nexaple name:',samplesnames[0])"
      ],
      "metadata": {
        "colab": {
          "base_uri": "https://localhost:8080/"
        },
        "id": "M9ErGkeZGBj3",
        "outputId": "d426a2a0-9ffc-455b-ae8e-9b788ddfbaf6"
      },
      "execution_count": 6,
      "outputs": [
        {
          "output_type": "stream",
          "name": "stdout",
          "text": [
            "#: 130 \n",
            "exaple name: TrainIJCNN2013/00364.ppm\n"
          ]
        }
      ]
    },
    {
      "cell_type": "code",
      "source": [
        "sampleim = cv2.imread(samplesnames[0],cv2.IMREAD_GRAYSCALE)\n",
        "plt.imshow(sampleim)"
      ],
      "metadata": {
        "colab": {
          "base_uri": "https://localhost:8080/",
          "height": 266
        },
        "id": "zzKDJuhUGBmr",
        "outputId": "350b8fba-66f1-4876-f99b-f50d36149a76"
      },
      "execution_count": 7,
      "outputs": [
        {
          "output_type": "execute_result",
          "data": {
            "text/plain": [
              "<matplotlib.image.AxesImage at 0x7fa60736b690>"
            ]
          },
          "metadata": {},
          "execution_count": 7
        },
        {
          "output_type": "display_data",
          "data": {
            "text/plain": [
              "<Figure size 432x288 with 1 Axes>"
            ],
            "image/png": "[encoded data removed]"
          },
          "metadata": {
            "needs_background": "light"
          }
        }
      ]
    },
    {
      "cell_type": "code",
      "source": [
        "ims = []\n",
        "for name in tqdm(samplesnames[:]):\n",
        "    im = cv2.imread(name,cv2.IMREAD_GRAYSCALE)\n",
        "    # \n",
        "    try:\n",
        "        if im.shape != (800, 1360):\n",
        "            print(im.shape,type(im))\n",
        "        else:\n",
        "            ims.append(np.copy(im))\n",
        "    except:\n",
        "        pass\n",
        "ims = np.array(ims)\n",
        "print('\\n-----------------------------------------\\nshape:',ims.shape,\n",
        "      '\\n------------------------------------------\\n# samples:',ims.shape[0],'\\nsample shape:',ims.shape[1:])"
      ],
      "metadata": {
        "colab": {
          "base_uri": "https://localhost:8080/"
        },
        "id": "5dEcyqMrJjjH",
        "outputId": "20bbdf59-40e7-4a4e-a9f5-2e58d9cb4640"
      },
      "execution_count": 8,
      "outputs": [
        {
          "output_type": "stream",
          "name": "stderr",
          "text": [
            "100%|██████████| 130/130 [00:00<00:00, 268.28it/s]\n"
          ]
        },
        {
          "output_type": "stream",
          "name": "stdout",
          "text": [
            "\n",
            "-----------------------------------------\n",
            "shape: (116, 800, 1360) \n",
            "------------------------------------------\n",
            "# samples: 116 \n",
            "sample shape: (800, 1360)\n"
          ]
        }
      ]
    },
    {
      "cell_type": "markdown",
      "source": [
        "#1. functions"
      ],
      "metadata": {
        "id": "m_CMZLU0JkGO"
      }
    },
    {
      "cell_type": "markdown",
      "source": [
        "## general informations:"
      ],
      "metadata": {
        "id": "FQaSPyqnM48u"
      }
    },
    {
      "cell_type": "code",
      "source": [
        "info = {\"imsshape\": ims.shape,\n",
        "        \"lenims\"  : ims.shape[0],\n",
        "        \"imshape\" : ims.shape[1:],\n",
        "        \"imsize\"  : ims.shape[1]*ims.shape[2]}\n",
        "info"
      ],
      "metadata": {
        "colab": {
          "base_uri": "https://localhost:8080/"
        },
        "id": "2dx8GmzeM3GG",
        "outputId": "0ccdd975-f4c8-4c09-e4d1-81082af49804"
      },
      "execution_count": 9,
      "outputs": [
        {
          "output_type": "execute_result",
          "data": {
            "text/plain": [
              "{'imshape': (800, 1360),\n",
              " 'imsize': 1088000,\n",
              " 'imsshape': (116, 800, 1360),\n",
              " 'lenims': 116}"
            ]
          },
          "metadata": {},
          "execution_count": 9
        }
      ]
    },
    {
      "cell_type": "markdown",
      "source": [
        "## evaluation functions"
      ],
      "metadata": {
        "id": "iqcgHgAt8N62"
      }
    },
    {
      "cell_type": "markdown",
      "source": [
        "\n",
        "lets note:\n",
        "\n",
        "for similarity between (img1,img2):\n",
        "* compare images\n",
        "    * simple mode: **compare_image**\n",
        "    * **compare_boolean_image**\n",
        "        * usage example: **edge_similarity**\n",
        "\n",
        "image attributes:\n",
        "* **varofimage**\n",
        "* **varoflaplace**"
      ],
      "metadata": {
        "id": "lGLzO6_vP-hH"
      }
    },
    {
      "cell_type": "code",
      "source": [
        "def varofimage(img):\n",
        "    return img.var()"
      ],
      "metadata": {
        "id": "cG75jW1LPkOn"
      },
      "execution_count": 10,
      "outputs": []
    },
    {
      "cell_type": "code",
      "source": [
        "def varoflaplace(img):\n",
        "    return cv2.Laplacian(img, cv2.CV_64F).var()"
      ],
      "metadata": {
        "id": "z3odV0_F8Q_3"
      },
      "execution_count": 11,
      "outputs": []
    },
    {
      "cell_type": "code",
      "source": [
        "def edge_similarity(img1,img2,sigma=3):\n",
        "    edge1 = feature.canny(img1,sigma=sigma)\n",
        "    edge2 = feature.canny(img2,sigma=sigma)\n",
        "    return compare_boolean_image(edge1,edge2,imsize=1088000)"
      ],
      "metadata": {
        "id": "F4HQqxgQOiQg"
      },
      "execution_count": 12,
      "outputs": []
    },
    {
      "cell_type": "markdown",
      "source": [
        "## general goal *functions*"
      ],
      "metadata": {
        "id": "nGM-1Pk4Jmgp"
      }
    },
    {
      "cell_type": "code",
      "source": [
        "def imshower(img):\n",
        "    fig = plt.imshow(img);\n",
        "    fig.axes.get_xaxis().set_visible(False)\n",
        "    fig.axes.get_yaxis().set_visible(False)\n",
        "    plt.show()"
      ],
      "metadata": {
        "id": "MzYbDXBgJqSw"
      },
      "execution_count": 13,
      "outputs": []
    },
    {
      "cell_type": "code",
      "source": [
        "def normalizer(img,max_=1):\n",
        "    mi = img.min()\n",
        "    img -= mi\n",
        "    ma = img.max()\n",
        "    img = img / ma\n",
        "    img = img * max_\n",
        "    return img"
      ],
      "metadata": {
        "id": "iwYjZkMTJ55A"
      },
      "execution_count": 14,
      "outputs": []
    },
    {
      "cell_type": "code",
      "source": [
        "def compare_image(img1,img2,imsize=1088000):\n",
        "    return round(100*np.abs(img1-img2).sum()/imsize,2)"
      ],
      "metadata": {
        "id": "gmfn8n_AJ57o"
      },
      "execution_count": 15,
      "outputs": []
    },
    {
      "cell_type": "code",
      "source": [
        "def compare_boolean_image(img1,img2,imsize=1088000):\n",
        "    return round(100*(img1==img2).sum()/imsize,2)"
      ],
      "metadata": {
        "id": "KeaPOm02OOf3"
      },
      "execution_count": 16,
      "outputs": []
    },
    {
      "cell_type": "markdown",
      "source": [
        "##DIP specific functions\n",
        "\n",
        "1. wiener\n",
        "2. canny\n",
        "3. ..."
      ],
      "metadata": {
        "id": "sr1ifqS58K1u"
      }
    },
    {
      "cell_type": "code",
      "source": [
        "def wiener(img,kernel,if_unsupervised=True,supervised_regullizer_parameter=1100):\n",
        "    if if_unsupervised:\n",
        "        deconvolved, _ = restoration.unsupervised_wiener(img, kernel)\n",
        "    else:\n",
        "        deconvolved = restoration.wiener(img, kernel, supervised_regullizer_parameter)\n",
        "    return deconvolved"
      ],
      "metadata": {
        "id": "e3BXDzZURtxI"
      },
      "execution_count": 17,
      "outputs": []
    },
    {
      "cell_type": "markdown",
      "source": [
        "below functions are just for remembrance, we will use inner part of them directly to recieve lower time consuming"
      ],
      "metadata": {
        "id": "SIO8pbwXSFxG"
      }
    },
    {
      "cell_type": "code",
      "source": [
        "def canny(img,sigma=3):\n",
        "    feature.canny(img,sigma=sigma)"
      ],
      "metadata": {
        "id": "yqVD2jzJ8Ih2"
      },
      "execution_count": 18,
      "outputs": []
    },
    {
      "cell_type": "code",
      "source": [
        "def img_sharpenning(img,kernel=np.array([[-1,-1,-1],[-1,9,-1],[-1,-1,-1]])):\n",
        "    return convolve2d(img,kernel,'same')"
      ],
      "metadata": {
        "id": "XnTVVayeR1w4"
      },
      "execution_count": 19,
      "outputs": []
    },
    {
      "cell_type": "code",
      "source": [
        "def blurrer(img,kernel=np.array([[1,1,1],[1,1,1],[1,1,1]])/3):\n",
        "    return convolve2d(img,kernel,'same')"
      ],
      "metadata": {
        "id": "sBlZat1LdZIp"
      },
      "execution_count": 20,
      "outputs": []
    },
    {
      "cell_type": "markdown",
      "source": [
        "## 3. simple tests"
      ],
      "metadata": {
        "id": "85LBn7dkTm0_"
      }
    },
    {
      "cell_type": "code",
      "source": [
        "info"
      ],
      "metadata": {
        "colab": {
          "base_uri": "https://localhost:8080/"
        },
        "id": "2KhT0F42UYSv",
        "outputId": "f02053ab-40b1-45a5-9920-214d2b4a8b92"
      },
      "execution_count": 21,
      "outputs": [
        {
          "output_type": "execute_result",
          "data": {
            "text/plain": [
              "{'imshape': (800, 1360),\n",
              " 'imsize': 1088000,\n",
              " 'imsshape': (116, 800, 1360),\n",
              " 'lenims': 116}"
            ]
          },
          "metadata": {},
          "execution_count": 21
        }
      ]
    },
    {
      "cell_type": "markdown",
      "source": [
        "pure wiener"
      ],
      "metadata": {
        "id": "vgKyh_wUTvL3"
      }
    },
    {
      "cell_type": "code",
      "source": [
        "wlogs = {}\n",
        "\n",
        "wlogs['original_var'] = np.zeros(info['lenims'])\n",
        "wlogs['original_lap_var'] = np.zeros(info['lenims'])\n",
        "wlogs['blur_var'] = np.zeros(info['lenims'])\n",
        "wlogs['blur_lap_var'] = np.zeros(info['lenims'])\n",
        "wlogs['wiener_var'] = np.zeros(info['lenims'])\n",
        "wlogs['wiener_lap_var'] = np.zeros(info['lenims'])\n",
        "wlogs['blur&original similarity'] = np.zeros(info['lenims'])\n",
        "wlogs['wiener&original similarity'] = np.zeros(info['lenims'])\n",
        "wlogs['blur&original edge similarity'] = np.zeros(info['lenims'])\n",
        "wlogs['wiener&original edge similarity'] = np.zeros(info['lenims'])\n",
        "\n",
        "wiener_ims = []\n",
        "\n",
        "for c, im_c in tqdm(enumerate(ims)):\n",
        "    #original := im\n",
        "    im = np.copy(im_c)\n",
        "    im -= im.min()\n",
        "    im = im/im.max()\n",
        "\n",
        "    ksize = 3 #best kernell size that we found based on tests\n",
        "    kernel = np.ones((ksize,ksize))\n",
        "\n",
        "    #blur := bsample\n",
        "    blur_kernel = np.ones((3,3))\n",
        "    bsample = convolve2d(im,blur_kernel,'same') \n",
        "    bsample -=  bsample.min()\n",
        "    bsample =  bsample/bsample.max()\n",
        "\n",
        "    #wiener : wsample\n",
        "    wsample = wiener(bsample,kernel)\n",
        "    wsample -=  wsample.min()\n",
        "    wsample =  wsample/wsample.max()\n",
        "    wiener_ims.append(wsample)\n",
        "\n",
        "    wlogs['original_var'][c] = im.var()\n",
        "    wlogs['original_lap_var'][c] = cv2.Laplacian(im, cv2.CV_64F).var()\n",
        "    \n",
        "    wlogs['blur_var'][c] = bsample.var()\n",
        "    wlogs['blur_lap_var'][c] = cv2.Laplacian(bsample, cv2.CV_64F).var()\n",
        "    \n",
        "    wlogs['wiener_var'][c] = wsample.var()\n",
        "    wlogs['wiener_lap_var'][c] = cv2.Laplacian(wsample, cv2.CV_64F).var()\n",
        "\n",
        "    wlogs['blur&original similarity'][c] = compare_image(im,bsample)\n",
        "    wlogs['wiener&original similarity'][c] = compare_image(im,wsample)\n",
        "    edge_of_im = feature.canny(im)\n",
        "    wlogs['blur&original edge similarity'][c] = compare_boolean_image(edge_of_im,feature.canny(wsample))\n",
        "    wlogs['wiener&original edge similarity'][c] = compare_boolean_image(edge_of_im,feature.canny(bsample))\n",
        "\n",
        "    # imshower(wsample)\n",
        "    # imshower(feature.canny(wsample))\n",
        "    # imshower(feature.canny(im))"
      ],
      "metadata": {
        "colab": {
          "base_uri": "https://localhost:8080/"
        },
        "id": "oeFw23f8To4Y",
        "outputId": "811165f8-86d8-4947-bcb6-9990eef5d686"
      },
      "execution_count": 22,
      "outputs": [
        {
          "output_type": "stream",
          "name": "stderr",
          "text": [
            "116it [10:18,  5.33s/it]\n"
          ]
        }
      ]
    },
    {
      "cell_type": "code",
      "source": [
        "from google.colab import drive\n",
        "drive.mount('/content/drive')"
      ],
      "metadata": {
        "id": "pckQKV6_0yyq",
        "colab": {
          "base_uri": "https://localhost:8080/"
        },
        "outputId": "f9decc23-149c-4350-d6f2-39da486113cb"
      },
      "execution_count": 23,
      "outputs": [
        {
          "output_type": "stream",
          "name": "stdout",
          "text": [
            "Mounted at /content/drive\n"
          ]
        }
      ]
    },
    {
      "cell_type": "code",
      "source": [
        "%cd '/content/drive'\n",
        "%cd 'MyDrive'"
      ],
      "metadata": {
        "id": "4HSYMwor1wtK",
        "colab": {
          "base_uri": "https://localhost:8080/"
        },
        "outputId": "c43d2210-a0fb-4651-8bba-a0b2d19894ae"
      },
      "execution_count": 24,
      "outputs": [
        {
          "output_type": "stream",
          "name": "stdout",
          "text": [
            "/content/drive\n",
            "/content/drive/MyDrive\n"
          ]
        }
      ]
    },
    {
      "cell_type": "code",
      "source": [
        "with open('wlogs.pickle', 'wb') as handle:\n",
        "    pickle.dump(wlogs, handle, protocol=pickle.HIGHEST_PROTOCOL)\n",
        "\n",
        "# with open('wlogs.pickle', 'rb') as handle:\n",
        "    # wlogs = pickle.load(handle)"
      ],
      "metadata": {
        "id": "EcMwT97Qz0Ip"
      },
      "execution_count": 25,
      "outputs": []
    },
    {
      "cell_type": "code",
      "source": [
        "with open('wiener_ims.pickle', 'wb') as handle:\n",
        "    pickle.dump(wiener_ims, handle, protocol=pickle.HIGHEST_PROTOCOL)\n",
        "\n",
        "# with open('wiener_ims.pickle', 'rb') as handle:\n",
        "    # wiener_ims = pickle.load(handle)"
      ],
      "metadata": {
        "id": "KB3PC97J0IH7"
      },
      "execution_count": 26,
      "outputs": []
    },
    {
      "cell_type": "code",
      "source": [
        "w_avg = {}\n",
        "\n",
        "w_avg['blur_var']                        = round(np.average(wlogs['blur_var']),3)\n",
        "w_avg['wiener_var']                      = round(np.average(wlogs['wiener_var']),3) \n",
        "w_avg['blur_lap_var']                    = round(np.average(wlogs['blur_lap_var']),3) \n",
        "w_avg['original_var']                    = round(np.average(wlogs['original_var']),3) \n",
        "w_avg['wiener_lap_var']                  = round(np.average(wlogs['wiener_lap_var']),3) \n",
        "w_avg['original_lap_var']                = round(np.average(wlogs['original_lap_var']),3) \n",
        "w_avg['blur&original similarity']        = round(np.average(wlogs['blur&original similarity']),3) \n",
        "w_avg['wiener&original similarity']      = round(np.average(wlogs['wiener&original similarity']),3) \n",
        "w_avg['blur&original edge similarity']   = round(np.average(wlogs['blur&original edge similarity']),3) \n",
        "w_avg['wiener&original edge similarity'] = round(np.average(wlogs['wiener&original edge similarity']),3) "
      ],
      "metadata": {
        "id": "v4y6g_py2rmS"
      },
      "execution_count": 27,
      "outputs": []
    },
    {
      "cell_type": "code",
      "source": [
        "w_avg"
      ],
      "metadata": {
        "id": "BdomOZzn6f0z",
        "colab": {
          "base_uri": "https://localhost:8080/"
        },
        "outputId": "2217530a-c1db-4de7-a4a5-31b9e545bb6d"
      },
      "execution_count": 28,
      "outputs": [
        {
          "output_type": "execute_result",
          "data": {
            "text/plain": [
              "{'blur&original edge similarity': 96.678,\n",
              " 'blur&original similarity': 1.447,\n",
              " 'blur_lap_var': 0.002,\n",
              " 'blur_var': 0.13,\n",
              " 'original_lap_var': 0.014,\n",
              " 'original_var': 0.131,\n",
              " 'wiener&original edge similarity': 96.447,\n",
              " 'wiener&original similarity': 17.015,\n",
              " 'wiener_lap_var': 0.005,\n",
              " 'wiener_var': 0.032}"
            ]
          },
          "metadata": {},
          "execution_count": 28
        }
      ]
    },
    {
      "cell_type": "markdown",
      "source": [
        "pure sharp filter"
      ],
      "metadata": {
        "id": "mzDbq-aATxi2"
      }
    },
    {
      "cell_type": "code",
      "source": [
        "slogs = {}\n",
        "\n",
        "slogs['sharp_var'] = np.zeros(info['lenims'])\n",
        "slogs['sharp_lap_var'] = np.zeros(info['lenims'])\n",
        "slogs['sharp&original similarity'] = np.zeros(info['lenims'])\n",
        "\n",
        "\n",
        "\n",
        "for c, im_c in tqdm(enumerate(ims)):\n",
        "    im = np.copy(im_c)\n",
        "    im -= im.min()\n",
        "    im = im/im.max()\n",
        "\n",
        "    ksize = 3 #best kernell size that we found based on tests\n",
        "    kernel = np.ones((ksize,ksize))\n",
        "    #blur := bsample\n",
        "    blur_kernel = np.ones((3,3))\n",
        "    bsample = convolve2d(im,blur_kernel,'same') \n",
        "    bsample -=  bsample.min()\n",
        "    bsample =  bsample/bsample.max()\n",
        "\n",
        "    \n",
        "    #wiener : wsample\n",
        "    shsample = img_sharpenning(bsample)\n",
        "    shsample -= shsample.min()\n",
        "    shsample = shsample/shsample.max()\n",
        "\n",
        "    slogs['sharp_var'][c] = shsample.var()\n",
        "    slogs['sharp_lap_var'][c] = cv2.Laplacian(shsample, cv2.CV_64F).var()\n",
        "    slogs['sharp&original similarity'][c] = compare_image(im,shsample)"
      ],
      "metadata": {
        "colab": {
          "base_uri": "https://localhost:8080/"
        },
        "id": "0rudO6QiTyG1",
        "outputId": "c505ab48-2111-4725-9cb0-10205ce7fc39"
      },
      "execution_count": 29,
      "outputs": [
        {
          "output_type": "stream",
          "name": "stderr",
          "text": [
            "116it [00:20,  5.57it/s]\n"
          ]
        }
      ]
    },
    {
      "cell_type": "code",
      "source": [
        "with open('slogs.pickle', 'wb') as handle:\n",
        "    pickle.dump(slogs, handle, protocol=pickle.HIGHEST_PROTOCOL)"
      ],
      "metadata": {
        "id": "PUhdJNns_Tyq"
      },
      "execution_count": 30,
      "outputs": []
    },
    {
      "cell_type": "code",
      "source": [
        "s_avg = {}\n",
        "\n",
        "s_avg['sharp_var']                        = round(np.average(slogs['sharp_var']),3)\n",
        "s_avg['sharp_lap_var']                    = round(np.average(slogs['sharp_lap_var']),3) \n",
        "s_avg['sharp&original similarity']        = round(np.average(slogs['sharp&original similarity']),3) "
      ],
      "metadata": {
        "id": "XHRMOiyU__ka"
      },
      "execution_count": 31,
      "outputs": []
    },
    {
      "cell_type": "code",
      "source": [
        "s_avg"
      ],
      "metadata": {
        "colab": {
          "base_uri": "https://localhost:8080/"
        },
        "id": "0o5JBlNyDGVq",
        "outputId": "0748365f-5914-44a9-ef09-4b9db34a0be3"
      },
      "execution_count": 32,
      "outputs": [
        {
          "output_type": "execute_result",
          "data": {
            "text/plain": [
              "{'sharp&original similarity': 25.173,\n",
              " 'sharp_lap_var': 0.003,\n",
              " 'sharp_var': 0.008}"
            ]
          },
          "metadata": {},
          "execution_count": 32
        }
      ]
    },
    {
      "cell_type": "markdown",
      "source": [
        "combinations of canny & wiener"
      ],
      "metadata": {
        "id": "XWvQAjd0TzOn"
      }
    },
    {
      "cell_type": "code",
      "source": [
        "cwlogs = {}\n",
        "\n",
        "cwlogs['sharp_var'] = np.zeros(info['lenims'])\n",
        "cwlogs['sharp_lap_var'] = np.zeros(info['lenims'])\n",
        "cwlogs['sharp&original similarity'] = np.zeros(info['lenims'])\n",
        "\n",
        "\n",
        "\n",
        "for c, im_c in tqdm(enumerate(ims)):\n",
        "    im = np.copy(im_c)\n",
        "    im -= im.min()\n",
        "    im = im/im.max()\n",
        "\n",
        "    wim = np.copy(wiener_ims[c])\n",
        "    wim -= im.min()\n",
        "    wim = im/im.max()\n",
        "\n",
        "    ksize = 3 #best kernell size that we found based on tests\n",
        "    kernel = np.ones((ksize,ksize))\n",
        "    #blur := bsample\n",
        "    blur_kernel = np.ones((3,3))\n",
        "    bsample = convolve2d(im,blur_kernel,'same') \n",
        "    bsample -=  bsample.min()\n",
        "    bsample =  bsample/bsample.max()\n",
        "\n",
        "    cwim = wim + feature.canny(bsample,sigma=3)\n",
        "    cwim[cwim>1]=1\n",
        "    cwim -= cwim.min()\n",
        "    cwim = cwim/cwim.max()\n",
        "\n",
        "    cwlogs['sharp_var'][c] = cwim.var()\n",
        "    cwlogs['sharp_lap_var'][c] = cv2.Laplacian(cwim, cv2.CV_64F).var()\n",
        "    cwlogs['sharp&original similarity'][c] = compare_image(im,cwim)"
      ],
      "metadata": {
        "id": "aZ9T7-Y7Tzuu",
        "colab": {
          "base_uri": "https://localhost:8080/"
        },
        "outputId": "05f2d310-2676-4a23-9fd8-d25f666ff914"
      },
      "execution_count": 33,
      "outputs": [
        {
          "output_type": "stream",
          "name": "stderr",
          "text": [
            "116it [00:51,  2.23it/s]\n"
          ]
        }
      ]
    },
    {
      "cell_type": "code",
      "source": [
        "cw_avg = {}\n",
        "\n",
        "cw_avg['sharp_var']                        = round(np.average(cwlogs['sharp_var']),3)\n",
        "cw_avg['sharp_lap_var']                    = round(np.average(cwlogs['sharp_lap_var']),3) \n",
        "cw_avg['sharp&original similarity']        = round(np.average(cwlogs['sharp&original similarity']),3) \n",
        "\n",
        "cw_avg"
      ],
      "metadata": {
        "colab": {
          "base_uri": "https://localhost:8080/"
        },
        "id": "EZSOeDlaJNQ6",
        "outputId": "83ce8fcb-d076-4bef-81d0-9e40cc784a3e"
      },
      "execution_count": 34,
      "outputs": [
        {
          "output_type": "execute_result",
          "data": {
            "text/plain": [
              "{'sharp&original similarity': 1.368,\n",
              " 'sharp_lap_var': 0.072,\n",
              " 'sharp_var': 0.137}"
            ]
          },
          "metadata": {},
          "execution_count": 34
        }
      ]
    },
    {
      "cell_type": "code",
      "source": [
        "cw2logs = {}\n",
        "\n",
        "cw2logs['sharp_var'] = np.zeros(info['lenims'])\n",
        "cw2logs['sharp_lap_var'] = np.zeros(info['lenims'])\n",
        "cw2logs['sharp&original similarity'] = np.zeros(info['lenims'])\n",
        "\n",
        "\n",
        "\n",
        "for c, im_c in tqdm(enumerate(ims)):\n",
        "    im = np.copy(im_c)\n",
        "    im -= im.min()\n",
        "    im = im/im.max()\n",
        "\n",
        "    wim = np.copy(wiener_ims[c])\n",
        "    wim -= im.min()\n",
        "    wim = im/im.max()\n",
        "\n",
        "    ksize = 3 #best kernell size that we found based on tests\n",
        "    kernel = np.ones((ksize,ksize))\n",
        "    #blur := bsample\n",
        "    blur_kernel = np.ones((3,3))\n",
        "    bsample = convolve2d(im,blur_kernel,'same') \n",
        "    bsample -=  bsample.min()\n",
        "    bsample =  bsample/bsample.max()\n",
        "\n",
        "    cwim = wim + feature.canny(bsample,sigma=3)\n",
        "    cwim[cwim>1]=1\n",
        "    cwim -= cwim.min()\n",
        "    cwim = cwim/cwim.max()\n",
        "\n",
        "    cw2logs['sharp_var'][c] = cwim.var()\n",
        "    cw2logs['sharp_lap_var'][c] = cv2.Laplacian(cwim, cv2.CV_64F).var()\n",
        "    cw2logs['sharp&original similarity'][c] = compare_image(im,cwim)"
      ],
      "metadata": {
        "id": "9LI76sjgI4NK",
        "colab": {
          "base_uri": "https://localhost:8080/"
        },
        "outputId": "245c50ec-0812-4697-dc71-49e38de34ea8"
      },
      "execution_count": 35,
      "outputs": [
        {
          "output_type": "stream",
          "name": "stderr",
          "text": [
            "116it [00:53,  2.17it/s]\n"
          ]
        }
      ]
    },
    {
      "cell_type": "code",
      "source": [
        "cw2_avg = {}\n",
        "\n",
        "cw2_avg['sharp_var']                        = round(np.average(cw2logs['sharp_var']),3)\n",
        "cw2_avg['sharp_lap_var']                    = round(np.average(cw2logs['sharp_lap_var']),3) \n",
        "cw2_avg['sharp&original similarity']        = round(np.average(cw2logs['sharp&original similarity']),3) \n",
        "\n",
        "cw2_avg"
      ],
      "metadata": {
        "colab": {
          "base_uri": "https://localhost:8080/"
        },
        "id": "KIrTc92LJVCZ",
        "outputId": "ada26675-4a79-4785-eb1e-ea4fd931ebec"
      },
      "execution_count": 36,
      "outputs": [
        {
          "output_type": "execute_result",
          "data": {
            "text/plain": [
              "{'sharp&original similarity': 1.368,\n",
              " 'sharp_lap_var': 0.072,\n",
              " 'sharp_var': 0.137}"
            ]
          },
          "metadata": {},
          "execution_count": 36
        }
      ]
    },
    {
      "cell_type": "code",
      "source": [
        "with open('cwlogs.pickle', 'wb') as handle:\n",
        "    pickle.dump(cwlogs, handle, protocol=pickle.HIGHEST_PROTOCOL)\n",
        "\n",
        "with open('cw2logs.pickle', 'wb') as handle:\n",
        "    pickle.dump(cw2logs, handle, protocol=pickle.HIGHEST_PROTOCOL)"
      ],
      "metadata": {
        "id": "wF_rBHcuPHbD"
      },
      "execution_count": 41,
      "outputs": []
    },
    {
      "cell_type": "markdown",
      "source": [
        "#4. iterative model"
      ],
      "metadata": {
        "id": "OsXAXpwF8jvY"
      }
    },
    {
      "cell_type": "code",
      "source": [
        ""
      ],
      "metadata": {
        "id": "LyXzeEQPJbOO"
      },
      "execution_count": 40,
      "outputs": []
    }
  ]
}