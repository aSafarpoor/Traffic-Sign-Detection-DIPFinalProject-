{
  "nbformat": 4,
  "nbformat_minor": 0,
  "metadata": {
    "colab": {
      "name": "dip-project-phase0.ipynb",
      "provenance": [],
      "authorship_tag": "ABX9TyOKwYJzAHE4K5OGlnGsxjC8",
      "include_colab_link": true
    },
    "kernelspec": {
      "name": "python3",
      "display_name": "Python 3"
    },
    "language_info": {
      "name": "python"
    }
  },
  "cells": [
    {
      "cell_type": "markdown",
      "metadata": {
        "id": "view-in-github",
        "colab_type": "text"
      },
      "source": [
        "<a href=\"https://colab.research.google.com/github/aSafarpoor/Traffic-Sign-Detection-DIPFinalProject-/blob/main/dip_project_phase0.ipynb\" target=\"_parent\"><img src=\"https://colab.research.google.com/assets/colab-badge.svg\" alt=\"Open In Colab\"/></a>"
      ]
    },
    {
      "cell_type": "code",
      "execution_count": 252,
      "metadata": {
        "id": "tOGVe2t0ln_0"
      },
      "outputs": [],
      "source": [
        "import numpy as np\n",
        "import pandas as pd\n",
        "from matplotlib import pyplot as plt\n",
        "import cv2\n",
        "from google.colab.patches import cv2_imshow\n",
        "import os\n",
        "from tqdm import tqdm\n",
        "import subprocess\n",
        "import random\n",
        "\n",
        "from skimage.feature import hog\n",
        "from skimage import exposure"
      ]
    },
    {
      "cell_type": "code",
      "source": [
        "from google.colab import drive\n",
        "drive.mount('/content/drive')"
      ],
      "metadata": {
        "colab": {
          "base_uri": "https://localhost:8080/"
        },
        "id": "6AFFvD7Amn2p",
        "outputId": "04c5b5b1-056c-4107-f610-dad1471bd3f8"
      },
      "execution_count": 253,
      "outputs": [
        {
          "output_type": "stream",
          "name": "stdout",
          "text": [
            "Drive already mounted at /content/drive; to attempt to forcibly remount, call drive.mount(\"/content/drive\", force_remount=True).\n"
          ]
        }
      ]
    },
    {
      "cell_type": "code",
      "source": [
        "%cd drive/MyDrive/\"DIP project\""
      ],
      "metadata": {
        "colab": {
          "base_uri": "https://localhost:8080/"
        },
        "id": "opP1P4xrm8uY",
        "outputId": "88889823-0ce7-4368-959e-b8a4dd8a93b8"
      },
      "execution_count": 254,
      "outputs": [
        {
          "output_type": "stream",
          "name": "stdout",
          "text": [
            "[Errno 2] No such file or directory: 'drive/MyDrive/DIP project'\n",
            "/content/drive/My Drive/DIP project/DATA\n"
          ]
        }
      ]
    },
    {
      "cell_type": "code",
      "source": [
        "%cd DATA"
      ],
      "metadata": {
        "colab": {
          "base_uri": "https://localhost:8080/"
        },
        "id": "yO5qw5IIyNYT",
        "outputId": "43b3a81b-ce89-4ee8-caf8-af22647491cb"
      },
      "execution_count": 255,
      "outputs": [
        {
          "output_type": "stream",
          "name": "stdout",
          "text": [
            "[Errno 2] No such file or directory: 'DATA'\n",
            "/content/drive/My Drive/DIP project/DATA\n"
          ]
        }
      ]
    },
    {
      "cell_type": "code",
      "source": [
        "!ls"
      ],
      "metadata": {
        "colab": {
          "base_uri": "https://localhost:8080/"
        },
        "id": "w9ahWn9jK_nY",
        "outputId": "f4a17a2b-15ea-417f-ea2c-7a01d410eb5a"
      },
      "execution_count": 256,
      "outputs": [
        {
          "output_type": "stream",
          "name": "stdout",
          "text": [
            "0  1  10  2  3\t4  5  6  7  8  9\n"
          ]
        }
      ]
    },
    {
      "cell_type": "code",
      "source": [
        "namelist = []\n",
        "labellist = []\n",
        "classes=range(0,11)\n",
        "for i in tqdm(classes):\n",
        "    os.chdir(str(i))\n",
        "    output = subprocess.check_output([\"ls\"]).decode()\n",
        "    \n",
        "    templist = output.split('\\n')\n",
        "    for j in templist:\n",
        "        namelist.append(str(i)+'/'+str(j))\n",
        "        labellist.append(i)\n",
        "    %cd .."
      ],
      "metadata": {
        "colab": {
          "base_uri": "https://localhost:8080/"
        },
        "id": "rakduQIYpilV",
        "outputId": "9a70c8e2-2fcc-403d-d457-63afed96deca"
      },
      "execution_count": 257,
      "outputs": [
        {
          "output_type": "stream",
          "name": "stderr",
          "text": [
            "\r  0%|          | 0/11 [00:00<?, ?it/s]"
          ]
        },
        {
          "output_type": "stream",
          "name": "stdout",
          "text": [
            "/content/drive/My Drive/DIP project/DATA\n",
            "/content/drive/My Drive/DIP project/DATA\n"
          ]
        },
        {
          "output_type": "stream",
          "name": "stderr",
          "text": [
            "\r 55%|█████▍    | 6/11 [00:00<00:00, 52.40it/s]"
          ]
        },
        {
          "output_type": "stream",
          "name": "stdout",
          "text": [
            "/content/drive/My Drive/DIP project/DATA\n",
            "/content/drive/My Drive/DIP project/DATA\n",
            "/content/drive/My Drive/DIP project/DATA\n",
            "/content/drive/My Drive/DIP project/DATA\n",
            "/content/drive/My Drive/DIP project/DATA\n",
            "/content/drive/My Drive/DIP project/DATA\n",
            "/content/drive/My Drive/DIP project/DATA\n"
          ]
        },
        {
          "output_type": "stream",
          "name": "stderr",
          "text": [
            "\r100%|██████████| 11/11 [00:00<00:00, 52.10it/s]"
          ]
        },
        {
          "output_type": "stream",
          "name": "stdout",
          "text": [
            "/content/drive/My Drive/DIP project/DATA\n",
            "/content/drive/My Drive/DIP project/DATA\n"
          ]
        },
        {
          "output_type": "stream",
          "name": "stderr",
          "text": [
            "\n"
          ]
        }
      ]
    },
    {
      "cell_type": "code",
      "source": [
        "len(namelist),len(labellist)"
      ],
      "metadata": {
        "colab": {
          "base_uri": "https://localhost:8080/"
        },
        "id": "lJUhHyL1R1U9",
        "outputId": "678ea3ba-77c6-4fc2-c569-0da158157e8a"
      },
      "execution_count": 258,
      "outputs": [
        {
          "output_type": "execute_result",
          "data": {
            "text/plain": [
              "(962, 962)"
            ]
          },
          "metadata": {},
          "execution_count": 258
        }
      ]
    },
    {
      "cell_type": "code",
      "source": [
        "ims = []\n",
        "labels = []\n",
        "\n",
        "for c in tqdm(range(len(namelist))):\n",
        "    name = namelist[c]\n",
        "    im = cv2.imread(name)\n",
        "    try:\n",
        "        len(im)<1\n",
        "        ims.append(im)\n",
        "        labels.append(labellist[c])\n",
        "        # print(name,labellist[c])\n",
        "    except:\n",
        "        pass\n",
        "    "
      ],
      "metadata": {
        "colab": {
          "base_uri": "https://localhost:8080/"
        },
        "id": "nJrstZpVrFdK",
        "outputId": "ca3fbfea-a3ff-4cae-d2c6-b0f7ea565fba"
      },
      "execution_count": 259,
      "outputs": [
        {
          "output_type": "stream",
          "name": "stderr",
          "text": [
            "100%|██████████| 962/962 [00:02<00:00, 424.07it/s]\n"
          ]
        }
      ]
    },
    {
      "cell_type": "code",
      "source": [
        "ims = np.array(ims)\n",
        "len(ims),len(labels),ims.shape"
      ],
      "metadata": {
        "colab": {
          "base_uri": "https://localhost:8080/"
        },
        "id": "5I-x-gAZrb_6",
        "outputId": "97cb2b60-b137-4ace-a54c-a86b82283ae8"
      },
      "execution_count": 260,
      "outputs": [
        {
          "output_type": "execute_result",
          "data": {
            "text/plain": [
              "(951, 951, (951, 32, 32, 3))"
            ]
          },
          "metadata": {},
          "execution_count": 260
        }
      ]
    },
    {
      "cell_type": "code",
      "source": [
        ""
      ],
      "metadata": {
        "id": "zwDIBHGrrdwJ"
      },
      "execution_count": 260,
      "outputs": []
    },
    {
      "cell_type": "markdown",
      "source": [
        "##HSV"
      ],
      "metadata": {
        "id": "bbvGPIjev2oK"
      }
    },
    {
      "cell_type": "code",
      "source": [
        "!pip install Image"
      ],
      "metadata": {
        "colab": {
          "base_uri": "https://localhost:8080/"
        },
        "id": "w5yvyqHrxIAA",
        "outputId": "e759c832-be34-46f5-e295-b5ed19ad91cf"
      },
      "execution_count": 261,
      "outputs": [
        {
          "output_type": "stream",
          "name": "stdout",
          "text": [
            "Looking in indexes: https://pypi.org/simple, https://us-python.pkg.dev/colab-wheels/public/simple/\n",
            "Requirement already satisfied: Image in /usr/local/lib/python3.7/dist-packages (1.5.33)\n",
            "Requirement already satisfied: pillow in /usr/local/lib/python3.7/dist-packages (from Image) (7.1.2)\n",
            "Requirement already satisfied: django in /usr/local/lib/python3.7/dist-packages (from Image) (3.2.13)\n",
            "Requirement already satisfied: six in /usr/local/lib/python3.7/dist-packages (from Image) (1.15.0)\n",
            "Requirement already satisfied: sqlparse>=0.2.2 in /usr/local/lib/python3.7/dist-packages (from django->Image) (0.4.2)\n",
            "Requirement already satisfied: asgiref<4,>=3.3.2 in /usr/local/lib/python3.7/dist-packages (from django->Image) (3.5.2)\n",
            "Requirement already satisfied: pytz in /usr/local/lib/python3.7/dist-packages (from django->Image) (2022.1)\n",
            "Requirement already satisfied: typing-extensions in /usr/local/lib/python3.7/dist-packages (from asgiref<4,>=3.3.2->django->Image) (4.1.1)\n"
          ]
        }
      ]
    },
    {
      "cell_type": "code",
      "source": [
        "import colorsys\n",
        "\n",
        "def HSVColor(img):\n",
        "    shapee = img.shape\n",
        "    temp = img.reshape(-1,3)\n",
        "    # print(temp.shape,temp[0])\n",
        "    temp2 = [colorsys.rgb_to_hsv(im[0],im[1],im[2]) for im in temp]\n",
        "    img = np.array(temp2).reshape(shapee)\n",
        "    img[:,:,2]/=255\n",
        "    return img"
      ],
      "metadata": {
        "id": "Ppjf0XXDw-eZ"
      },
      "execution_count": 262,
      "outputs": []
    },
    {
      "cell_type": "code",
      "source": [
        "HSVColor(np.array([[[100,200,120]]]))"
      ],
      "metadata": {
        "colab": {
          "base_uri": "https://localhost:8080/"
        },
        "id": "ogoO95ga4nO1",
        "outputId": "831251e4-2406-4ff6-fe87-351bdb8993bb"
      },
      "execution_count": 263,
      "outputs": [
        {
          "output_type": "execute_result",
          "data": {
            "text/plain": [
              "array([[[0.36666667, 0.5       , 0.78431373]]])"
            ]
          },
          "metadata": {},
          "execution_count": 263
        }
      ]
    },
    {
      "cell_type": "code",
      "source": [
        "im = np.copy(ims[0])\n",
        "cv2_imshow(im)\n",
        "im = HSVColor(im)\n",
        "cv2_imshow(im)"
      ],
      "metadata": {
        "colab": {
          "base_uri": "https://localhost:8080/",
          "height": 81
        },
        "id": "-lblGDIQv6cq",
        "outputId": "b41f6a9f-20e3-43a9-927c-9445ec76dd07"
      },
      "execution_count": 264,
      "outputs": [
        {
          "output_type": "display_data",
          "data": {
            "text/plain": [
              "<PIL.Image.Image image mode=RGB size=32x32 at 0x7F134BB1FB50>"
            ],
            "image/png": "[encoded data removed]"
          },
          "metadata": {}
        },
        {
          "output_type": "display_data",
          "data": {
            "text/plain": [
              "<PIL.Image.Image image mode=RGB size=32x32 at 0x7F134BA0A150>"
            ],
            "image/png": "[encoded data removed]"
          },
          "metadata": {}
        }
      ]
    },
    {
      "cell_type": "markdown",
      "source": [
        "* SIGNAL BASED\n",
        "* COLOR BASED\n",
        "* EDGE BASED"
      ],
      "metadata": {
        "id": "18R15aC34B88"
      }
    },
    {
      "cell_type": "markdown",
      "source": [
        "# SIGNAL BASED"
      ],
      "metadata": {
        "id": "pSohNP4g4LC2"
      }
    },
    {
      "cell_type": "code",
      "source": [
        "from scipy.fft import fft, fftfreq, fft2, ifft2"
      ],
      "metadata": {
        "id": "oC4FIHZQBNEI"
      },
      "execution_count": 265,
      "outputs": []
    },
    {
      "cell_type": "code",
      "source": [
        "# im = np.copy(ims[0])\n",
        "fft_img = np.fft.fft2(im)\n",
        "fft_img_shift = np.fft.fftshift(fft_img)\n",
        "cv2_imshow(im)\n",
        "cv2_imshow(fft_img)\n",
        "cv2_imshow(fft_img_shift)"
      ],
      "metadata": {
        "colab": {
          "base_uri": "https://localhost:8080/",
          "height": 168
        },
        "id": "J3-HUvG84ZUL",
        "outputId": "0ddacaea-10db-415a-f993-8e724846692e"
      },
      "execution_count": 266,
      "outputs": [
        {
          "output_type": "display_data",
          "data": {
            "text/plain": [
              "<PIL.Image.Image image mode=RGB size=32x32 at 0x7F134B977C10>"
            ],
            "image/png": "[encoded data removed]"
          },
          "metadata": {}
        },
        {
          "output_type": "stream",
          "name": "stderr",
          "text": [
            "/usr/local/lib/python3.7/dist-packages/google/colab/patches/__init__.py:22: ComplexWarning: Casting complex values to real discards the imaginary part\n",
            "  a = a.clip(0, 255).astype('uint8')\n"
          ]
        },
        {
          "output_type": "display_data",
          "data": {
            "text/plain": [
              "<PIL.Image.Image image mode=RGB size=32x32 at 0x7F134B977F50>"
            ],
            "image/png": "[encoded data removed]"
          },
          "metadata": {}
        },
        {
          "output_type": "display_data",
          "data": {
            "text/plain": [
              "<PIL.Image.Image image mode=RGB size=32x32 at 0x7F134B8DD5D0>"
            ],
            "image/png": "[encoded data removed]"
          },
          "metadata": {}
        }
      ]
    },
    {
      "cell_type": "code",
      "source": [
        "sample = np.copy(fft_img_shift)"
      ],
      "metadata": {
        "id": "2lBKBrqc5IZr"
      },
      "execution_count": 267,
      "outputs": []
    },
    {
      "cell_type": "code",
      "source": [
        "s0 = sample[:,:,0]\n",
        "s1 = sample[:,:,1]\n",
        "s2 = sample[:,:,2]\n",
        "\n",
        "cv2_imshow(im[:,:,0])\n",
        "cv2_imshow(s0)\n",
        "cv2_imshow(im[:,:,1])\n",
        "cv2_imshow(s1)\n",
        "cv2_imshow(im[:,:,2])\n",
        "cv2_imshow(s2)"
      ],
      "metadata": {
        "id": "sOudGP6L5PHS",
        "colab": {
          "base_uri": "https://localhost:8080/",
          "height": 264
        },
        "outputId": "707955be-f4f9-415f-a344-8c4332d41596"
      },
      "execution_count": 268,
      "outputs": [
        {
          "output_type": "display_data",
          "data": {
            "text/plain": [
              "<PIL.Image.Image image mode=L size=32x32 at 0x7F134B9236D0>"
            ],
            "image/png": "[encoded data removed]"
          },
          "metadata": {}
        },
        {
          "output_type": "stream",
          "name": "stderr",
          "text": [
            "/usr/local/lib/python3.7/dist-packages/google/colab/patches/__init__.py:22: ComplexWarning: Casting complex values to real discards the imaginary part\n",
            "  a = a.clip(0, 255).astype('uint8')\n"
          ]
        },
        {
          "output_type": "display_data",
          "data": {
            "text/plain": [
              "<PIL.Image.Image image mode=L size=32x32 at 0x7F134B8DD790>"
            ],
            "image/png": "[encoded data removed]"
          },
          "metadata": {}
        },
        {
          "output_type": "display_data",
          "data": {
            "text/plain": [
              "<PIL.Image.Image image mode=L size=32x32 at 0x7F134B8DD790>"
            ],
            "image/png": "[encoded data removed]"
          },
          "metadata": {}
        },
        {
          "output_type": "display_data",
          "data": {
            "text/plain": [
              "<PIL.Image.Image image mode=L size=32x32 at 0x7F134B9236D0>"
            ],
            "image/png": "[encoded data removed]"
          },
          "metadata": {}
        },
        {
          "output_type": "display_data",
          "data": {
            "text/plain": [
              "<PIL.Image.Image image mode=L size=32x32 at 0x7F134B923B50>"
            ],
            "image/png": "[encoded data removed]"
          },
          "metadata": {}
        },
        {
          "output_type": "display_data",
          "data": {
            "text/plain": [
              "<PIL.Image.Image image mode=L size=32x32 at 0x7F134B923B50>"
            ],
            "image/png": "[encoded data removed]"
          },
          "metadata": {}
        }
      ]
    },
    {
      "cell_type": "code",
      "source": [
        ""
      ],
      "metadata": {
        "id": "GGmWcX1-3phO"
      },
      "execution_count": 268,
      "outputs": []
    },
    {
      "cell_type": "code",
      "source": [
        "def distance(a,b):\n",
        "    return round(((a[0]-b[0])**2+(a[1]-b[1])**2)**0.5,2)"
      ],
      "metadata": {
        "id": "QwF1xW3pAu2S"
      },
      "execution_count": 269,
      "outputs": []
    },
    {
      "cell_type": "code",
      "source": [
        "def func(sample):\n",
        "    sample = np.copy(sample)\n",
        "    s0 = sample[:,:,0]\n",
        "    d1,d2 = s0.shape\n",
        "    m1,m2 = (d1-1)/2,(d2-1)/2\n",
        "    # print(distance([0,0],[m1,m2]))\n",
        "    ths = [4,8,12,16]\n",
        "    lavels_point = np.zeros((d1,d2))\n",
        "    for i in range(d1):\n",
        "        for j in range(d2):\n",
        "            d = distance([i,j],[m1,m1])\n",
        "            if d<ths[0]:\n",
        "                lavels_point[i][j] = 0\n",
        "            elif d<ths[1]:\n",
        "                lavels_point[i][j] = 255\n",
        "            elif d<ths[2]:\n",
        "                lavels_point[i][j] = 0\n",
        "            elif d<ths[3]:\n",
        "                lavels_point[i][j] = 255\n",
        "            else:\n",
        "                lavels_point[i][j] = 128\n",
        "    \n",
        "    cv2_imshow(lavels_point)\n",
        "\n",
        "func(sample)"
      ],
      "metadata": {
        "colab": {
          "base_uri": "https://localhost:8080/",
          "height": 49
        },
        "id": "7wfF7BN-BHco",
        "outputId": "2b35490f-5179-43e6-da23-0216bbed17e5"
      },
      "execution_count": 270,
      "outputs": [
        {
          "output_type": "display_data",
          "data": {
            "text/plain": [
              "<PIL.Image.Image image mode=L size=32x32 at 0x7F134B8DD790>"
            ],
            "image/png": "[encoded data removed]"
          },
          "metadata": {}
        }
      ]
    },
    {
      "cell_type": "code",
      "source": [
        "def func(sample):\n",
        "    sample = np.copy(sample)\n",
        "    s0 = sample[:,:,0]\n",
        "    s1 = sample[:,:,1]\n",
        "    s2 = sample[:,:,2]\n",
        "    d1,d2 = s1.shape\n",
        "    m1,m2 = (d1-1)/2,(d2-1)/2\n",
        "    # print(distance([0,0],[m1,m2]))\n",
        "    ths = [4,8,12,16]\n",
        "    lavels_point = [[],[],[],[],[]]\n",
        "    sample = s1\n",
        "    for i in range(d1):\n",
        "        for j in range(d2):\n",
        "            d = distance([i,j],[m1,m1])\n",
        "            if d<ths[0]:\n",
        "                lavels_point[0].append(sample[i][j])\n",
        "            elif d<ths[1]:\n",
        "                lavels_point[1].append(sample[i][j])\n",
        "            elif d<ths[2]:\n",
        "                lavels_point[2].append(sample[i][j])\n",
        "            elif d<ths[3]:\n",
        "                lavels_point[3].append(sample[i][j])\n",
        "            else:\n",
        "                lavels_point[4].append(sample[i][j])\n",
        "    lavels_point = np.array(lavels_point)\n",
        "    return lavels_point\n",
        "\n",
        "lavels_point = func(sample)"
      ],
      "metadata": {
        "colab": {
          "base_uri": "https://localhost:8080/"
        },
        "id": "O1htvu66_dRy",
        "outputId": "1ef0c7ed-6672-4267-97ed-1867d7522200"
      },
      "execution_count": 271,
      "outputs": [
        {
          "output_type": "stream",
          "name": "stderr",
          "text": [
            "/usr/local/lib/python3.7/dist-packages/ipykernel_launcher.py:25: VisibleDeprecationWarning: Creating an ndarray from ragged nested sequences (which is a list-or-tuple of lists-or-tuples-or ndarrays with different lengths or shapes) is deprecated. If you meant to do this, you must specify 'dtype=object' when creating the ndarray.\n"
          ]
        }
      ]
    },
    {
      "cell_type": "code",
      "source": [
        "def fft_feature_extractior(im):\n",
        "    flist = []\n",
        "\n",
        "    fft_img = np.fft.fft2(im)\n",
        "    sample = np.fft.fftshift(fft_img)\n",
        "    \n",
        "    s0 = sample[:,:,0]\n",
        "    s1 = sample[:,:,1]\n",
        "    s2 = sample[:,:,2]\n",
        "\n",
        "    lp0 = func(s0)\n",
        "    lp1 = func(s1)\n",
        "    lp2 = func(s2)\n",
        "\n",
        "    def convertor_23(lp,flist):\n",
        "        out = [np.mean(lp[0]),np.mean(lp[1]),np.mean(lp[2]),np.mean(lp[3]),np.mean(lp[4])]\n",
        "        absout = list(map(abs,out))\n",
        "        for i in range(len(out)):\n",
        "            flist.append(absout[i])\n",
        "            flist.apppend(np.angle(out[i]))\n",
        "        return flist \n",
        "    \n",
        "    flist = convertor_23(lp0,flist)\n",
        "    flist = convertor_23(lp1,flist)\n",
        "    flist = convertor_23(lp2,flist)\n",
        "\n",
        "    return flist"
      ],
      "metadata": {
        "id": "sxP3V5HvDNsN"
      },
      "execution_count": 272,
      "outputs": []
    },
    {
      "cell_type": "code",
      "source": [
        "out = [np.mean(lavels_point[0]),np.mean(lavels_point[1]),np.mean(lavels_point[2]),np.mean(lavels_point[3]),np.mean(lavels_point[4])]\n",
        "absout = list(map(abs,out))\n",
        "for i in range(len(out)):\n",
        "    print(out[i],'\\n   ---------------------------------------> ',absout[i])\n",
        "    print(out[i],'\\n   ------------------------------------------------------------------> ',np.angle(out[i]))"
      ],
      "metadata": {
        "colab": {
          "base_uri": "https://localhost:8080/"
        },
        "id": "D7qwFCFtDSmP",
        "outputId": "94709565-e649-4441-cfd7-6b60fcd47a10"
      },
      "execution_count": 273,
      "outputs": [
        {
          "output_type": "stream",
          "name": "stdout",
          "text": [
            "(7.774752313757279+0.16514489143384967j) \n",
            "   --------------------------------------->  7.776506051913087\n",
            "(7.774752313757279+0.16514489143384967j) \n",
            "   ------------------------------------------------------------------>  0.021237983460091654\n",
            "(2.1719042044494175-0.005064531553517051j) \n",
            "   --------------------------------------->  2.1719101092782163\n",
            "(2.1719042044494175-0.005064531553517051j) \n",
            "   ------------------------------------------------------------------>  -0.0023318350614872233\n",
            "(1.425993934477561+0.015578920236822034j) \n",
            "   --------------------------------------->  1.4260790314433978\n",
            "(1.425993934477561+0.015578920236822034j) \n",
            "   ------------------------------------------------------------------>  0.010924520854555317\n",
            "(1.2149541007675726-0.0196857619735329j) \n",
            "   --------------------------------------->  1.2151135733734602\n",
            "(1.2149541007675726-0.0196857619735329j) \n",
            "   ------------------------------------------------------------------>  -0.016201467617961107\n",
            "(0.3748453384092841-0.020616938352277504j) \n",
            "   --------------------------------------->  0.37541188829629824\n",
            "(0.3748453384092841-0.020616938352277504j) \n",
            "   ------------------------------------------------------------------>  -0.05494582499030614\n"
          ]
        }
      ]
    },
    {
      "cell_type": "code",
      "source": [
        "r = im[:,:,0]\n",
        "g = im[:,:,1]\n",
        "b = im[:,:,2]\n",
        "z = np.zeros(b.shape)\n",
        "cv2_imshow(np.array([r,z,z]).transpose())\n",
        "cv2_imshow(np.array([z,g,z]).transpose())\n",
        "cv2_imshow(np.array([z,z,b]).transpose())"
      ],
      "metadata": {
        "colab": {
          "base_uri": "https://localhost:8080/",
          "height": 113
        },
        "id": "VSWzYYENRhht",
        "outputId": "4c2695d0-b305-40e4-c964-131313fab409"
      },
      "execution_count": 274,
      "outputs": [
        {
          "output_type": "display_data",
          "data": {
            "text/plain": [
              "<PIL.Image.Image image mode=RGB size=32x32 at 0x7F134B97F2D0>"
            ],
            "image/png": "[encoded data removed]"
          },
          "metadata": {}
        },
        {
          "output_type": "display_data",
          "data": {
            "text/plain": [
              "<PIL.Image.Image image mode=RGB size=32x32 at 0x7F134B95A290>"
            ],
            "image/png": "[encoded data removed]"
          },
          "metadata": {}
        },
        {
          "output_type": "display_data",
          "data": {
            "text/plain": [
              "<PIL.Image.Image image mode=RGB size=32x32 at 0x7F134B97FDD0>"
            ],
            "image/png": "[encoded data removed]"
          },
          "metadata": {}
        }
      ]
    },
    {
      "cell_type": "markdown",
      "source": [
        ""
      ],
      "metadata": {
        "id": "PvaBvhAhvxHB"
      }
    },
    {
      "cell_type": "code",
      "source": [
        "im.shape"
      ],
      "metadata": {
        "colab": {
          "base_uri": "https://localhost:8080/"
        },
        "id": "Uz6q7aiM0VIz",
        "outputId": "4300fdea-5f56-4075-a74e-6d7de4ef471f"
      },
      "execution_count": 275,
      "outputs": [
        {
          "output_type": "execute_result",
          "data": {
            "text/plain": [
              "(32, 32, 3)"
            ]
          },
          "metadata": {},
          "execution_count": 275
        }
      ]
    },
    {
      "cell_type": "code",
      "source": [
        "class feature_extraction():\n",
        "    def __init__(self):\n",
        "        pass\n",
        "    \n",
        "    @staticmethod\n",
        "    def binary(img,th=0.5):\n",
        "        img2 = np.copy(img)\n",
        "        img2[img2>th]=1\n",
        "        img2[img2<1]=0\n",
        "        return img2\n",
        "    \n",
        "    @staticmethod\n",
        "    def area(img):\n",
        "        img2 = np.copy(img)\n",
        "        img2 = feature_extraction.binary(img)\n",
        "        return int(img2.sum())\n",
        "\n",
        "    @staticmethod\n",
        "    def char_dar_char(img):\n",
        "        img2 = np.copy(img)\n",
        "        out = []\n",
        "        for i in range(4):\n",
        "            for j in range(4):\n",
        "                subim = img2[i*8:i*8+7,j*8:j*8+7]\n",
        "                out.append(round(subim.sum()/64,2))\n",
        "        return out\n",
        "    \n",
        "    @staticmethod\n",
        "    def do_dar_do(img):\n",
        "        img2 = np.copy(img)\n",
        "        out = []\n",
        "        for i in range(2):\n",
        "            for j in range(2):\n",
        "                subim = img2[i*16:i*16+15,j*16:j*16+15]\n",
        "                out.append(round(subim.sum()/256,2))\n",
        "        return out\n",
        "    \n",
        "    @staticmethod\n",
        "    def char_axis1(img):\n",
        "        img2 = np.copy(img)\n",
        "        out = []\n",
        "        for i in range(4):\n",
        "                subim = img2[i*8:i*8+7,:]\n",
        "                out.append(round(subim.sum()/256,2))\n",
        "        return out\n",
        "    \n",
        "    @staticmethod\n",
        "    def char_axis2(img):\n",
        "        img2 = np.copy(img)\n",
        "        out = []\n",
        "        for i in range(4):\n",
        "                subim = img2[:,i*8:i*8+7]\n",
        "                out.append(round(subim.sum()/256,2))\n",
        "        return out\n",
        "    \n",
        "    @staticmethod\n",
        "    def vertical_edge(img):\n",
        "        kernel = np.array([[1,0],[1,0]])\n",
        "        afterkernel = cv2.filter2D(img,-1,kernel)\n",
        "        return round(afterkernel.sum()/(1024),2)\n",
        "    \n",
        "    @staticmethod\n",
        "    def horisental_edge(img):\n",
        "        kernel1 = np.array([[1,1],[0,0]])\n",
        "        kernel2 = np.array([[0,0],[1,1]])\n",
        "\n",
        "        afterkernel1 = cv2.filter2D(img,-1,kernel1)\n",
        "        afterkernel2 = cv2.filter2D(img,-1,kernel2)\n",
        "        return round((afterkernel1.sum()+afterkernel2.sum())/(1024*2),2)\n",
        "\n",
        "    @staticmethod\n",
        "    def kaj_chap_edge(img):\n",
        "        kernel1 = np.array([[1,1],[1,0]])\n",
        "        kernel2 = np.array([[0,1],[1,1]])\n",
        "\n",
        "        afterkernel1 = cv2.filter2D(img,-1,kernel1)\n",
        "        afterkernel2 = cv2.filter2D(img,-1,kernel2)\n",
        "        return round(afterkernel1.sum()/1024,2),round(afterkernel2.sum()/1024,2)\n",
        "\n",
        "    @staticmethod\n",
        "    def kaj_rast_edge(img):\n",
        "        kernel1 = np.array([[1,0],[1,1]])\n",
        "        kernel2 = np.array([[1,1],[0,1]])\n",
        "\n",
        "        afterkernel1 = cv2.filter2D(img,-1,kernel1)\n",
        "        afterkernel2 = cv2.filter2D(img,-1,kernel2)\n",
        "        return round(afterkernel1.sum()/1024,2),round(afterkernel2.sum()/1024,2)\n",
        "\n",
        "    @staticmethod\n",
        "    def run(img,th='0.5'):\n",
        "        \n",
        "        f = []\n",
        "        f.append(feature_extraction.area(img)/1024)\n",
        "        for i in feature_extraction.char_dar_char(img):\n",
        "            f.append(i)\n",
        "        for i in feature_extraction.do_dar_do(img):\n",
        "            f.append(i)\n",
        "        for i in feature_extraction.char_axis1(img):\n",
        "            f.append(i)\n",
        "        for i in feature_extraction.char_axis2(img):\n",
        "            f.append(i)\n",
        "        f.append(feature_extraction.vertical_edge(img))\n",
        "        f.append(feature_extraction.horisental_edge(img))\n",
        "        for i in feature_extraction.kaj_chap_edge(img):\n",
        "            f.append(i)\n",
        "        for i in feature_extraction.kaj_rast_edge(img):\n",
        "            f.append(i)\n",
        "\n",
        "        return np.array(f)"
      ],
      "metadata": {
        "id": "zk1Q-y5eSBiM"
      },
      "execution_count": 276,
      "outputs": []
    },
    {
      "cell_type": "code",
      "source": [
        "im = np.copy(ims[0])\n",
        "cv2_imshow(im)\n",
        "im = HSVColor(im)\n",
        "cv2_imshow(im*255)"
      ],
      "metadata": {
        "colab": {
          "base_uri": "https://localhost:8080/",
          "height": 81
        },
        "id": "FqvbHQ-d3_S9",
        "outputId": "68ef603a-1a16-448f-e976-100c5e69058f"
      },
      "execution_count": 277,
      "outputs": [
        {
          "output_type": "display_data",
          "data": {
            "text/plain": [
              "<PIL.Image.Image image mode=RGB size=32x32 at 0x7F134BA7CD50>"
            ],
            "image/png": "[encoded data removed]"
          },
          "metadata": {}
        },
        {
          "output_type": "display_data",
          "data": {
            "text/plain": [
              "<PIL.Image.Image image mode=RGB size=32x32 at 0x7F134B949A10>"
            ],
            "image/png": "[encoded data removed]"
          },
          "metadata": {}
        }
      ]
    },
    {
      "cell_type": "code",
      "source": [
        "im[:,:,2].max(),im[:,:,2].min()"
      ],
      "metadata": {
        "colab": {
          "base_uri": "https://localhost:8080/"
        },
        "id": "3l2-hjcb4CcF",
        "outputId": "83413c2e-6910-4400-c36b-7939e1be6e31"
      },
      "execution_count": 278,
      "outputs": [
        {
          "output_type": "execute_result",
          "data": {
            "text/plain": [
              "(1.0, 0.21176470588235294)"
            ]
          },
          "metadata": {},
          "execution_count": 278
        }
      ]
    },
    {
      "cell_type": "code",
      "source": [
        "feature_extraction.run(im[:,:,1])"
      ],
      "metadata": {
        "colab": {
          "base_uri": "https://localhost:8080/"
        },
        "id": "JfUWOicr0Lrb",
        "outputId": "7b4fd666-79e6-4eda-ac3c-d56b9219714b"
      },
      "execution_count": 279,
      "outputs": [
        {
          "output_type": "execute_result",
          "data": {
            "text/plain": [
              "array([0.10253906, 0.35      , 0.28      , 0.32      , 0.28      ,\n",
              "       0.14      , 0.2       , 0.17      , 0.24      , 0.3       ,\n",
              "       0.15      , 0.09      , 0.26      , 0.13      , 0.22      ,\n",
              "       0.17      , 0.11      , 0.29      , 0.29      , 0.23      ,\n",
              "       0.18      , 0.34      , 0.22      , 0.23      , 0.18      ,\n",
              "       0.26      , 0.25      , 0.21      , 0.25      , 0.56      ,\n",
              "       0.56      , 0.84      , 0.84      , 0.84      , 0.84      ])"
            ]
          },
          "metadata": {},
          "execution_count": 279
        }
      ]
    },
    {
      "cell_type": "code",
      "source": [
        "# mohem"
      ],
      "metadata": {
        "id": "N8zUMnmKGKBc"
      },
      "execution_count": 280,
      "outputs": []
    },
    {
      "cell_type": "markdown",
      "source": [
        "%%%%%%%%%%%%%%%%%%%%%%%%%%%%%%%%%%%%%%%%%%\n",
        "\n",
        "final round till now\n",
        "\n",
        "%%%%%%%%%%%%%%%%%%%%%%%%%%%%%%%%%%%%%%%%%%"
      ],
      "metadata": {
        "id": "LzgbDf_oE8Ib"
      }
    },
    {
      "cell_type": "code",
      "source": [
        "def fft_feature_extractior_helper(sample):\n",
        "    sample = np.copy(sample)\n",
        "    \n",
        "    d1,d2 = sample.shape\n",
        "    m1,m2 = (d1-1)/2,(d2-1)/2\n",
        "    # print(distance([0,0],[m1,m2]))\n",
        "    ths = [4,8,12,16]\n",
        "    lavels_point = [[],[],[],[],[]]\n",
        "    \n",
        "    for i in range(d1):\n",
        "        for j in range(d2):\n",
        "            d = distance([i,j],[m1,m1])\n",
        "            if d<ths[0]:\n",
        "                lavels_point[0].append(sample[i][j])\n",
        "            elif d<ths[1]:\n",
        "                lavels_point[1].append(sample[i][j])\n",
        "            elif d<ths[2]:\n",
        "                lavels_point[2].append(sample[i][j])\n",
        "            elif d<ths[3]:\n",
        "                lavels_point[3].append(sample[i][j])\n",
        "            else:\n",
        "                lavels_point[4].append(sample[i][j])\n",
        "    lavels_point = np.array(lavels_point)\n",
        "    return lavels_point\n"
      ],
      "metadata": {
        "id": "u_jtatfiFmfD"
      },
      "execution_count": 281,
      "outputs": []
    },
    {
      "cell_type": "code",
      "source": [
        "def fft_feature_extractior(im):\n",
        "    flist = []\n",
        "\n",
        "    s0 = im[:,:,0]\n",
        "    s1 = im[:,:,1]\n",
        "    s2 = im[:,:,2]\n",
        "\n",
        "    fft_img = np.fft.fft2(s0)\n",
        "    s0 = np.fft.fftshift(fft_img)\n",
        "\n",
        "    fft_img = np.fft.fft2(s1)\n",
        "    s1 = np.fft.fftshift(fft_img)\n",
        "\n",
        "    fft_img = np.fft.fft2(s2)\n",
        "    s2 = np.fft.fftshift(fft_img)\n",
        "    \n",
        "    lp0 = fft_feature_extractior_helper(s0)\n",
        "    lp1 = fft_feature_extractior_helper(s1)\n",
        "    lp2 = fft_feature_extractior_helper(s2)\n",
        "\n",
        "    def convertor_23(lp,flist):\n",
        "        out = [np.mean(lp[0]),np.mean(lp[1]),np.mean(lp[2]),np.mean(lp[3]),np.mean(lp[4])]\n",
        "        absout = list(map(abs,out))\n",
        "        for i in range(len(out)):\n",
        "            flist.append(absout[i])\n",
        "            # flist.append(np.angle(out[i]))\n",
        "        return flist \n",
        "    \n",
        "    flist = convertor_23(lp0,flist)\n",
        "    flist = convertor_23(lp1,flist)\n",
        "    flist = convertor_23(lp2,flist)\n",
        "\n",
        "    max_ = max(flist)\n",
        "    for i in range(0,len(flist),2):\n",
        "        flist[i]/=max_\n",
        "\n",
        "    return flist\n"
      ],
      "metadata": {
        "id": "XuuPOEGY3Thc"
      },
      "execution_count": 282,
      "outputs": []
    },
    {
      "cell_type": "code",
      "source": [
        "class feature_extraction():\n",
        "    def __init__(self):\n",
        "        pass\n",
        "    \n",
        "    @staticmethod\n",
        "    def binary(img,th=0.5):\n",
        "        img2 = np.copy(img)\n",
        "        img2[img2>th]=1\n",
        "        img2[img2<1]=0\n",
        "        return img2\n",
        "    \n",
        "    @staticmethod\n",
        "    def area(img):\n",
        "        img2 = np.copy(img)\n",
        "        img2 = feature_extraction.binary(img)\n",
        "        return int(img2.sum())\n",
        "\n",
        "    @staticmethod\n",
        "    def char_dar_char(img):\n",
        "        img2 = np.copy(img)\n",
        "        out = []\n",
        "        for i in range(4):\n",
        "            for j in range(4):\n",
        "                subim = img2[i*8:i*8+7,j*8:j*8+7]\n",
        "                out.append(round(subim.sum()/64,2))\n",
        "        return out\n",
        "    \n",
        "    @staticmethod\n",
        "    def do_dar_do(img):\n",
        "        img2 = np.copy(img)\n",
        "        out = []\n",
        "        for i in range(2):\n",
        "            for j in range(2):\n",
        "                subim = img2[i*16:i*16+15,j*16:j*16+15]\n",
        "                out.append(round(subim.sum()/256,2))\n",
        "        return out\n",
        "    \n",
        "    @staticmethod\n",
        "    def char_axis1(img):\n",
        "        img2 = np.copy(img)\n",
        "        out = []\n",
        "        for i in range(4):\n",
        "                subim = img2[i*8:i*8+7,:]\n",
        "                out.append(round(subim.sum()/256,2))\n",
        "        return out\n",
        "    \n",
        "    @staticmethod\n",
        "    def char_axis2(img):\n",
        "        img2 = np.copy(img)\n",
        "        out = []\n",
        "        for i in range(4):\n",
        "                subim = img2[:,i*8:i*8+7]\n",
        "                out.append(round(subim.sum()/256,2))\n",
        "        return out\n",
        "    \n",
        "    @staticmethod\n",
        "    def vertical_edge(img):\n",
        "        kernel = np.array([[1,0],[1,0]])\n",
        "        afterkernel = cv2.filter2D(img,-1,kernel)\n",
        "        return round(afterkernel.sum()/(1024),2)\n",
        "    \n",
        "    @staticmethod\n",
        "    def horisental_edge(img):\n",
        "        kernel1 = np.array([[1,1],[0,0]])\n",
        "        kernel2 = np.array([[0,0],[1,1]])\n",
        "\n",
        "        afterkernel1 = cv2.filter2D(img,-1,kernel1)\n",
        "        afterkernel2 = cv2.filter2D(img,-1,kernel2)\n",
        "        return round((afterkernel1.sum()+afterkernel2.sum())/(1024*2),2)\n",
        "\n",
        "    @staticmethod\n",
        "    def kaj_chap_edge(img):\n",
        "        kernel1 = np.array([[1,1],[1,0]])\n",
        "        kernel2 = np.array([[0,1],[1,1]])\n",
        "\n",
        "        afterkernel1 = cv2.filter2D(img,-1,kernel1)\n",
        "        afterkernel2 = cv2.filter2D(img,-1,kernel2)\n",
        "        return round(afterkernel1.sum()/1024,2),round(afterkernel2.sum()/1024,2)\n",
        "\n",
        "    @staticmethod\n",
        "    def kaj_rast_edge(img):\n",
        "        kernel1 = np.array([[1,0],[1,1]])\n",
        "        kernel2 = np.array([[1,1],[0,1]])\n",
        "\n",
        "        afterkernel1 = cv2.filter2D(img,-1,kernel1)\n",
        "        afterkernel2 = cv2.filter2D(img,-1,kernel2)\n",
        "        return round(afterkernel1.sum()/1024,2),round(afterkernel2.sum()/1024,2)\n",
        "\n",
        "    @staticmethod\n",
        "    def run_(img,th='0.5'):\n",
        "        f = []\n",
        "        f.append(feature_extraction.area(img)/1024)\n",
        "        for i in feature_extraction.char_dar_char(img):\n",
        "            f.append(i)\n",
        "        for i in feature_extraction.do_dar_do(img):\n",
        "            f.append(i)\n",
        "        for i in feature_extraction.char_axis1(img):\n",
        "            f.append(i)\n",
        "        for i in feature_extraction.char_axis2(img):\n",
        "            f.append(i)\n",
        "        f.append(feature_extraction.vertical_edge(img))\n",
        "        f.append(feature_extraction.horisental_edge(img))\n",
        "        for i in feature_extraction.kaj_chap_edge(img):\n",
        "            f.append(i)\n",
        "        for i in feature_extraction.kaj_rast_edge(img):\n",
        "            f.append(i)\n",
        "\n",
        "        return np.array(f)\n",
        "    \n",
        "    @staticmethod\n",
        "    def run(img,th=0.5):\n",
        "        if len(img.shape)==3:\n",
        "            f = np.array([])\n",
        "            s0 =  img[:,:,0]\n",
        "            s1 =  img[:,:,1]\n",
        "            s2 =  img[:,:,2]\n",
        "            f = np.concatenate([f,feature_extraction.run_(s0,th='0.5')])\n",
        "            f = np.concatenate([f,feature_extraction.run_(s1,th='0.5')])\n",
        "            f = np.concatenate([f,feature_extraction.run_(s2,th='0.5')])\n",
        "            return f\n",
        "        else:\n",
        "            f = np.array([])\n",
        "            s0 =  img[:,:]\n",
        "            f = np.concatenate([f,feature_extraction.run_(s0,th='0.5')])\n",
        "            return f"
      ],
      "metadata": {
        "id": "lJleNua1FOqN"
      },
      "execution_count": 283,
      "outputs": []
    },
    {
      "cell_type": "code",
      "source": [
        "import colorsys\n",
        "\n",
        "def HSVColor(img):\n",
        "    shapee = img.shape\n",
        "    temp = img.reshape(-1,3)\n",
        "    # print(temp.shape,temp[0])\n",
        "    temp2 = [colorsys.rgb_to_hsv(im[0],im[1],im[2]) for im in temp]\n",
        "    img = np.array(temp2).reshape(shapee)\n",
        "    img[:,:,2]/=255\n",
        "    return img"
      ],
      "metadata": {
        "id": "VhM2FZGCHvDd"
      },
      "execution_count": 284,
      "outputs": []
    },
    {
      "cell_type": "code",
      "source": [
        "flist = []\n",
        "for i in tqdm(ims):\n",
        "    im = np.copy(i)\n",
        "\n",
        "    fd, hog_image = hog(im, orientations=9, pixels_per_cell=(8, 8),\n",
        "                \tcells_per_block=(2, 2), visualize=True, multichannel=True)\n",
        "    im = im/256\n",
        "\n",
        "    # hsvim = HSVColor(im)\n",
        "\n",
        "    # f1 = fft_feature_extractior(im)\n",
        "    # f2 = feature_extraction.run(im)\n",
        "    f3 = feature_extraction.run(hog_image)\n",
        "\n",
        "    # f4 = fft_feature_extractior(hsvim)\n",
        "    # f5 = feature_extraction.run(hsvim)\n",
        "    f = np.concatenate([f3])\n",
        "    flist.append(np.copy(f))"
      ],
      "metadata": {
        "colab": {
          "base_uri": "https://localhost:8080/"
        },
        "id": "ufPXUCG1FUvr",
        "outputId": "ac5a74d9-2021-47e7-856d-d6a4b2002d0e"
      },
      "execution_count": 285,
      "outputs": [
        {
          "output_type": "stream",
          "name": "stderr",
          "text": [
            "100%|██████████| 951/951 [00:03<00:00, 264.99it/s]\n"
          ]
        }
      ]
    },
    {
      "cell_type": "markdown",
      "source": [
        "#knn"
      ],
      "metadata": {
        "id": "I--r6k-zMhn4"
      }
    },
    {
      "cell_type": "code",
      "source": [
        "len(flist[0])"
      ],
      "metadata": {
        "colab": {
          "base_uri": "https://localhost:8080/"
        },
        "id": "OLI1UriGJHmQ",
        "outputId": "4b8a035b-b02c-4989-ad59-6901c923360e"
      },
      "execution_count": 286,
      "outputs": [
        {
          "output_type": "execute_result",
          "data": {
            "text/plain": [
              "35"
            ]
          },
          "metadata": {},
          "execution_count": 286
        }
      ]
    },
    {
      "cell_type": "code",
      "source": [
        "len(flist),len(labels)"
      ],
      "metadata": {
        "colab": {
          "base_uri": "https://localhost:8080/"
        },
        "id": "Ut4zB-WCJ58-",
        "outputId": "5469e48b-f5c6-48c2-e40e-08233072a201"
      },
      "execution_count": 287,
      "outputs": [
        {
          "output_type": "execute_result",
          "data": {
            "text/plain": [
              "(951, 951)"
            ]
          },
          "metadata": {},
          "execution_count": 287
        }
      ]
    },
    {
      "cell_type": "code",
      "source": [
        "# lllllll = np.copy(labels)"
      ],
      "metadata": {
        "id": "Byehj42lNeuY"
      },
      "execution_count": 288,
      "outputs": []
    },
    {
      "cell_type": "code",
      "source": [
        "ims2 = np.copy(flist)\n",
        "# ims2 = np.copy(ims)\n",
        "c = list(zip(ims2, labels))\n",
        "random.shuffle(c)\n",
        "ims2, labels = zip(*c)"
      ],
      "metadata": {
        "id": "RDKOMUDQSvLD"
      },
      "execution_count": 301,
      "outputs": []
    },
    {
      "cell_type": "code",
      "source": [
        "# cv2_imshow(ims2[0])\n",
        "# print(labels[0])\n",
        "# cv2_imshow(ims2[100])\n",
        "# print(labels[100])\n",
        "# cv2_imshow(ims2[-1])\n",
        "# print(labels[-1])"
      ],
      "metadata": {
        "id": "aDVDhSnxS-ze"
      },
      "execution_count": 302,
      "outputs": []
    },
    {
      "cell_type": "code",
      "source": [
        "ims2 = np.array(ims2)"
      ],
      "metadata": {
        "id": "U3VhRtjWTij6"
      },
      "execution_count": 303,
      "outputs": []
    },
    {
      "cell_type": "code",
      "source": [
        "# ims2 = ims2.reshape((-1,32*32*3))\n"
      ],
      "metadata": {
        "id": "At2t0Dc0TdfG"
      },
      "execution_count": 304,
      "outputs": []
    },
    {
      "cell_type": "code",
      "source": [
        "# Import necessary modules\n",
        "import random\n",
        "from sklearn.neighbors import KNeighborsClassifier\n",
        "from sklearn.model_selection import train_test_split\n",
        "from sklearn.datasets import load_iris\n",
        " \n",
        "flist = ims2 #**********\n",
        "\n",
        "X_train, X_test, y_train, y_test = train_test_split(\n",
        "             flist, labels, test_size = 0.2, random_state=42)\n",
        " \n",
        "knn = KNeighborsClassifier(n_neighbors=1)\n",
        " \n",
        "knn.fit(X_train, y_train)\n",
        " \n",
        "# Calculate the accuracy of the model\n",
        "print(knn.score(X_test, y_test))"
      ],
      "metadata": {
        "colab": {
          "base_uri": "https://localhost:8080/"
        },
        "id": "SteQhjsJLrF_",
        "outputId": "06483bad-7cd9-45bc-f376-42190ce28143"
      },
      "execution_count": 306,
      "outputs": [
        {
          "output_type": "stream",
          "name": "stdout",
          "text": [
            "0.93717277486911\n"
          ]
        }
      ]
    },
    {
      "cell_type": "code",
      "source": [
        ""
      ],
      "metadata": {
        "id": "_OLdLYZzIGm5"
      },
      "execution_count": 293,
      "outputs": []
    }
  ]
}