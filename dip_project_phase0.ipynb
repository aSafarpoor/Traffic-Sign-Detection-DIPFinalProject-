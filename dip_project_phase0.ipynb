{
  "nbformat": 4,
  "nbformat_minor": 0,
  "metadata": {
    "colab": {
      "name": "dip-project-phase0.ipynb",
      "provenance": [],
      "authorship_tag": "ABX9TyPFhCLxJr/bU4InLXSFJJEj",
      "include_colab_link": true
    },
    "kernelspec": {
      "name": "python3",
      "display_name": "Python 3"
    },
    "language_info": {
      "name": "python"
    }
  },
  "cells": [
    {
      "cell_type": "markdown",
      "metadata": {
        "id": "view-in-github",
        "colab_type": "text"
      },
      "source": [
        "<a href=\"https://colab.research.google.com/github/aSafarpoor/Traffic-Sign-Detection-DIPFinalProject-/blob/main/dip_project_phase0.ipynb\" target=\"_parent\"><img src=\"https://colab.research.google.com/assets/colab-badge.svg\" alt=\"Open In Colab\"/></a>"
      ]
    },
    {
      "cell_type": "code",
      "execution_count": null,
      "metadata": {
        "id": "tOGVe2t0ln_0"
      },
      "outputs": [],
      "source": [
        "import numpy as np\n",
        "import pandas as pd\n",
        "from matplotlib import pyplot as plt\n",
        "import cv2\n",
        "from google.colab.patches import cv2_imshow\n",
        "import os\n",
        "from tqdm import tqdm\n",
        "import subprocess"
      ]
    },
    {
      "cell_type": "code",
      "source": [
        "from google.colab import drive\n",
        "drive.mount('/content/drive')"
      ],
      "metadata": {
        "colab": {
          "base_uri": "https://localhost:8080/"
        },
        "id": "6AFFvD7Amn2p",
        "outputId": "a5bea495-a80e-4f94-850a-16572b96d4c3"
      },
      "execution_count": null,
      "outputs": [
        {
          "output_type": "stream",
          "name": "stdout",
          "text": [
            "Drive already mounted at /content/drive; to attempt to forcibly remount, call drive.mount(\"/content/drive\", force_remount=True).\n"
          ]
        }
      ]
    },
    {
      "cell_type": "code",
      "source": [
        "%cd drive/MyDrive/\"DIP project\""
      ],
      "metadata": {
        "colab": {
          "base_uri": "https://localhost:8080/"
        },
        "id": "opP1P4xrm8uY",
        "outputId": "d22829fd-32a9-487b-df6f-bdb33888ef6c"
      },
      "execution_count": null,
      "outputs": [
        {
          "output_type": "stream",
          "name": "stdout",
          "text": [
            "/content/drive/MyDrive/DIP project\n"
          ]
        }
      ]
    },
    {
      "cell_type": "code",
      "source": [
        "%cd data-v0"
      ],
      "metadata": {
        "colab": {
          "base_uri": "https://localhost:8080/"
        },
        "id": "yO5qw5IIyNYT",
        "outputId": "82a01b10-892c-4694-ded6-a9d7ba201844"
      },
      "execution_count": null,
      "outputs": [
        {
          "output_type": "stream",
          "name": "stdout",
          "text": [
            "/content/drive/MyDrive/DIP project/data-v0\n"
          ]
        }
      ]
    },
    {
      "cell_type": "code",
      "source": [
        "namelist = []\n",
        "labellist = []\n",
        "\n",
        "for i in tqdm(range(20)):\n",
        "    os.chdir(str(i))\n",
        "    output = subprocess.check_output([\"ls\"]).decode()\n",
        "    templist = output.split('\\n')\n",
        "    for j in templist:\n",
        "        namelist.append(str(i)+'/'+str(j))\n",
        "        labellist.append(i)\n",
        "    %cd .."
      ],
      "metadata": {
        "colab": {
          "base_uri": "https://localhost:8080/"
        },
        "id": "rakduQIYpilV",
        "outputId": "db0e3143-4e44-4925-dae0-13f6e65cf0ff"
      },
      "execution_count": 75,
      "outputs": [
        {
          "output_type": "stream",
          "name": "stderr",
          "text": [
            " 90%|█████████ | 18/20 [00:00<00:00, 89.71it/s]"
          ]
        },
        {
          "output_type": "stream",
          "name": "stdout",
          "text": [
            "/content/drive/MyDrive/DIP project/data-v0\n",
            "/content/drive/MyDrive/DIP project/data-v0\n",
            "/content/drive/MyDrive/DIP project/data-v0\n",
            "/content/drive/MyDrive/DIP project/data-v0\n",
            "/content/drive/MyDrive/DIP project/data-v0\n",
            "/content/drive/MyDrive/DIP project/data-v0\n",
            "/content/drive/MyDrive/DIP project/data-v0\n",
            "/content/drive/MyDrive/DIP project/data-v0\n",
            "/content/drive/MyDrive/DIP project/data-v0\n",
            "/content/drive/MyDrive/DIP project/data-v0\n",
            "/content/drive/MyDrive/DIP project/data-v0\n",
            "/content/drive/MyDrive/DIP project/data-v0\n",
            "/content/drive/MyDrive/DIP project/data-v0\n",
            "/content/drive/MyDrive/DIP project/data-v0\n",
            "/content/drive/MyDrive/DIP project/data-v0\n",
            "/content/drive/MyDrive/DIP project/data-v0\n",
            "/content/drive/MyDrive/DIP project/data-v0\n",
            "/content/drive/MyDrive/DIP project/data-v0\n"
          ]
        },
        {
          "output_type": "stream",
          "name": "stderr",
          "text": [
            "\r100%|██████████| 20/20 [00:00<00:00, 85.12it/s]"
          ]
        },
        {
          "output_type": "stream",
          "name": "stdout",
          "text": [
            "/content/drive/MyDrive/DIP project/data-v0\n",
            "/content/drive/MyDrive/DIP project/data-v0\n"
          ]
        },
        {
          "output_type": "stream",
          "name": "stderr",
          "text": [
            "\n"
          ]
        }
      ]
    },
    {
      "cell_type": "code",
      "source": [
        "ims = []\n",
        "labels = []\n",
        "c = -1\n",
        "for name in tqdm(namelist):\n",
        "    c+=1\n",
        "    im = cv2.imread(name)\n",
        "    try:\n",
        "        len(im)<1\n",
        "        ims.append(im)\n",
        "        labels.append(labellist[c])\n",
        "    except:\n",
        "        pass\n",
        "    "
      ],
      "metadata": {
        "colab": {
          "base_uri": "https://localhost:8080/"
        },
        "id": "nJrstZpVrFdK",
        "outputId": "55f4ecc2-e5f5-4ea8-c969-d4aa7f9fb11d"
      },
      "execution_count": 90,
      "outputs": [
        {
          "output_type": "stream",
          "name": "stderr",
          "text": [
            "100%|██████████| 251/251 [00:00<00:00, 478.36it/s]\n"
          ]
        }
      ]
    },
    {
      "cell_type": "code",
      "source": [
        "ims = np.array(ims)\n",
        "len(ims),len(labels),ims.shape"
      ],
      "metadata": {
        "colab": {
          "base_uri": "https://localhost:8080/"
        },
        "id": "5I-x-gAZrb_6",
        "outputId": "b8c12035-e2b0-485a-cdc7-689e4439c4d1"
      },
      "execution_count": 96,
      "outputs": [
        {
          "output_type": "execute_result",
          "data": {
            "text/plain": [
              "(231, 231, (231, 32, 32, 3))"
            ]
          },
          "metadata": {},
          "execution_count": 96
        }
      ]
    },
    {
      "cell_type": "code",
      "source": [
        "cv2_imshow(ims[0])\n",
        "print('')\n",
        "cv2_imshow(ims[10])\n",
        "print('')\n",
        "cv2_imshow(ims[100])\n"
      ],
      "metadata": {
        "id": "zwDIBHGrrdwJ",
        "colab": {
          "base_uri": "https://localhost:8080/",
          "height": 148
        },
        "outputId": "3523938d-b056-4552-d035-e1b4b34111a3"
      },
      "execution_count": 94,
      "outputs": [
        {
          "output_type": "display_data",
          "data": {
            "text/plain": [
              "<PIL.Image.Image image mode=RGB size=32x32 at 0x7FED454F6B90>"
            ],
            "image/png": "[encoded data removed]"
          },
          "metadata": {}
        },
        {
          "output_type": "stream",
          "name": "stdout",
          "text": [
            "\n"
          ]
        },
        {
          "output_type": "display_data",
          "data": {
            "text/plain": [
              "<PIL.Image.Image image mode=RGB size=32x32 at 0x7FED454F6A50>"
            ],
            "image/png": "[encoded data removed]"
          },
          "metadata": {}
        },
        {
          "output_type": "stream",
          "name": "stdout",
          "text": [
            "\n"
          ]
        },
        {
          "output_type": "display_data",
          "data": {
            "text/plain": [
              "<PIL.Image.Image image mode=RGB size=32x32 at 0x7FED454F60D0>"
            ],
            "image/png": "[encoded data removed]"
          },
          "metadata": {}
        }
      ]
    },
    {
      "cell_type": "code",
      "source": [
        ""
      ],
      "metadata": {
        "id": "oC4FIHZQBNEI"
      },
      "execution_count": null,
      "outputs": []
    }
  ]
}