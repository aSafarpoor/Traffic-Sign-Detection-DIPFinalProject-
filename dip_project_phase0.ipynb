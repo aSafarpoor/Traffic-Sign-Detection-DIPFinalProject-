{
  "nbformat": 4,
  "nbformat_minor": 0,
  "metadata": {
    "colab": {
      "name": "dip-project-phase0.ipynb",
      "provenance": [],
      "authorship_tag": "ABX9TyPsHZsTjSrOf6NfcO3QIy0x",
      "include_colab_link": true
    },
    "kernelspec": {
      "name": "python3",
      "display_name": "Python 3"
    },
    "language_info": {
      "name": "python"
    }
  },
  "cells": [
    {
      "cell_type": "markdown",
      "metadata": {
        "id": "view-in-github",
        "colab_type": "text"
      },
      "source": [
        "<a href=\"https://colab.research.google.com/github/aSafarpoor/Traffic-Sign-Detection-DIPFinalProject-/blob/main/dip_project_phase0.ipynb\" target=\"_parent\"><img src=\"https://colab.research.google.com/assets/colab-badge.svg\" alt=\"Open In Colab\"/></a>"
      ]
    },
    {
      "cell_type": "code",
      "execution_count": 8,
      "metadata": {
        "id": "tOGVe2t0ln_0"
      },
      "outputs": [],
      "source": [
        "import numpy as np\n",
        "import pandas as pd\n",
        "from matplotlib import pyplot as plt\n",
        "import cv2\n",
        "from google.colab.patches import cv2_imshow\n",
        "import os\n",
        "from tqdm import tqdm\n",
        "import subprocess"
      ]
    },
    {
      "cell_type": "code",
      "source": [
        "from google.colab import drive\n",
        "drive.mount('/content/drive')"
      ],
      "metadata": {
        "colab": {
          "base_uri": "https://localhost:8080/"
        },
        "id": "6AFFvD7Amn2p",
        "outputId": "8688ed87-fcdc-4037-ccbb-34aae52e555f"
      },
      "execution_count": 10,
      "outputs": [
        {
          "output_type": "stream",
          "name": "stdout",
          "text": [
            "Mounted at /content/drive\n"
          ]
        }
      ]
    },
    {
      "cell_type": "code",
      "source": [
        "%cd drive/MyDrive/\"DIP project\""
      ],
      "metadata": {
        "colab": {
          "base_uri": "https://localhost:8080/"
        },
        "id": "opP1P4xrm8uY",
        "outputId": "2531f798-d2d5-4e68-877b-5ca05c75999d"
      },
      "execution_count": 11,
      "outputs": [
        {
          "output_type": "stream",
          "name": "stdout",
          "text": [
            "/content/drive/MyDrive/DIP project\n"
          ]
        }
      ]
    },
    {
      "cell_type": "code",
      "source": [
        "%cd data-v0"
      ],
      "metadata": {
        "colab": {
          "base_uri": "https://localhost:8080/"
        },
        "id": "yO5qw5IIyNYT",
        "outputId": "4c57c025-bd23-4273-f8de-d32f91bb1f17"
      },
      "execution_count": 12,
      "outputs": [
        {
          "output_type": "stream",
          "name": "stdout",
          "text": [
            "/content/drive/MyDrive/DIP project/data-v0\n"
          ]
        }
      ]
    },
    {
      "cell_type": "code",
      "source": [
        "namelist = []\n",
        "labellist = []\n",
        "\n",
        "for i in tqdm(range(20)):\n",
        "    os.chdir(str(i))\n",
        "    output = subprocess.check_output([\"ls\"]).decode()\n",
        "    templist = output.split('\\n')\n",
        "    for j in templist:\n",
        "        namelist.append(str(i)+'/'+str(j))\n",
        "        labellist.append(i)\n",
        "    %cd .."
      ],
      "metadata": {
        "colab": {
          "base_uri": "https://localhost:8080/"
        },
        "id": "rakduQIYpilV",
        "outputId": "03337942-738c-4977-e43e-de4d869e4cd4"
      },
      "execution_count": 13,
      "outputs": [
        {
          "output_type": "stream",
          "name": "stderr",
          "text": [
            "  5%|▌         | 1/20 [00:00<00:15,  1.25it/s]"
          ]
        },
        {
          "output_type": "stream",
          "name": "stdout",
          "text": [
            "/content/drive/MyDrive/DIP project/data-v0\n"
          ]
        },
        {
          "output_type": "stream",
          "name": "stderr",
          "text": [
            "\r 10%|█         | 2/20 [00:01<00:09,  1.85it/s]"
          ]
        },
        {
          "output_type": "stream",
          "name": "stdout",
          "text": [
            "/content/drive/MyDrive/DIP project/data-v0\n"
          ]
        },
        {
          "output_type": "stream",
          "name": "stderr",
          "text": [
            "\r 15%|█▌        | 3/20 [00:01<00:11,  1.53it/s]"
          ]
        },
        {
          "output_type": "stream",
          "name": "stdout",
          "text": [
            "/content/drive/MyDrive/DIP project/data-v0\n",
            "/content/drive/MyDrive/DIP project/data-v0\n",
            "/content/drive/MyDrive/DIP project/data-v0\n",
            "/content/drive/MyDrive/DIP project/data-v0\n"
          ]
        },
        {
          "output_type": "stream",
          "name": "stderr",
          "text": [
            "\r 35%|███▌      | 7/20 [00:02<00:03,  3.78it/s]"
          ]
        },
        {
          "output_type": "stream",
          "name": "stdout",
          "text": [
            "/content/drive/MyDrive/DIP project/data-v0\n",
            "/content/drive/MyDrive/DIP project/data-v0\n",
            "/content/drive/MyDrive/DIP project/data-v0\n"
          ]
        },
        {
          "output_type": "stream",
          "name": "stderr",
          "text": [
            "100%|██████████| 20/20 [00:03<00:00,  6.16it/s]"
          ]
        },
        {
          "output_type": "stream",
          "name": "stdout",
          "text": [
            "/content/drive/MyDrive/DIP project/data-v0\n",
            "/content/drive/MyDrive/DIP project/data-v0\n",
            "/content/drive/MyDrive/DIP project/data-v0\n",
            "/content/drive/MyDrive/DIP project/data-v0\n",
            "/content/drive/MyDrive/DIP project/data-v0\n",
            "/content/drive/MyDrive/DIP project/data-v0\n",
            "/content/drive/MyDrive/DIP project/data-v0\n",
            "/content/drive/MyDrive/DIP project/data-v0\n",
            "/content/drive/MyDrive/DIP project/data-v0\n",
            "/content/drive/MyDrive/DIP project/data-v0\n",
            "/content/drive/MyDrive/DIP project/data-v0\n"
          ]
        },
        {
          "output_type": "stream",
          "name": "stderr",
          "text": [
            "\n"
          ]
        }
      ]
    },
    {
      "cell_type": "code",
      "source": [
        "ims = []\n",
        "labels = []\n",
        "c = -1\n",
        "for name in tqdm(namelist):\n",
        "    c+=1\n",
        "    im = cv2.imread(name)\n",
        "    try:\n",
        "        len(im)<1\n",
        "        ims.append(im)\n",
        "        labels.append(labellist[c])\n",
        "    except:\n",
        "        pass\n",
        "    "
      ],
      "metadata": {
        "colab": {
          "base_uri": "https://localhost:8080/"
        },
        "id": "nJrstZpVrFdK",
        "outputId": "1590ac5c-76ba-444c-aa92-104bbead11d9"
      },
      "execution_count": 14,
      "outputs": [
        {
          "output_type": "stream",
          "name": "stderr",
          "text": [
            "100%|██████████| 251/251 [02:28<00:00,  1.70it/s]\n"
          ]
        }
      ]
    },
    {
      "cell_type": "code",
      "source": [
        "ims = np.array(ims)\n",
        "len(ims),len(labels),ims.shape"
      ],
      "metadata": {
        "colab": {
          "base_uri": "https://localhost:8080/"
        },
        "id": "5I-x-gAZrb_6",
        "outputId": "bc940e94-a520-4ea7-a29c-71d08d55501e"
      },
      "execution_count": 15,
      "outputs": [
        {
          "output_type": "execute_result",
          "data": {
            "text/plain": [
              "(231, 231, (231, 32, 32, 3))"
            ]
          },
          "metadata": {},
          "execution_count": 15
        }
      ]
    },
    {
      "cell_type": "code",
      "source": [
        "cv2_imshow(ims[0])\n",
        "print('')\n",
        "cv2_imshow(ims[10])\n",
        "print('')\n",
        "cv2_imshow(ims[100])\n"
      ],
      "metadata": {
        "id": "zwDIBHGrrdwJ",
        "colab": {
          "base_uri": "https://localhost:8080/",
          "height": 148
        },
        "outputId": "76769b6f-990b-4e9c-cf94-9833f7b5d192"
      },
      "execution_count": 16,
      "outputs": [
        {
          "output_type": "display_data",
          "data": {
            "text/plain": [
              "<PIL.Image.Image image mode=RGB size=32x32 at 0x7F7E2AB1EC90>"
            ],
            "image/png": "[encoded data removed]"
          },
          "metadata": {}
        },
        {
          "output_type": "stream",
          "name": "stdout",
          "text": [
            "\n"
          ]
        },
        {
          "output_type": "display_data",
          "data": {
            "text/plain": [
              "<PIL.Image.Image image mode=RGB size=32x32 at 0x7F7E203F3490>"
            ],
            "image/png": "[encoded data removed]"
          },
          "metadata": {}
        },
        {
          "output_type": "stream",
          "name": "stdout",
          "text": [
            "\n"
          ]
        },
        {
          "output_type": "display_data",
          "data": {
            "text/plain": [
              "<PIL.Image.Image image mode=RGB size=32x32 at 0x7F7E203F3BD0>"
            ],
            "image/png": "[encoded data removed]"
          },
          "metadata": {}
        }
      ]
    },
    {
      "cell_type": "markdown",
      "source": [
        "##HSV"
      ],
      "metadata": {
        "id": "bbvGPIjev2oK"
      }
    },
    {
      "cell_type": "code",
      "source": [
        "!pip install Image"
      ],
      "metadata": {
        "colab": {
          "base_uri": "https://localhost:8080/"
        },
        "id": "w5yvyqHrxIAA",
        "outputId": "99b9d2b9-3bc4-46b1-af50-16161fe3696a"
      },
      "execution_count": 34,
      "outputs": [
        {
          "output_type": "stream",
          "name": "stdout",
          "text": [
            "Looking in indexes: https://pypi.org/simple, https://us-python.pkg.dev/colab-wheels/public/simple/\n",
            "Requirement already satisfied: Image in /usr/local/lib/python3.7/dist-packages (1.5.33)\n",
            "Requirement already satisfied: django in /usr/local/lib/python3.7/dist-packages (from Image) (3.2.13)\n",
            "Requirement already satisfied: pillow in /usr/local/lib/python3.7/dist-packages (from Image) (7.1.2)\n",
            "Requirement already satisfied: six in /usr/local/lib/python3.7/dist-packages (from Image) (1.15.0)\n",
            "Requirement already satisfied: asgiref<4,>=3.3.2 in /usr/local/lib/python3.7/dist-packages (from django->Image) (3.5.2)\n",
            "Requirement already satisfied: sqlparse>=0.2.2 in /usr/local/lib/python3.7/dist-packages (from django->Image) (0.4.2)\n",
            "Requirement already satisfied: pytz in /usr/local/lib/python3.7/dist-packages (from django->Image) (2022.1)\n",
            "Requirement already satisfied: typing-extensions in /usr/local/lib/python3.7/dist-packages (from asgiref<4,>=3.3.2->django->Image) (4.1.1)\n"
          ]
        }
      ]
    },
    {
      "cell_type": "code",
      "source": [
        "import colorsys\n",
        "\n",
        "def HSVColor(img):\n",
        "    shapee = img.shape\n",
        "    temp = img.reshape(-1,3)\n",
        "    # print(temp.shape,temp[0])\n",
        "    temp2 = [colorsys.rgb_to_hsv(im[0],im[1],im[2]) for im in temp]\n",
        "    img = np.array(temp2).reshape(shapee)\n",
        "    img[:,:,2]/=255\n",
        "    return img"
      ],
      "metadata": {
        "id": "Ppjf0XXDw-eZ"
      },
      "execution_count": 108,
      "outputs": []
    },
    {
      "cell_type": "code",
      "source": [
        "HSVColor(np.array([[[100,200,120]]]))"
      ],
      "metadata": {
        "colab": {
          "base_uri": "https://localhost:8080/"
        },
        "id": "ogoO95ga4nO1",
        "outputId": "11969fbe-e898-41b9-a0f8-9d2038f9b1f8"
      },
      "execution_count": 109,
      "outputs": [
        {
          "output_type": "execute_result",
          "data": {
            "text/plain": [
              "array([[[0.36666667, 0.5       , 0.78431373]]])"
            ]
          },
          "metadata": {},
          "execution_count": 109
        }
      ]
    },
    {
      "cell_type": "code",
      "source": [
        "im = np.copy(ims[0])\n",
        "cv2_imshow(im)\n",
        "im = HSVColor(im)\n",
        "cv2_imshow(im)"
      ],
      "metadata": {
        "colab": {
          "base_uri": "https://localhost:8080/",
          "height": 81
        },
        "id": "-lblGDIQv6cq",
        "outputId": "9c0980aa-5deb-4b75-e3ee-f3b86a2f6449"
      },
      "execution_count": 51,
      "outputs": [
        {
          "output_type": "display_data",
          "data": {
            "text/plain": [
              "<PIL.Image.Image image mode=RGB size=32x32 at 0x7F7E1D4C50D0>"
            ],
            "image/png": "[encoded data removed]"
          },
          "metadata": {}
        },
        {
          "output_type": "display_data",
          "data": {
            "text/plain": [
              "<PIL.Image.Image image mode=RGB size=32x32 at 0x7F7E1D480AD0>"
            ],
            "image/png": "[encoded data removed]"
          },
          "metadata": {}
        }
      ]
    },
    {
      "cell_type": "markdown",
      "source": [
        "* SIGNAL BASED\n",
        "* COLOR BASED\n",
        "* EDGE BASED"
      ],
      "metadata": {
        "id": "18R15aC34B88"
      }
    },
    {
      "cell_type": "markdown",
      "source": [
        "# SIGNAL BASED"
      ],
      "metadata": {
        "id": "pSohNP4g4LC2"
      }
    },
    {
      "cell_type": "code",
      "source": [
        "from scipy.fft import fft, fftfreq, fft2, ifft2"
      ],
      "metadata": {
        "id": "oC4FIHZQBNEI"
      },
      "execution_count": 52,
      "outputs": []
    },
    {
      "cell_type": "code",
      "source": [
        "# im = np.copy(ims[0])\n",
        "fft_img = np.fft.fft2(im)\n",
        "fft_img_shift = np.fft.fftshift(fft_img)\n",
        "cv2_imshow(im)\n",
        "cv2_imshow(fft_img)\n",
        "cv2_imshow(fft_img_shift)"
      ],
      "metadata": {
        "colab": {
          "base_uri": "https://localhost:8080/",
          "height": 168
        },
        "id": "J3-HUvG84ZUL",
        "outputId": "d0d9ff56-f994-49c8-8196-16218ad86c53"
      },
      "execution_count": 53,
      "outputs": [
        {
          "output_type": "display_data",
          "data": {
            "text/plain": [
              "<PIL.Image.Image image mode=RGB size=32x32 at 0x7F7E1D480F10>"
            ],
            "image/png": "[encoded data removed]"
          },
          "metadata": {}
        },
        {
          "output_type": "stream",
          "name": "stderr",
          "text": [
            "/usr/local/lib/python3.7/dist-packages/google/colab/patches/__init__.py:22: ComplexWarning: Casting complex values to real discards the imaginary part\n",
            "  a = a.clip(0, 255).astype('uint8')\n"
          ]
        },
        {
          "output_type": "display_data",
          "data": {
            "text/plain": [
              "<PIL.Image.Image image mode=RGB size=32x32 at 0x7F7E1D480710>"
            ],
            "image/png": "[encoded data removed]"
          },
          "metadata": {}
        },
        {
          "output_type": "display_data",
          "data": {
            "text/plain": [
              "<PIL.Image.Image image mode=RGB size=32x32 at 0x7F7E1D4A22D0>"
            ],
            "image/png": "[encoded data removed]"
          },
          "metadata": {}
        }
      ]
    },
    {
      "cell_type": "code",
      "source": [
        "sample = np.copy(fft_img_shift)"
      ],
      "metadata": {
        "id": "2lBKBrqc5IZr"
      },
      "execution_count": 54,
      "outputs": []
    },
    {
      "cell_type": "code",
      "source": [
        "s0 = sample[:,:,0]\n",
        "s1 = sample[:,:,1]\n",
        "s2 = sample[:,:,2]\n",
        "\n",
        "cv2_imshow(im[:,:,0])\n",
        "cv2_imshow(s0)\n",
        "cv2_imshow(im[:,:,1])\n",
        "cv2_imshow(s1)\n",
        "cv2_imshow(im[:,:,2])\n",
        "cv2_imshow(s2)"
      ],
      "metadata": {
        "id": "sOudGP6L5PHS",
        "colab": {
          "base_uri": "https://localhost:8080/",
          "height": 264
        },
        "outputId": "fa6064b6-3a1b-4945-cacb-7568faea4bb1"
      },
      "execution_count": 55,
      "outputs": [
        {
          "output_type": "display_data",
          "data": {
            "text/plain": [
              "<PIL.Image.Image image mode=L size=32x32 at 0x7F7E1D48C590>"
            ],
            "image/png": "[encoded data removed]"
          },
          "metadata": {}
        },
        {
          "output_type": "stream",
          "name": "stderr",
          "text": [
            "/usr/local/lib/python3.7/dist-packages/google/colab/patches/__init__.py:22: ComplexWarning: Casting complex values to real discards the imaginary part\n",
            "  a = a.clip(0, 255).astype('uint8')\n"
          ]
        },
        {
          "output_type": "display_data",
          "data": {
            "text/plain": [
              "<PIL.Image.Image image mode=L size=32x32 at 0x7F7E1D48CE90>"
            ],
            "image/png": "[encoded data removed]"
          },
          "metadata": {}
        },
        {
          "output_type": "display_data",
          "data": {
            "text/plain": [
              "<PIL.Image.Image image mode=L size=32x32 at 0x7F7E1D4B4F10>"
            ],
            "image/png": "[encoded data removed]"
          },
          "metadata": {}
        },
        {
          "output_type": "display_data",
          "data": {
            "text/plain": [
              "<PIL.Image.Image image mode=L size=32x32 at 0x7F7E1D4BFC50>"
            ],
            "image/png": "[encoded data removed]"
          },
          "metadata": {}
        },
        {
          "output_type": "display_data",
          "data": {
            "text/plain": [
              "<PIL.Image.Image image mode=L size=32x32 at 0x7F7E1D4B4710>"
            ],
            "image/png": "[encoded data removed]"
          },
          "metadata": {}
        },
        {
          "output_type": "display_data",
          "data": {
            "text/plain": [
              "<PIL.Image.Image image mode=L size=32x32 at 0x7F7E1D4B4710>"
            ],
            "image/png": "[encoded data removed]"
          },
          "metadata": {}
        }
      ]
    },
    {
      "cell_type": "code",
      "source": [
        ""
      ],
      "metadata": {
        "colab": {
          "base_uri": "https://localhost:8080/"
        },
        "id": "GGmWcX1-3phO",
        "outputId": "210a5e87-69bb-42e3-b50e-e069d6e9bebf"
      },
      "execution_count": 89,
      "outputs": [
        {
          "output_type": "execute_result",
          "data": {
            "text/plain": [
              "((1019.6264702407852+32.64986704243856j),\n",
              " (5703.443911631902+0j),\n",
              " (1019.6264702407851-32.64986704243857j))"
            ]
          },
          "metadata": {},
          "execution_count": 89
        }
      ]
    },
    {
      "cell_type": "code",
      "source": [
        "def distance(a,b):\n",
        "    return round(((a[0]-b[0])**2+(a[1]-b[1])**2)**0.5,2)"
      ],
      "metadata": {
        "id": "QwF1xW3pAu2S"
      },
      "execution_count": 56,
      "outputs": []
    },
    {
      "cell_type": "code",
      "source": [
        "def func(sample):\n",
        "    sample = np.copy(sample)\n",
        "    s0 = sample[:,:,0]\n",
        "    d1,d2 = s0.shape\n",
        "    m1,m2 = (d1-1)/2,(d2-1)/2\n",
        "    # print(distance([0,0],[m1,m2]))\n",
        "    ths = [4,8,12,16]\n",
        "    lavels_point = np.zeros((d1,d2))\n",
        "    for i in range(d1):\n",
        "        for j in range(d2):\n",
        "            d = distance([i,j],[m1,m1])\n",
        "            if d<ths[0]:\n",
        "                lavels_point[i][j] = 0\n",
        "            elif d<ths[1]:\n",
        "                lavels_point[i][j] = 255\n",
        "            elif d<ths[2]:\n",
        "                lavels_point[i][j] = 0\n",
        "            elif d<ths[3]:\n",
        "                lavels_point[i][j] = 255\n",
        "            else:\n",
        "                lavels_point[i][j] = 128\n",
        "    \n",
        "    cv2_imshow(lavels_point)\n",
        "\n",
        "func(sample)"
      ],
      "metadata": {
        "colab": {
          "base_uri": "https://localhost:8080/",
          "height": 49
        },
        "id": "7wfF7BN-BHco",
        "outputId": "40c017e5-e62c-47b6-c447-7cbdccfd7b5a"
      },
      "execution_count": 57,
      "outputs": [
        {
          "output_type": "display_data",
          "data": {
            "text/plain": [
              "<PIL.Image.Image image mode=L size=32x32 at 0x7F7E1D4A2850>"
            ],
            "image/png": "[encoded data removed]"
          },
          "metadata": {}
        }
      ]
    },
    {
      "cell_type": "code",
      "source": [
        "def func(sample):\n",
        "    sample = np.copy(sample)\n",
        "    s0 = sample[:,:,0]\n",
        "    s1 = sample[:,:,1]\n",
        "    s2 = sample[:,:,2]\n",
        "    d1,d2 = s1.shape\n",
        "    m1,m2 = (d1-1)/2,(d2-1)/2\n",
        "    # print(distance([0,0],[m1,m2]))\n",
        "    ths = [4,8,12,16]\n",
        "    lavels_point = [[],[],[],[],[]]\n",
        "    sample = s1\n",
        "    for i in range(d1):\n",
        "        for j in range(d2):\n",
        "            d = distance([i,j],[m1,m1])\n",
        "            if d<ths[0]:\n",
        "                lavels_point[0].append(sample[i][j])\n",
        "            elif d<ths[1]:\n",
        "                lavels_point[1].append(sample[i][j])\n",
        "            elif d<ths[2]:\n",
        "                lavels_point[2].append(sample[i][j])\n",
        "            elif d<ths[3]:\n",
        "                lavels_point[3].append(sample[i][j])\n",
        "            else:\n",
        "                lavels_point[4].append(sample[i][j])\n",
        "    lavels_point = np.array(lavels_point)\n",
        "    return lavels_point\n",
        "\n",
        "lavels_point = func(sample)"
      ],
      "metadata": {
        "colab": {
          "base_uri": "https://localhost:8080/"
        },
        "id": "O1htvu66_dRy",
        "outputId": "d6e72ccd-b280-4e3f-c0c4-7a5a34a9a270"
      },
      "execution_count": 58,
      "outputs": [
        {
          "output_type": "stream",
          "name": "stderr",
          "text": [
            "/usr/local/lib/python3.7/dist-packages/ipykernel_launcher.py:25: VisibleDeprecationWarning: Creating an ndarray from ragged nested sequences (which is a list-or-tuple of lists-or-tuples-or ndarrays with different lengths or shapes) is deprecated. If you meant to do this, you must specify 'dtype=object' when creating the ndarray.\n"
          ]
        }
      ]
    },
    {
      "cell_type": "code",
      "source": [
        "out = [np.mean(lavels_point[0]),np.mean(lavels_point[1]),np.mean(lavels_point[2]),np.mean(lavels_point[3]),np.mean(lavels_point[4])]\n",
        "absout = list(map(abs,out))\n",
        "for i in range(len(out)):\n",
        "    print(out[i],'\\n   ---------------------------------------> ',absout[i])\n",
        "    print(out[i],'\\n   ------------------------------------------------------------------> ',np.angle(out[i]))"
      ],
      "metadata": {
        "colab": {
          "base_uri": "https://localhost:8080/"
        },
        "id": "D7qwFCFtDSmP",
        "outputId": "b073a4dc-9322-4d13-d445-fa89a0e4a042"
      },
      "execution_count": 59,
      "outputs": [
        {
          "output_type": "stream",
          "name": "stdout",
          "text": [
            "(586.0714595332495+8.874893698694722j) \n",
            "   --------------------------------------->  586.138652041986\n",
            "(586.0714595332495+8.874893698694722j) \n",
            "   ------------------------------------------------------------------>  0.015141865854353271\n",
            "(131.8077180703271+3.132265554037561j) \n",
            "   --------------------------------------->  131.84493024158283\n",
            "(131.8077180703271+3.132265554037561j) \n",
            "   ------------------------------------------------------------------>  0.023759429104769945\n",
            "(83.96260410814266-1.039959694200337j) \n",
            "   --------------------------------------->  83.96904432459772\n",
            "(83.96260410814266-1.039959694200337j) \n",
            "   ------------------------------------------------------------------>  -0.012385353326575884\n",
            "(59.66866634554654+0.10140856457983063j) \n",
            "   --------------------------------------->  59.66875251882788\n",
            "(59.66866634554654+0.10140856457983063j) \n",
            "   ------------------------------------------------------------------>  0.0016995262866565848\n",
            "(7.507817514885866-3.4785391021743495j) \n",
            "   --------------------------------------->  8.274512561002183\n",
            "(7.507817514885866-3.4785391021743495j) \n",
            "   ------------------------------------------------------------------>  -0.43387733670234474\n"
          ]
        }
      ]
    },
    {
      "cell_type": "code",
      "source": [
        "r = im[:,:,0]\n",
        "g = im[:,:,1]\n",
        "b = im[:,:,2]\n",
        "z = np.zeros(b.shape)\n",
        "cv2_imshow(np.array([r,z,z]).transpose())\n",
        "cv2_imshow(np.array([z,g,z]).transpose())\n",
        "cv2_imshow(np.array([z,z,b]).transpose())"
      ],
      "metadata": {
        "colab": {
          "base_uri": "https://localhost:8080/",
          "height": 113
        },
        "id": "VSWzYYENRhht",
        "outputId": "5f9e2a3e-2ee1-48bc-ead9-5baeca7a478d"
      },
      "execution_count": 66,
      "outputs": [
        {
          "output_type": "display_data",
          "data": {
            "text/plain": [
              "<PIL.Image.Image image mode=RGB size=32x32 at 0x7F7E1D4D4510>"
            ],
            "image/png": "[encoded data removed]"
          },
          "metadata": {}
        },
        {
          "output_type": "display_data",
          "data": {
            "text/plain": [
              "<PIL.Image.Image image mode=RGB size=32x32 at 0x7F7E1D4D4510>"
            ],
            "image/png": "[encoded data removed]"
          },
          "metadata": {}
        },
        {
          "output_type": "display_data",
          "data": {
            "text/plain": [
              "<PIL.Image.Image image mode=RGB size=32x32 at 0x7F7E1D4BF210>"
            ],
            "image/png": "[encoded data removed]"
          },
          "metadata": {}
        }
      ]
    },
    {
      "cell_type": "markdown",
      "source": [
        ""
      ],
      "metadata": {
        "id": "PvaBvhAhvxHB"
      }
    },
    {
      "cell_type": "code",
      "source": [
        "im.shape"
      ],
      "metadata": {
        "colab": {
          "base_uri": "https://localhost:8080/"
        },
        "id": "Uz6q7aiM0VIz",
        "outputId": "bf2340f3-b172-471c-8892-ef906ecbdff8"
      },
      "execution_count": 68,
      "outputs": [
        {
          "output_type": "execute_result",
          "data": {
            "text/plain": [
              "(32, 32, 3)"
            ]
          },
          "metadata": {},
          "execution_count": 68
        }
      ]
    },
    {
      "cell_type": "code",
      "source": [
        "class feature_extraction():\n",
        "    def __init__(self):\n",
        "        pass\n",
        "    \n",
        "    @staticmethod\n",
        "    def binary(img,th=0.5):\n",
        "        img2 = np.copy(img)\n",
        "        img2[img2>th]=1\n",
        "        img2[img2<1]=0\n",
        "        return img2\n",
        "    \n",
        "    @staticmethod\n",
        "    def area(img):\n",
        "        img2 = np.copy(img)\n",
        "        img2 = feature_extraction.binary(img)\n",
        "        return int(img2.sum())\n",
        "\n",
        "    @staticmethod\n",
        "    def char_dar_char(img):\n",
        "        img2 = np.copy(img)\n",
        "        out = []\n",
        "        for i in range(4):\n",
        "            for j in range(4):\n",
        "                subim = img2[i*8:i*8+7,j*8:j*8+7]\n",
        "                out.append(round(subim.sum()/64,2))\n",
        "        return out\n",
        "    \n",
        "    @staticmethod\n",
        "    def do_dar_do(img):\n",
        "        img2 = np.copy(img)\n",
        "        out = []\n",
        "        for i in range(2):\n",
        "            for j in range(2):\n",
        "                subim = img2[i*16:i*16+15,j*16:j*16+15]\n",
        "                out.append(round(subim.sum()/256,2))\n",
        "        return out\n",
        "    \n",
        "    @staticmethod\n",
        "    def char_axis1(img):\n",
        "        img2 = np.copy(img)\n",
        "        out = []\n",
        "        for i in range(4):\n",
        "                subim = img2[i*8:i*8+7,:]\n",
        "                out.append(round(subim.sum()/256,2))\n",
        "        return out\n",
        "    \n",
        "    @staticmethod\n",
        "    def char_axis2(img):\n",
        "        img2 = np.copy(img)\n",
        "        out = []\n",
        "        for i in range(4):\n",
        "                subim = img2[:,i*8:i*8+7]\n",
        "                out.append(round(subim.sum()/256,2))\n",
        "        return out\n",
        "    \n",
        "    @staticmethod\n",
        "    def vertical_edge(img):\n",
        "        kernel = np.array([[1,0],[1,0]])\n",
        "        afterkernel = cv2.filter2D(img,-1,kernel)\n",
        "        return round(afterkernel.sum()/(1024),2)\n",
        "    \n",
        "    @staticmethod\n",
        "    def horisental_edge(img):\n",
        "        kernel1 = np.array([[1,1],[0,0]])\n",
        "        kernel2 = np.array([[0,0],[1,1]])\n",
        "\n",
        "        afterkernel1 = cv2.filter2D(img,-1,kernel1)\n",
        "        afterkernel2 = cv2.filter2D(img,-1,kernel2)\n",
        "        return round((afterkernel1.sum()+afterkernel2.sum())/(1024*2),2)\n",
        "\n",
        "    @staticmethod\n",
        "    def kaj_chap_edge(img):\n",
        "        kernel1 = np.array([[1,1],[1,0]])\n",
        "        kernel2 = np.array([[0,1],[1,1]])\n",
        "\n",
        "        afterkernel1 = cv2.filter2D(img,-1,kernel1)\n",
        "        afterkernel2 = cv2.filter2D(img,-1,kernel2)\n",
        "        return round(afterkernel1.sum()/1024,2),round(afterkernel2.sum()/1024,2)\n",
        "\n",
        "    @staticmethod\n",
        "    def kaj_rast_edge(img):\n",
        "        kernel1 = np.array([[1,0],[1,1]])\n",
        "        kernel2 = np.array([[1,1],[0,1]])\n",
        "\n",
        "        afterkernel1 = cv2.filter2D(img,-1,kernel1)\n",
        "        afterkernel2 = cv2.filter2D(img,-1,kernel2)\n",
        "        return round(afterkernel1.sum()/1024,2),round(afterkernel2.sum()/1024,2)\n",
        "\n",
        "    @staticmethod\n",
        "    def run(img,th='0.5'):\n",
        "        \n",
        "        f = []\n",
        "        f.append(feature_extraction.area(img)/1024)\n",
        "        for i in feature_extraction.char_dar_char(img):\n",
        "            f.append(i)\n",
        "        for i in feature_extraction.do_dar_do(img):\n",
        "            f.append(i)\n",
        "        for i in feature_extraction.char_axis1(img):\n",
        "            f.append(i)\n",
        "        for i in feature_extraction.char_axis2(img):\n",
        "            f.append(i)\n",
        "        f.append(feature_extraction.vertical_edge(img))\n",
        "        f.append(feature_extraction.horisental_edge(img))\n",
        "        for i in feature_extraction.kaj_chap_edge(img):\n",
        "            f.append(i)\n",
        "        for i in feature_extraction.kaj_rast_edge(img):\n",
        "            f.append(i)\n",
        "\n",
        "        return np.array(f)"
      ],
      "metadata": {
        "id": "zk1Q-y5eSBiM"
      },
      "execution_count": 80,
      "outputs": []
    },
    {
      "cell_type": "code",
      "source": [
        "im = np.copy(ims[0])\n",
        "cv2_imshow(im)\n",
        "im = HSVColor(im)\n",
        "cv2_imshow(im*255)"
      ],
      "metadata": {
        "colab": {
          "base_uri": "https://localhost:8080/",
          "height": 81
        },
        "id": "FqvbHQ-d3_S9",
        "outputId": "8e51f594-7049-4563-d6ec-bf671250ffb2"
      },
      "execution_count": 111,
      "outputs": [
        {
          "output_type": "display_data",
          "data": {
            "text/plain": [
              "<PIL.Image.Image image mode=RGB size=32x32 at 0x7F7E1D4A4ED0>"
            ],
            "image/png": "[encoded data removed]"
          },
          "metadata": {}
        },
        {
          "output_type": "display_data",
          "data": {
            "text/plain": [
              "<PIL.Image.Image image mode=RGB size=32x32 at 0x7F7E1DD37F50>"
            ],
            "image/png": "[encoded data removed]"
          },
          "metadata": {}
        }
      ]
    },
    {
      "cell_type": "code",
      "source": [
        "im[:,:,2].max(),im[:,:,2].min()"
      ],
      "metadata": {
        "colab": {
          "base_uri": "https://localhost:8080/"
        },
        "id": "3l2-hjcb4CcF",
        "outputId": "9e55117b-95e4-46c1-a32c-db47bb053c90"
      },
      "execution_count": 112,
      "outputs": [
        {
          "output_type": "execute_result",
          "data": {
            "text/plain": [
              "(1.0, 0.12941176470588237)"
            ]
          },
          "metadata": {},
          "execution_count": 112
        }
      ]
    },
    {
      "cell_type": "code",
      "source": [
        "feature_extraction.run(im[:,:,1])"
      ],
      "metadata": {
        "colab": {
          "base_uri": "https://localhost:8080/"
        },
        "id": "JfUWOicr0Lrb",
        "outputId": "8b87ebab-b3f0-49c1-f1fc-20a632dd13db"
      },
      "execution_count": 114,
      "outputs": [
        {
          "output_type": "execute_result",
          "data": {
            "text/plain": [
              "array([0.26757812, 0.36      , 0.45      , 0.49      , 0.28      ,\n",
              "       0.29      , 0.22      , 0.13      , 0.36      , 0.25      ,\n",
              "       0.14      , 0.09      , 0.34      , 0.22      , 0.32      ,\n",
              "       0.23      , 0.21      , 0.38      , 0.37      , 0.28      ,\n",
              "       0.25      , 0.45      , 0.29      , 0.23      , 0.28      ,\n",
              "       0.32      , 0.32      , 0.26      , 0.33      , 0.72      ,\n",
              "       0.72      , 1.08      , 1.07      , 1.07      , 1.08      ])"
            ]
          },
          "metadata": {},
          "execution_count": 114
        }
      ]
    },
    {
      "cell_type": "code",
      "source": [
        ""
      ],
      "metadata": {
        "id": "XuuPOEGY3Thc"
      },
      "execution_count": null,
      "outputs": []
    }
  ]
}