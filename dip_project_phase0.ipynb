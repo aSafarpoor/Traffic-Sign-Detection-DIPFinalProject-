{
  "nbformat": 4,
  "nbformat_minor": 0,
  "metadata": {
    "colab": {
      "name": "dip-project-phase0.ipynb",
      "provenance": [],
      "authorship_tag": "ABX9TyPQKRLKTqN5hFtcnaFobT8X",
      "include_colab_link": true
    },
    "kernelspec": {
      "name": "python3",
      "display_name": "Python 3"
    },
    "language_info": {
      "name": "python"
    }
  },
  "cells": [
    {
      "cell_type": "markdown",
      "metadata": {
        "id": "view-in-github",
        "colab_type": "text"
      },
      "source": [
        "<a href=\"https://colab.research.google.com/github/aSafarpoor/Traffic-Sign-Detection-DIPFinalProject-/blob/main/dip_project_phase0.ipynb\" target=\"_parent\"><img src=\"https://colab.research.google.com/assets/colab-badge.svg\" alt=\"Open In Colab\"/></a>"
      ]
    },
    {
      "cell_type": "code",
      "execution_count": 1,
      "metadata": {
        "id": "tOGVe2t0ln_0"
      },
      "outputs": [],
      "source": [
        "import numpy as np\n",
        "import pandas as pd\n",
        "from matplotlib import pyplot as plt\n",
        "import cv2\n",
        "from google.colab.patches import cv2_imshow\n",
        "import os\n",
        "from tqdm import tqdm\n",
        "import subprocess"
      ]
    },
    {
      "cell_type": "code",
      "source": [
        "from google.colab import drive\n",
        "drive.mount('/content/drive')"
      ],
      "metadata": {
        "colab": {
          "base_uri": "https://localhost:8080/"
        },
        "id": "6AFFvD7Amn2p",
        "outputId": "955e63e3-63e9-456f-baeb-f626a0fcef65"
      },
      "execution_count": 2,
      "outputs": [
        {
          "output_type": "stream",
          "name": "stdout",
          "text": [
            "Mounted at /content/drive\n"
          ]
        }
      ]
    },
    {
      "cell_type": "code",
      "source": [
        "%cd drive/MyDrive/\"DIP project\""
      ],
      "metadata": {
        "colab": {
          "base_uri": "https://localhost:8080/"
        },
        "id": "opP1P4xrm8uY",
        "outputId": "d96eb3eb-572e-4fb4-acc2-82e3d73a789d"
      },
      "execution_count": 3,
      "outputs": [
        {
          "output_type": "stream",
          "name": "stdout",
          "text": [
            "/content/drive/MyDrive/DIP project\n"
          ]
        }
      ]
    },
    {
      "cell_type": "code",
      "source": [
        "%cd data-v0"
      ],
      "metadata": {
        "colab": {
          "base_uri": "https://localhost:8080/"
        },
        "id": "yO5qw5IIyNYT",
        "outputId": "904fb768-d446-4780-fee4-aa400ab02da9"
      },
      "execution_count": 4,
      "outputs": [
        {
          "output_type": "stream",
          "name": "stdout",
          "text": [
            "/content/drive/MyDrive/DIP project/data-v0\n"
          ]
        }
      ]
    },
    {
      "cell_type": "code",
      "source": [
        "namelist = []\n",
        "labellist = []\n",
        "\n",
        "for i in tqdm(range(20)):\n",
        "    os.chdir(str(i))\n",
        "    output = subprocess.check_output([\"ls\"]).decode()\n",
        "    templist = output.split('\\n')\n",
        "    for j in templist:\n",
        "        namelist.append(str(i)+'/'+str(j))\n",
        "        labellist.append(i)\n",
        "    %cd .."
      ],
      "metadata": {
        "colab": {
          "base_uri": "https://localhost:8080/"
        },
        "id": "rakduQIYpilV",
        "outputId": "97f49f69-b878-425c-e1bc-d9cf6368fc4d"
      },
      "execution_count": 5,
      "outputs": [
        {
          "output_type": "stream",
          "name": "stderr",
          "text": [
            "  5%|▌         | 1/20 [00:00<00:04,  3.93it/s]"
          ]
        },
        {
          "output_type": "stream",
          "name": "stdout",
          "text": [
            "/content/drive/MyDrive/DIP project/data-v0\n"
          ]
        },
        {
          "output_type": "stream",
          "name": "stderr",
          "text": [
            " 15%|█▌        | 3/20 [00:00<00:03,  4.67it/s]"
          ]
        },
        {
          "output_type": "stream",
          "name": "stdout",
          "text": [
            "/content/drive/MyDrive/DIP project/data-v0\n",
            "/content/drive/MyDrive/DIP project/data-v0\n"
          ]
        },
        {
          "output_type": "stream",
          "name": "stderr",
          "text": [
            "\r 20%|██        | 4/20 [00:00<00:03,  4.70it/s]"
          ]
        },
        {
          "output_type": "stream",
          "name": "stdout",
          "text": [
            "/content/drive/MyDrive/DIP project/data-v0\n",
            "/content/drive/MyDrive/DIP project/data-v0\n"
          ]
        },
        {
          "output_type": "stream",
          "name": "stderr",
          "text": [
            "\r 30%|███       | 6/20 [00:01<00:02,  5.79it/s]"
          ]
        },
        {
          "output_type": "stream",
          "name": "stdout",
          "text": [
            "/content/drive/MyDrive/DIP project/data-v0\n"
          ]
        },
        {
          "output_type": "stream",
          "name": "stderr",
          "text": [
            " 40%|████      | 8/20 [00:01<00:02,  5.33it/s]"
          ]
        },
        {
          "output_type": "stream",
          "name": "stdout",
          "text": [
            "/content/drive/MyDrive/DIP project/data-v0\n",
            "/content/drive/MyDrive/DIP project/data-v0\n"
          ]
        },
        {
          "output_type": "stream",
          "name": "stderr",
          "text": [
            "100%|██████████| 20/20 [00:01<00:00, 10.51it/s]"
          ]
        },
        {
          "output_type": "stream",
          "name": "stdout",
          "text": [
            "/content/drive/MyDrive/DIP project/data-v0\n",
            "/content/drive/MyDrive/DIP project/data-v0\n",
            "/content/drive/MyDrive/DIP project/data-v0\n",
            "/content/drive/MyDrive/DIP project/data-v0\n",
            "/content/drive/MyDrive/DIP project/data-v0\n",
            "/content/drive/MyDrive/DIP project/data-v0\n",
            "/content/drive/MyDrive/DIP project/data-v0\n",
            "/content/drive/MyDrive/DIP project/data-v0\n",
            "/content/drive/MyDrive/DIP project/data-v0\n",
            "/content/drive/MyDrive/DIP project/data-v0\n",
            "/content/drive/MyDrive/DIP project/data-v0\n",
            "/content/drive/MyDrive/DIP project/data-v0\n"
          ]
        },
        {
          "output_type": "stream",
          "name": "stderr",
          "text": [
            "\n"
          ]
        }
      ]
    },
    {
      "cell_type": "code",
      "source": [
        "ims = []\n",
        "labels = []\n",
        "c = -1\n",
        "for name in tqdm(namelist):\n",
        "    c+=1\n",
        "    im = cv2.imread(name)\n",
        "    try:\n",
        "        len(im)<1\n",
        "        ims.append(im)\n",
        "        labels.append(labellist[c])\n",
        "    except:\n",
        "        pass\n",
        "    "
      ],
      "metadata": {
        "colab": {
          "base_uri": "https://localhost:8080/"
        },
        "id": "nJrstZpVrFdK",
        "outputId": "522bd801-b30e-478e-ba14-97a5990108e1"
      },
      "execution_count": 6,
      "outputs": [
        {
          "output_type": "stream",
          "name": "stderr",
          "text": [
            "100%|██████████| 251/251 [00:47<00:00,  5.33it/s]\n"
          ]
        }
      ]
    },
    {
      "cell_type": "code",
      "source": [
        "ims = np.array(ims)\n",
        "len(ims),len(labels),ims.shape"
      ],
      "metadata": {
        "colab": {
          "base_uri": "https://localhost:8080/"
        },
        "id": "5I-x-gAZrb_6",
        "outputId": "a6a1bf86-991e-4253-9084-2a604d3842ba"
      },
      "execution_count": 7,
      "outputs": [
        {
          "output_type": "execute_result",
          "data": {
            "text/plain": [
              "(231, 231, (231, 32, 32, 3))"
            ]
          },
          "metadata": {},
          "execution_count": 7
        }
      ]
    },
    {
      "cell_type": "code",
      "source": [
        "cv2_imshow(ims[0])\n",
        "print('')\n",
        "cv2_imshow(ims[10])\n",
        "print('')\n",
        "cv2_imshow(ims[100])\n"
      ],
      "metadata": {
        "id": "zwDIBHGrrdwJ",
        "colab": {
          "base_uri": "https://localhost:8080/",
          "height": 148
        },
        "outputId": "1856cf24-9cf9-41a1-ce8a-5ae81ab1aeb4"
      },
      "execution_count": 8,
      "outputs": [
        {
          "output_type": "display_data",
          "data": {
            "text/plain": [
              "<PIL.Image.Image image mode=RGB size=32x32 at 0x7F8B55E93E90>"
            ],
            "image/png": "[encoded data removed]"
          },
          "metadata": {}
        },
        {
          "output_type": "stream",
          "name": "stdout",
          "text": [
            "\n"
          ]
        },
        {
          "output_type": "display_data",
          "data": {
            "text/plain": [
              "<PIL.Image.Image image mode=RGB size=32x32 at 0x7F8B55447190>"
            ],
            "image/png": "[encoded data removed]"
          },
          "metadata": {}
        },
        {
          "output_type": "stream",
          "name": "stdout",
          "text": [
            "\n"
          ]
        },
        {
          "output_type": "display_data",
          "data": {
            "text/plain": [
              "<PIL.Image.Image image mode=RGB size=32x32 at 0x7F8B54BD44D0>"
            ],
            "image/png": "[encoded data removed]"
          },
          "metadata": {}
        }
      ]
    },
    {
      "cell_type": "markdown",
      "source": [
        "* SIGNAL BASED\n",
        "* COLOR BASED\n",
        "* EDGE BASED"
      ],
      "metadata": {
        "id": "18R15aC34B88"
      }
    },
    {
      "cell_type": "markdown",
      "source": [
        "# SIGNAL BASED"
      ],
      "metadata": {
        "id": "pSohNP4g4LC2"
      }
    },
    {
      "cell_type": "code",
      "source": [
        "from scipy.fft import fft, fftfreq, fft2, ifft2"
      ],
      "metadata": {
        "id": "oC4FIHZQBNEI"
      },
      "execution_count": 9,
      "outputs": []
    },
    {
      "cell_type": "code",
      "source": [
        "im = np.copy(ims[0])\n",
        "fft_img = np.fft.fft2(im)\n",
        "fft_img_shift = np.fft.fftshift(fft_img)\n",
        "cv2_imshow(im)\n",
        "cv2_imshow(fft_img)\n",
        "cv2_imshow(fft_img_shift)"
      ],
      "metadata": {
        "colab": {
          "base_uri": "https://localhost:8080/",
          "height": 148
        },
        "id": "J3-HUvG84ZUL",
        "outputId": "45635a6e-e76d-4e96-ba42-1d0abc3a73ad"
      },
      "execution_count": 24,
      "outputs": [
        {
          "output_type": "display_data",
          "data": {
            "text/plain": [
              "<PIL.Image.Image image mode=RGB size=32x32 at 0x7F8B51EAF110>"
            ],
            "image/png": "[encoded data removed]"
          },
          "metadata": {}
        },
        {
          "output_type": "stream",
          "name": "stderr",
          "text": [
            "/usr/local/lib/python3.7/dist-packages/google/colab/patches/__init__.py:22: ComplexWarning: Casting complex values to real discards the imaginary part\n",
            "  a = a.clip(0, 255).astype('uint8')\n"
          ]
        },
        {
          "output_type": "display_data",
          "data": {
            "text/plain": [
              "<PIL.Image.Image image mode=RGB size=32x32 at 0x7F8B51EAFE50>"
            ],
            "image/png": "[encoded data removed]"
          },
          "metadata": {}
        },
        {
          "output_type": "display_data",
          "data": {
            "text/plain": [
              "<PIL.Image.Image image mode=RGB size=32x32 at 0x7F8B51D64590>"
            ],
            "image/png": "[encoded data removed]"
          },
          "metadata": {}
        }
      ]
    },
    {
      "cell_type": "code",
      "source": [
        "sample = np.copy(fft_img_shift)"
      ],
      "metadata": {
        "id": "2lBKBrqc5IZr"
      },
      "execution_count": 25,
      "outputs": []
    },
    {
      "cell_type": "code",
      "source": [
        "s0 = sample[:,:,0]\n",
        "s1 = sample[:,:,1]\n",
        "s2 = sample[:,:,2]\n",
        "\n",
        "cv2_imshow(im[:,:,0])\n",
        "cv2_imshow(s0)\n",
        "cv2_imshow(im[:,:,1])\n",
        "cv2_imshow(s1)\n",
        "cv2_imshow(im[:,:,2])\n",
        "cv2_imshow(s2)"
      ],
      "metadata": {
        "id": "sOudGP6L5PHS",
        "colab": {
          "base_uri": "https://localhost:8080/",
          "height": 261
        },
        "outputId": "8c8009a3-7f5b-4062-ac34-63f6e055069f"
      },
      "execution_count": 28,
      "outputs": [
        {
          "output_type": "display_data",
          "data": {
            "text/plain": [
              "<PIL.Image.Image image mode=L size=32x32 at 0x7F8B51D8A9D0>"
            ],
            "image/png": "[encoded data removed]"
          },
          "metadata": {}
        },
        {
          "output_type": "stream",
          "name": "stderr",
          "text": [
            "/usr/local/lib/python3.7/dist-packages/google/colab/patches/__init__.py:22: ComplexWarning: Casting complex values to real discards the imaginary part\n",
            "  a = a.clip(0, 255).astype('uint8')\n"
          ]
        },
        {
          "output_type": "display_data",
          "data": {
            "text/plain": [
              "<PIL.Image.Image image mode=L size=32x32 at 0x7F8B51D8AC90>"
            ],
            "image/png": "[encoded data removed]"
          },
          "metadata": {}
        },
        {
          "output_type": "display_data",
          "data": {
            "text/plain": [
              "<PIL.Image.Image image mode=L size=32x32 at 0x7F8B51D8A5D0>"
            ],
            "image/png": "[encoded data removed]"
          },
          "metadata": {}
        },
        {
          "output_type": "display_data",
          "data": {
            "text/plain": [
              "<PIL.Image.Image image mode=L size=32x32 at 0x7F8B53BE2DD0>"
            ],
            "image/png": "[encoded data removed]"
          },
          "metadata": {}
        },
        {
          "output_type": "display_data",
          "data": {
            "text/plain": [
              "<PIL.Image.Image image mode=L size=32x32 at 0x7F8B51D8A5D0>"
            ],
            "image/png": "[encoded data removed]"
          },
          "metadata": {}
        },
        {
          "output_type": "display_data",
          "data": {
            "text/plain": [
              "<PIL.Image.Image image mode=L size=32x32 at 0x7F8B53BE2E10>"
            ],
            "image/png": "[encoded data removed]"
          },
          "metadata": {}
        },
        {
          "output_type": "execute_result",
          "data": {
            "text/plain": [
              "(32, 32)"
            ]
          },
          "metadata": {},
          "execution_count": 28
        }
      ]
    },
    {
      "cell_type": "code",
      "source": [
        "def distance(a,b):\n",
        "    return round(((a[0]-b[0])**2+(a[1]-b[1])**2)**0.5,2)"
      ],
      "metadata": {
        "id": "QwF1xW3pAu2S"
      },
      "execution_count": 34,
      "outputs": []
    },
    {
      "cell_type": "code",
      "source": [
        "def func(sample):\n",
        "    sample = np.copy(sample)\n",
        "    s0 = sample[:,:,0]\n",
        "    d1,d2 = s0.shape\n",
        "    m1,m2 = (d1-1)/2,(d2-1)/2\n",
        "    # print(distance([0,0],[m1,m2]))\n",
        "    ths = [4,8,12,16]\n",
        "    lavels_point = np.zeros((d1,d2))\n",
        "    for i in range(d1):\n",
        "        for j in range(d2):\n",
        "            d = distance([i,j],[m1,m1])\n",
        "            if d<ths[0]:\n",
        "                lavels_point[i][j] = 0\n",
        "            elif d<ths[1]:\n",
        "                lavels_point[i][j] = 255\n",
        "            elif d<ths[2]:\n",
        "                lavels_point[i][j] = 0\n",
        "            elif d<ths[3]:\n",
        "                lavels_point[i][j] = 255\n",
        "            else:\n",
        "                lavels_point[i][j] = 128\n",
        "    \n",
        "    cv2_imshow(lavels_point)\n",
        "\n",
        "func(sample)"
      ],
      "metadata": {
        "colab": {
          "base_uri": "https://localhost:8080/",
          "height": 49
        },
        "id": "7wfF7BN-BHco",
        "outputId": "49fd3510-9e47-446d-8fec-d2a280ca705f"
      },
      "execution_count": 44,
      "outputs": [
        {
          "output_type": "display_data",
          "data": {
            "text/plain": [
              "<PIL.Image.Image image mode=L size=32x32 at 0x7F8B51BF08D0>"
            ],
            "image/png": "[encoded data removed]"
          },
          "metadata": {}
        }
      ]
    },
    {
      "cell_type": "code",
      "source": [
        "def func(sample):\n",
        "    sample = np.copy(sample)\n",
        "    s0 = sample[:,:,0]\n",
        "    s1 = sample[:,:,1]\n",
        "    s2 = sample[:,:,2]\n",
        "    d1,d2 = s0.shape\n",
        "    m1,m2 = (d1-1)/2,(d2-1)/2\n",
        "    # print(distance([0,0],[m1,m2]))\n",
        "    ths = [4,8,12,16]\n",
        "    lavels_point = [[],[],[],[],[]]\n",
        "    for i in range(d1):\n",
        "        for j in range(d2):\n",
        "            d = distance([i,j],[m1,m1])\n",
        "            if d<ths[0]:\n",
        "                lavels_point[0].append(sample[i][j])\n",
        "            elif d<ths[1]:\n",
        "                lavels_point[1].append(sample[i][j])\n",
        "            elif d<ths[2]:\n",
        "                lavels_point[2].append(sample[i][j])\n",
        "            elif d<ths[3]:\n",
        "                lavels_point[3].append(sample[i][j])\n",
        "            else:\n",
        "                lavels_point[4].append(sample[i][j])\n",
        "    lavels_point = np.array(lavels_point)\n",
        "    return lavels_point\n",
        "\n",
        "lavels_point = func(sample)"
      ],
      "metadata": {
        "colab": {
          "base_uri": "https://localhost:8080/"
        },
        "id": "O1htvu66_dRy",
        "outputId": "4d14df83-f8a5-4ae5-b7d5-f09258059556"
      },
      "execution_count": 56,
      "outputs": [
        {
          "output_type": "stream",
          "name": "stderr",
          "text": [
            "/usr/local/lib/python3.7/dist-packages/ipykernel_launcher.py:24: VisibleDeprecationWarning: Creating an ndarray from ragged nested sequences (which is a list-or-tuple of lists-or-tuples-or ndarrays with different lengths or shapes) is deprecated. If you meant to do this, you must specify 'dtype=object' when creating the ndarray.\n"
          ]
        }
      ]
    },
    {
      "cell_type": "code",
      "source": [
        "out = [np.mean(lavels_point[0]),np.mean(lavels_point[1]),np.mean(lavels_point[2]),np.mean(lavels_point[3]),np.mean(lavels_point[4])]\n",
        "absout = list(map(abs,out))\n",
        "for i in range(len(out)):\n",
        "    print(out[i],'\\n   ---------------------------------------> ',absout[i])"
      ],
      "metadata": {
        "colab": {
          "base_uri": "https://localhost:8080/"
        },
        "id": "D7qwFCFtDSmP",
        "outputId": "195a072c-4b14-47f6-ef6c-3b32ad236b94"
      },
      "execution_count": 57,
      "outputs": [
        {
          "output_type": "stream",
          "name": "stdout",
          "text": [
            "(344.61848765284475+4.239451348040447j) \n",
            "   --------------------------------------->  344.64456325302206\n",
            "(113.4202883212645+3.709230452653672j) \n",
            "   --------------------------------------->  113.4809243592493\n",
            "(70.33016438785126-0.7327957353524178j) \n",
            "   --------------------------------------->  70.33398191778943\n",
            "(51.49673775197299+0.15189204307414905j) \n",
            "   --------------------------------------->  51.496961757837994\n",
            "(3.5953852317563273-3.2005148486155037j) \n",
            "   --------------------------------------->  4.813531994382069\n"
          ]
        }
      ]
    },
    {
      "cell_type": "code",
      "source": [
        "np.array(lavels_point[0]).shape"
      ],
      "metadata": {
        "colab": {
          "base_uri": "https://localhost:8080/"
        },
        "id": "XWKjvDt8EdBm",
        "outputId": "b112014a-9a3e-41d1-ec08-24cfff7bc75c"
      },
      "execution_count": 62,
      "outputs": [
        {
          "output_type": "execute_result",
          "data": {
            "text/plain": [
              "(52, 3)"
            ]
          },
          "metadata": {},
          "execution_count": 62
        }
      ]
    },
    {
      "cell_type": "code",
      "source": [
        ""
      ],
      "metadata": {
        "id": "vftwiQvKFU78"
      },
      "execution_count": null,
      "outputs": []
    }
  ]
}